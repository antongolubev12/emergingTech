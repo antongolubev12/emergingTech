{
 "cells": [
  {
   "cell_type": "markdown",
   "id": "d000a5ae",
   "metadata": {},
   "source": [
    "<h1 style=\"font-size:3rem; color:darkblue;\">Emerging Technologies Tasks</h1>"
   ]
  },
  {
   "cell_type": "markdown",
   "id": "1ebaf541",
   "metadata": {},
   "source": [
    "# Using Jupyter Notebook"
   ]
  },
  {
   "cell_type": "markdown",
   "id": "d8d01773",
   "metadata": {},
   "source": [
    "### Tips\n",
    "- shift+enter to run cells\n",
    "- Press Esc to use keyboard shortcuts\n",
    "- After that, press m to change a cell to markdown\n",
    "- And press y to change it to code"
   ]
  },
  {
   "cell_type": "markdown",
   "id": "a008cad5",
   "metadata": {
    "tags": []
   },
   "source": [
    "# Insert a variable into a string"
   ]
  },
  {
   "cell_type": "code",
   "execution_count": 3,
   "id": "f25568f2-68f4-4bbe-a706-3fce2440314a",
   "metadata": {},
   "outputs": [
    {
     "name": "stdout",
     "output_type": "stream",
     "text": [
      "What's your name?Anton\n",
      "Hello, Anton!\n"
     ]
    }
   ],
   "source": [
    "person= input(\"What's your name?\")\n",
    "message= \"Hello, {}!\".format(person)\n",
    "print (message)"
   ]
  },
  {
   "cell_type": "markdown",
   "id": "036f40fa",
   "metadata": {},
   "source": [
    "# Math Operations"
   ]
  },
  {
   "cell_type": "code",
   "execution_count": 4,
   "id": "fe2ebfba",
   "metadata": {},
   "outputs": [
    {
     "name": "stdout",
     "output_type": "stream",
     "text": [
      "5.25\n",
      "1\n"
     ]
    }
   ],
   "source": [
    "x=7 \n",
    "y=4\n",
    "z= (x*3)/y\n",
    "m=(x*3)%y #modulus returns remainder\n",
    "print(z)\n",
    "print(m)"
   ]
  },
  {
   "cell_type": "markdown",
   "id": "425e0181",
   "metadata": {},
   "source": [
    "### Lists (arrays)"
   ]
  },
  {
   "cell_type": "code",
   "execution_count": null,
   "id": "63ed2567",
   "metadata": {},
   "outputs": [],
   "source": [
    "friends = ['Monica','Phoebe']"
   ]
  }
 ],
 "metadata": {
  "kernelspec": {
   "display_name": "Python 3",
   "language": "python",
   "name": "python3"
  },
  "language_info": {
   "codemirror_mode": {
    "name": "ipython",
    "version": 3
   },
   "file_extension": ".py",
   "mimetype": "text/x-python",
   "name": "python",
   "nbconvert_exporter": "python",
   "pygments_lexer": "ipython3",
   "version": "3.8.8"
  }
 },
 "nbformat": 4,
 "nbformat_minor": 5
}
