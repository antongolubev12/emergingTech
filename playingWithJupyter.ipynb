{
 "cells": [
  {
   "cell_type": "code",
   "execution_count": 4,
   "id": "6448d530-30da-42be-a415-282ddfe3be82",
   "metadata": {},
   "outputs": [],
   "source": [
    "i=1\n",
    "j=2\n",
    "k=i+j"
   ]
  },
  {
   "cell_type": "code",
   "execution_count": 5,
   "id": "5559bff5-0fe1-4627-8e75-fce7a2066c5a",
   "metadata": {},
   "outputs": [
    {
     "data": {
      "text/plain": [
       "3"
      ]
     },
     "execution_count": 5,
     "metadata": {},
     "output_type": "execute_result"
    }
   ],
   "source": [
    "k"
   ]
  },
  {
   "cell_type": "markdown",
   "id": "ad1ebad1-d8d5-4f8c-b9a5-bf87685fec43",
   "metadata": {
    "tags": []
   },
   "source": [
    "#### shift+enter to run cells\n",
    "## This is a markdown heading\n",
    "\n",
    "**bold text** \n",
    "\n",
    "- List 1\n",
    "- List 2\n",
    "- List 3\n",
    "\n",
    "![](https://upload.wikimedia.org/wikipedia/commons/thumb/5/58/Latin_capital_letter_AY.svg/1200px-Latin_capital_letter_AY.svg.png)"
   ]
  },
  {
   "cell_type": "code",
   "execution_count": null,
   "id": "f25568f2-68f4-4bbe-a706-3fce2440314a",
   "metadata": {},
   "outputs": [],
   "source": []
  }
 ],
 "metadata": {
  "kernelspec": {
   "display_name": "Python 3",
   "language": "python",
   "name": "python3"
  },
  "language_info": {
   "codemirror_mode": {
    "name": "ipython",
    "version": 3
   },
   "file_extension": ".py",
   "mimetype": "text/x-python",
   "name": "python",
   "nbconvert_exporter": "python",
   "pygments_lexer": "ipython3",
   "version": "3.8.8"
  }
 },
 "nbformat": 4,
 "nbformat_minor": 5
}
