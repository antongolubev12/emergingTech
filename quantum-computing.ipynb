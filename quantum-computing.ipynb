{
 "cells": [
  {
   "cell_type": "markdown",
   "id": "dcf63b5c-6b67-4a0a-b9e1-89da8a56f7bc",
   "metadata": {},
   "source": [
    "# Quantum Computing "
   ]
  },
  {
   "cell_type": "markdown",
   "id": "6665617c-2923-4ab9-b1b7-c6c8eef59d44",
   "metadata": {},
   "source": [
    "## What is it?\n",
    "A quantum computer works by controlling electrons and photons in a way that is completely different from a regular computer. A quantum computer is not just a more powerful version of our current computers.  \n",
    "A quantum computer is a new kind of device that is based on the science of __quantum physics__.  \n"
   ]
  },
  {
   "cell_type": "markdown",
   "id": "631432a4-0b63-467e-95cb-b48ce4659192",
   "metadata": {},
   "source": [
    "## Quantum computing vs Classical computing"
   ]
  },
  {
   "cell_type": "markdown",
   "id": "50e86306-2bb4-4f9e-966c-2cf84aa4e86f",
   "metadata": {},
   "source": [
    "### Bits:"
   ]
  },
  {
   "cell_type": "markdown",
   "id": "5cc4a474-cd1d-470f-8456-9b358c835e7a",
   "metadata": {},
   "source": [
    "__Classical Computing__:  \n",
    "In classic computers, calculations are done with transistors, also know as bits  \n",
    "The state of bits is either 0 or 1..  \n",
    "\n",
    "__Quantum Computing__:  \n",
    "In quantum computers, calculations are done with quantum bits (qubit). They are more fluid. Qubits can be in any proportion/hybrid position of both 0 and 1. This is called a __superposition__.  \n",
    "In other words, qubits can be either 0 or a 1, but also a combination of both. \n",
    "As long as a qubit is unobserved, it is in a superposition of 0 and 1 and its value cannot be predicted. However, the instant you measure a qubit, it will collapse into either 0 or 1.    \n"
   ]
  },
  {
   "cell_type": "markdown",
   "id": "7dc60233-7473-4414-8ca6-08bf5d090cff",
   "metadata": {},
   "source": [
    "### Position of Bits:"
   ]
  },
  {
   "cell_type": "markdown",
   "id": "8fd93344-aabd-434a-af2e-058816e044a4",
   "metadata": {},
   "source": [
    "__Classical Computing__:  \n",
    "* Four classical computer bits can be in one of 16 possible combinations.\n",
    "* Bits are represented as integers."
   ]
  },
  {
   "cell_type": "markdown",
   "id": "48ea97a4-de9b-4b44-84e3-784aa5ae5204",
   "metadata": {},
   "source": [
    "\n",
    "| 0000 | 0001 | 0010 | 0011 |\n",
    "|------|------|------|------|\n",
    "| 0100 | 0101 | 0110 | 0111 |\n",
    "| 1000 | 1001 | 1010 | 1011 |\n",
    "| 1100 | 1101 | 1110 | 1111 |\n"
   ]
  },
  {
   "cell_type": "markdown",
   "id": "284806c8-52d4-496a-a8d9-a2d99007fb9e",
   "metadata": {},
   "source": [
    "__Quantum Computing__:  \n",
    "* Four qubits in superposition can be in all of these states all at once. \n",
    "* The number of combinations grows exponentially as qubits are added. \n",
    "* The state of qubits is represented using complex numbers. Namely, they are represented by of an electron or the polarisation of the photon.[22]"
   ]
  },
  {
   "cell_type": "markdown",
   "id": "f12b3977-1bf4-4771-a9f9-bd14234486ab",
   "metadata": {},
   "source": [
    "### Computation Time\n",
    "Due to the fact that quantum computers are based on __quantum physics__, they offer entirely different computational abilities than classical computers that are based on __classical physics__.  \n",
    "This is to the fluid nature of qubits. A quantum computer’s power grows exponentially when the amount qubits linked together is increased.  \n",
    "  \n",
    "This contrasts classical computers, which sees a linear power increase as the  number of transistors in it increases.\n"
   ]
  },
  {
   "cell_type": "markdown",
   "id": "8d150a8f-23b2-45a9-9784-4c967fd79561",
   "metadata": {},
   "source": [
    "#### Rivest–Shamir–Adleman) algorithm\n",
    "An example of the different in power between the two types is the RSA (Rivest–Shamir–Adleman) algorithm. It is an asymmetric cryptography algorithm that uses public key and a private key to encrypt data. It would take a classic computer billions of years to break crack encryption this algorithm provides. However, it would take a quantum computer only a __few hours__. [21]\n"
   ]
  },
  {
   "cell_type": "markdown",
   "id": "8c75a822-acae-4ab1-89df-c84f863ee8f0",
   "metadata": {},
   "source": [
    "### Uses of Quantum Computers"
   ]
  },
  {
   "cell_type": "markdown",
   "id": "f9d4f718-6e67-4a12-8138-65a6e6bc3573",
   "metadata": {},
   "source": [
    "#### Simulations \n",
    "Googles quantum computer successfully simulated a chemical reaction. This achievement could potentially make headways in the field of quantum chemistry which could aids scientists with useful discoveries. [23]  \n",
    "Simulations have lots of applications in drug or material design, industrial processes or data processing. \n",
    "\n",
    "#### AI\n",
    "Quantum computers have the ability to process huge datasets extremely quickly. This in combination with their simulation ability makes them extremely well suited for use in AI and in data science.\n",
    "\n",
    "#### Cyber Security and Cryptography\n",
    "Due to their ability to sophisticated modern encryption algorithms, they can be used to break encryption but also to create unbreakable encryption. [24]\n"
   ]
  },
  {
   "cell_type": "markdown",
   "id": "e7a71cdc-9d86-43af-ad3d-6ef2e4b7e65d",
   "metadata": {},
   "source": [
    "## Drawbacks of Quantum Computers "
   ]
  },
  {
   "cell_type": "markdown",
   "id": "427a0995-dba4-46cf-a399-b274135ba0b7",
   "metadata": {},
   "source": [
    "Quantum computers have very complicated and heavy duty use cases. That being said, due to how rare and expensive they are, they are unlikely to replace classical computing entirely.   \n",
    "The use of quantum computers would simply not make sense for the average person that is using a computer tasks that don't involve the uses listed above. "
   ]
  },
  {
   "cell_type": "markdown",
   "id": "1b267e28-9a03-41fd-8d8e-4098f8a99f15",
   "metadata": {},
   "source": [
    "# Deutsch's algorithm"
   ]
  },
  {
   "cell_type": "markdown",
   "id": "93518198-41fb-4b11-95ba-56bebad871e5",
   "metadata": {},
   "source": [
    "## The Problem:"
   ]
  },
  {
   "cell_type": "markdown",
   "id": "69eebd48-62fd-4841-9ee9-2d96e26f1d46",
   "metadata": {},
   "source": [
    "You are given a function of $f$. This function takes in a list of bits (0 or a 1) and returns either a 0 or a 1, based on the input.  \n",
    "The problem/ challenge presented by Deutsch is to find out whether the given function is either a constant or a balanced function.\n"
   ]
  },
  {
   "cell_type": "markdown",
   "id": "af07b47a-55e5-49ec-8ee0-d5f1693f5c07",
   "metadata": {},
   "source": [
    "A __constant function__ is the a function that always returns the same value no matter what input it is given"
   ]
  },
  {
   "cell_type": "code",
   "execution_count": 5,
   "id": "ec4b2bfd-11c4-4f86-9a1e-0bb4c9e664a0",
   "metadata": {},
   "outputs": [],
   "source": [
    "#one bit example\n",
    "def const(x):\n",
    "    return 1"
   ]
  },
  {
   "cell_type": "code",
   "execution_count": 6,
   "id": "6f7e60a7-616b-4a10-ae18-dc3633dcc325",
   "metadata": {},
   "outputs": [
    {
     "data": {
      "text/plain": [
       "1"
      ]
     },
     "execution_count": 6,
     "metadata": {},
     "output_type": "execute_result"
    }
   ],
   "source": [
    "const(0)"
   ]
  },
  {
   "cell_type": "code",
   "execution_count": 7,
   "id": "6fccd9fc-0bb9-4b4e-a948-cabf2ff1dcb2",
   "metadata": {},
   "outputs": [
    {
     "data": {
      "text/plain": [
       "1"
      ]
     },
     "execution_count": 7,
     "metadata": {},
     "output_type": "execute_result"
    }
   ],
   "source": [
    "const(1)"
   ]
  },
  {
   "cell_type": "markdown",
   "id": "388aadb9-a64a-42b1-9a25-31bee542751a",
   "metadata": {},
   "source": [
    "A __balanced function__ is a function that returns 0 for half of the inputs and 1 for the other half"
   ]
  },
  {
   "cell_type": "code",
   "execution_count": 20,
   "id": "c2ee2fa6-e25f-470d-bf19-79296245414b",
   "metadata": {},
   "outputs": [],
   "source": [
    "#another one bit example\n",
    "def balanced(x):\n",
    "    return x"
   ]
  },
  {
   "cell_type": "code",
   "execution_count": 21,
   "id": "e2783436-e226-4043-90eb-335b4fa4169c",
   "metadata": {},
   "outputs": [
    {
     "data": {
      "text/plain": [
       "0"
      ]
     },
     "execution_count": 21,
     "metadata": {},
     "output_type": "execute_result"
    }
   ],
   "source": [
    "balanced(0)"
   ]
  },
  {
   "cell_type": "code",
   "execution_count": 22,
   "id": "7a4a0c12-9f6e-41e2-b02c-c3a4afa616a5",
   "metadata": {},
   "outputs": [
    {
     "data": {
      "text/plain": [
       "1"
      ]
     },
     "execution_count": 22,
     "metadata": {},
     "output_type": "execute_result"
    }
   ],
   "source": [
    "balanced(1)"
   ]
  },
  {
   "cell_type": "code",
   "execution_count": 23,
   "id": "6a712f9f-0de2-48f4-b080-8c0c0b294529",
   "metadata": {},
   "outputs": [],
   "source": [
    "def balanced2(x):\n",
    "    return ((x+1)%2)"
   ]
  },
  {
   "cell_type": "code",
   "execution_count": 24,
   "id": "9c9a3b0a-0c98-4fcf-8171-817715c6bf5c",
   "metadata": {},
   "outputs": [
    {
     "data": {
      "text/plain": [
       "0"
      ]
     },
     "execution_count": 24,
     "metadata": {},
     "output_type": "execute_result"
    }
   ],
   "source": [
    "balanced2(1)"
   ]
  },
  {
   "cell_type": "code",
   "execution_count": 25,
   "id": "374fd5b7-d571-4d4f-a561-29d3b25283c2",
   "metadata": {},
   "outputs": [
    {
     "data": {
      "text/plain": [
       "1"
      ]
     },
     "execution_count": 25,
     "metadata": {},
     "output_type": "execute_result"
    }
   ],
   "source": [
    "balanced2(0)"
   ]
  },
  {
   "cell_type": "code",
   "execution_count": null,
   "id": "c48eb3c7-a699-49f5-a81a-e0bd8d842602",
   "metadata": {},
   "outputs": [],
   "source": []
  }
 ],
 "metadata": {
  "kernelspec": {
   "display_name": "Python 3",
   "language": "python",
   "name": "python3"
  },
  "language_info": {
   "codemirror_mode": {
    "name": "ipython",
    "version": 3
   },
   "file_extension": ".py",
   "mimetype": "text/x-python",
   "name": "python",
   "nbconvert_exporter": "python",
   "pygments_lexer": "ipython3",
   "version": "3.8.8"
  }
 },
 "nbformat": 4,
 "nbformat_minor": 5
}
