{
 "cells": [
  {
   "cell_type": "markdown",
   "id": "dcf63b5c-6b67-4a0a-b9e1-89da8a56f7bc",
   "metadata": {},
   "source": [
    "# Quantum Computing "
   ]
  },
  {
   "cell_type": "markdown",
   "id": "6665617c-2923-4ab9-b1b7-c6c8eef59d44",
   "metadata": {},
   "source": [
    "## What is it?\n",
    "A quantum computer works by controlling electrons and photons in a way that is completely different from a regular computer. A quantum computer is not just a more powerful version of our current computers.  \n",
    "A quantum computer is a new kind of device that is based on the science of __quantum physics__.  \n"
   ]
  },
  {
   "cell_type": "markdown",
   "id": "631432a4-0b63-467e-95cb-b48ce4659192",
   "metadata": {},
   "source": [
    "## Quantum computing vs Classical computing"
   ]
  },
  {
   "cell_type": "markdown",
   "id": "50e86306-2bb4-4f9e-966c-2cf84aa4e86f",
   "metadata": {},
   "source": [
    "### Bits:"
   ]
  },
  {
   "cell_type": "markdown",
   "id": "5cc4a474-cd1d-470f-8456-9b358c835e7a",
   "metadata": {},
   "source": [
    "__Classical Computing__:  \n",
    "In classic computers, calculations are done with transistors, also know as bits  \n",
    "The state of bits is either 0 or 1..  \n",
    "\n",
    "__Quantum Computing__:  \n",
    "In quantum computers, calculations are done with quantum bits (qubit). They are more fluid. Qubits can be in any proportion/hybrid position of both 0 and 1. This is called a __superposition__.  \n",
    "In other words, qubits can be either 0 or a 1, but also a combination of both. \n",
    "As long as a qubit is unobserved, it is in a superposition of 0 and 1 and its value cannot be predicted. However, the instant you measure a qubit, it will collapse into either 0 or 1.    \n"
   ]
  },
  {
   "cell_type": "markdown",
   "id": "7dc60233-7473-4414-8ca6-08bf5d090cff",
   "metadata": {},
   "source": [
    "### Position of Bits:"
   ]
  },
  {
   "cell_type": "markdown",
   "id": "8fd93344-aabd-434a-af2e-058816e044a4",
   "metadata": {},
   "source": [
    "__Classical Computing__:  \n",
    "* Four classical computer bits can be in one of 16 possible combinations.\n",
    "* Bits are represented as integers. Their possible states are shown below"
   ]
  },
  {
   "cell_type": "markdown",
   "id": "48ea97a4-de9b-4b44-84e3-784aa5ae5204",
   "metadata": {},
   "source": [
    "\n",
    "| 0000 | 0001 | 0010 | 0011 |\n",
    "|------|------|------|------|\n",
    "| 0100 | 0101 | 0110 | 0111 |\n",
    "| 1000 | 1001 | 1010 | 1011 |\n",
    "| 1100 | 1101 | 1110 | 1111 |\n"
   ]
  },
  {
   "cell_type": "markdown",
   "id": "284806c8-52d4-496a-a8d9-a2d99007fb9e",
   "metadata": {},
   "source": [
    "__Quantum Computing__:  \n",
    "* Four qubits in superposition can be in all of these states all at once. \n",
    "* The number of combinations grows exponentially as qubits are added. \n",
    "* The state of qubits is represented using complex numbers. Namely, they are represented by of an electron or the polarisation of the photon.[22]"
   ]
  },
  {
   "cell_type": "markdown",
   "id": "b1193d78-26b8-4bc3-bf5d-75dd03930de3",
   "metadata": {},
   "source": [
    "### Qubit notation"
   ]
  },
  {
   "cell_type": "markdown",
   "id": "8293d885-8132-4e9d-85b0-8cb86d448193",
   "metadata": {},
   "source": [
    "- The notation for representing qubits is $|\\psi \\rangle =\\begin{bmatrix}  \\alpha \\\\ \\beta \\end{bmatrix}$\n",
    "- When $\\alpha$ and $\\beta$ are squared, then the result must equal to one. \n",
    "- $\\alpha^2 + \\beta^2 = 1 $"
   ]
  },
  {
   "cell_type": "markdown",
   "id": "f12b3977-1bf4-4771-a9f9-bd14234486ab",
   "metadata": {},
   "source": [
    "### Computation Time\n",
    "Due to the fact that quantum computers are based on __quantum physics__, they offer entirely different computational abilities than classical computers that are based on __classical physics__.  \n",
    "This is to the fluid nature of qubits. A quantum computer’s power grows exponentially when the amount qubits linked together is increased.  \n",
    "  \n",
    "This contrasts classical computers, which sees a linear power increase as the  number of transistors in it increases.\n"
   ]
  },
  {
   "cell_type": "markdown",
   "id": "8d150a8f-23b2-45a9-9784-4c967fd79561",
   "metadata": {},
   "source": [
    "#### Rivest–Shamir–Adleman) algorithm\n",
    "An example of the different in power between the two types is the RSA (Rivest–Shamir–Adleman) algorithm. It is an asymmetric cryptography algorithm that uses public key and a private key to encrypt data. It would take a classic computer billions of years to break crack encryption this algorithm provides. However, it would take a quantum computer only a __few hours__. [21]\n"
   ]
  },
  {
   "cell_type": "markdown",
   "id": "8c75a822-acae-4ab1-89df-c84f863ee8f0",
   "metadata": {},
   "source": [
    "### Uses of Quantum Computers"
   ]
  },
  {
   "cell_type": "markdown",
   "id": "f9d4f718-6e67-4a12-8138-65a6e6bc3573",
   "metadata": {},
   "source": [
    "#### Simulations \n",
    "Googles quantum computer successfully simulated a chemical reaction. This achievement could potentially make headways in the field of quantum chemistry which could aids scientists with useful discoveries. [23]  \n",
    "Simulations have lots of applications in drug or material design, industrial processes or data processing. \n",
    "\n",
    "#### AI\n",
    "Quantum computers have the ability to process huge datasets extremely quickly. This in combination with their simulation ability makes them extremely well suited for use in AI and in data science.\n",
    "\n",
    "#### Cyber Security and Cryptography\n",
    "Due to their ability to sophisticated modern encryption algorithms, they can be used to break encryption but also to create unbreakable encryption. [24]\n"
   ]
  },
  {
   "cell_type": "markdown",
   "id": "e7a71cdc-9d86-43af-ad3d-6ef2e4b7e65d",
   "metadata": {},
   "source": [
    "## Drawbacks of Quantum Computers "
   ]
  },
  {
   "cell_type": "markdown",
   "id": "427a0995-dba4-46cf-a399-b274135ba0b7",
   "metadata": {},
   "source": [
    "Quantum computers have very complicated and heavy duty use cases. That being said, due to how rare and expensive they are, they are unlikely to replace classical computing entirely.   \n",
    "The use of quantum computers would simply not make sense for the average person that is using a computer tasks that don't involve the uses listed above. "
   ]
  },
  {
   "cell_type": "markdown",
   "id": "1b267e28-9a03-41fd-8d8e-4098f8a99f15",
   "metadata": {},
   "source": [
    "# Deutsch's algorithm"
   ]
  },
  {
   "cell_type": "markdown",
   "id": "93518198-41fb-4b11-95ba-56bebad871e5",
   "metadata": {},
   "source": [
    "## The Problem:"
   ]
  },
  {
   "cell_type": "markdown",
   "id": "69eebd48-62fd-4841-9ee9-2d96e26f1d46",
   "metadata": {},
   "source": [
    "You are given a function of $f$. The function is hidden and what it does is not disclosed. This function takes in a list of bits (0 or a 1) and returns either a 0 or a 1, based on the input.  \n",
    "The problem/ challenge presented by Deutsch is to find out whether the given function is either a constant or a balanced function.\n"
   ]
  },
  {
   "cell_type": "markdown",
   "id": "af07b47a-55e5-49ec-8ee0-d5f1693f5c07",
   "metadata": {},
   "source": [
    "A __constant function__ is the a function that always returns the same value no matter what input it is given"
   ]
  },
  {
   "cell_type": "code",
   "execution_count": 1,
   "id": "ec4b2bfd-11c4-4f86-9a1e-0bb4c9e664a0",
   "metadata": {},
   "outputs": [],
   "source": [
    "#one bit example\n",
    "def const(x):\n",
    "    return 1"
   ]
  },
  {
   "cell_type": "code",
   "execution_count": 2,
   "id": "6f7e60a7-616b-4a10-ae18-dc3633dcc325",
   "metadata": {},
   "outputs": [
    {
     "data": {
      "text/plain": [
       "1"
      ]
     },
     "execution_count": 2,
     "metadata": {},
     "output_type": "execute_result"
    }
   ],
   "source": [
    "const(0)"
   ]
  },
  {
   "cell_type": "code",
   "execution_count": 3,
   "id": "6fccd9fc-0bb9-4b4e-a948-cabf2ff1dcb2",
   "metadata": {},
   "outputs": [
    {
     "data": {
      "text/plain": [
       "1"
      ]
     },
     "execution_count": 3,
     "metadata": {},
     "output_type": "execute_result"
    }
   ],
   "source": [
    "const(1)"
   ]
  },
  {
   "cell_type": "markdown",
   "id": "388aadb9-a64a-42b1-9a25-31bee542751a",
   "metadata": {},
   "source": [
    "A __balanced function__ is a function that returns 0 for half of the inputs and 1 for the other half"
   ]
  },
  {
   "cell_type": "code",
   "execution_count": 4,
   "id": "c2ee2fa6-e25f-470d-bf19-79296245414b",
   "metadata": {},
   "outputs": [],
   "source": [
    "#another one bit example\n",
    "def balanced(x):\n",
    "    return x"
   ]
  },
  {
   "cell_type": "code",
   "execution_count": 5,
   "id": "e2783436-e226-4043-90eb-335b4fa4169c",
   "metadata": {},
   "outputs": [
    {
     "data": {
      "text/plain": [
       "0"
      ]
     },
     "execution_count": 5,
     "metadata": {},
     "output_type": "execute_result"
    }
   ],
   "source": [
    "balanced(0)"
   ]
  },
  {
   "cell_type": "code",
   "execution_count": 6,
   "id": "7a4a0c12-9f6e-41e2-b02c-c3a4afa616a5",
   "metadata": {},
   "outputs": [
    {
     "data": {
      "text/plain": [
       "1"
      ]
     },
     "execution_count": 6,
     "metadata": {},
     "output_type": "execute_result"
    }
   ],
   "source": [
    "balanced(1)"
   ]
  },
  {
   "cell_type": "code",
   "execution_count": 7,
   "id": "6a712f9f-0de2-48f4-b080-8c0c0b294529",
   "metadata": {},
   "outputs": [],
   "source": [
    "def balanced2(x):\n",
    "    return ((x+1)%2)"
   ]
  },
  {
   "cell_type": "code",
   "execution_count": 8,
   "id": "9c9a3b0a-0c98-4fcf-8171-817715c6bf5c",
   "metadata": {},
   "outputs": [
    {
     "data": {
      "text/plain": [
       "0"
      ]
     },
     "execution_count": 8,
     "metadata": {},
     "output_type": "execute_result"
    }
   ],
   "source": [
    "balanced2(1)"
   ]
  },
  {
   "cell_type": "code",
   "execution_count": 9,
   "id": "374fd5b7-d571-4d4f-a561-29d3b25283c2",
   "metadata": {},
   "outputs": [
    {
     "data": {
      "text/plain": [
       "1"
      ]
     },
     "execution_count": 9,
     "metadata": {},
     "output_type": "execute_result"
    }
   ],
   "source": [
    "balanced2(0)"
   ]
  },
  {
   "cell_type": "markdown",
   "id": "8bb829c4-d71f-41d7-ae38-c7a62db7fad0",
   "metadata": {},
   "source": [
    "## The Significance of Deutsch's algorithm"
   ]
  },
  {
   "cell_type": "markdown",
   "id": "a1f22781-c453-4d18-9ca0-2372d379ba1d",
   "metadata": {},
   "source": [
    "The above functions only have one bit as an input, and as such the problem would be easy to solve using a classical computer.  \n",
    "However, as more bits are added to $f$, then the amount of calls a classical computer would need to do to a function that figures out if $f$ was balanced or constant would increase exponentially.  "
   ]
  },
  {
   "cell_type": "markdown",
   "id": "3956c7cc-c487-48de-b074-cd6266c82013",
   "metadata": {},
   "source": [
    "Deutsch's algorithm is __meant to demonstrate that a quantum computer can perform a task more efficiently than a classical computer__ and it does this successfully.  \n",
    "Using this algorithm/problem, we will see that a quantum computer will only ever need __one__ call to solve this problem.  "
   ]
  },
  {
   "cell_type": "markdown",
   "id": "e50c1bab-8fd1-4629-90e7-8613ec24523d",
   "metadata": {},
   "source": [
    "### Classical computer solution :"
   ]
  },
  {
   "cell_type": "markdown",
   "id": "88f47ffa-753c-481f-9799-6ab443736117",
   "metadata": {},
   "source": [
    "Lets say $f$ accepts two bits this time. The possible configurations of two bits is:"
   ]
  },
  {
   "cell_type": "markdown",
   "id": "3642c0e1-033f-4859-ad9e-beb5fe2895e4",
   "metadata": {},
   "source": [
    "| x1 | x2 |\n",
    "|----|----|\n",
    "| 0  | 0  |\n",
    "| 0  | 1  |\n",
    "| 1  | 0  |\n",
    "| 1  | 1  |"
   ]
  },
  {
   "cell_type": "markdown",
   "id": "7e49d038-c36b-4f42-9b9d-7a34b7fbcc9e",
   "metadata": {},
   "source": [
    "If the classical computer got lucky and called the hidden function $f$ twice, and for the first call recieved a 0 and for the second recieved a 1, then the computer knows $f$ is balanced because it has two different outputs.  \n",
    "However, if that the first two outputs of the first two inputs are the same, then the function looks like its constant outputs are the same. However to verify this, the computer would need to make an additional call to the function to make sure that it is indeed constant.   "
   ]
  },
  {
   "cell_type": "markdown",
   "id": "23d7db58-7ea7-4d88-937d-74ec038a2ad3",
   "metadata": {},
   "source": [
    "Another way of phrasing the above is to say that the fastest that a classical computer could solve Deutsch's problem is the time it would take it to call __half of all possible inputs plus 1__, or $2^{n-1}+1$ . If more bits were added to the input, this would still hold true."
   ]
  },
  {
   "cell_type": "markdown",
   "id": "e29fb232-aed3-4480-8721-0f3c79b623e8",
   "metadata": {},
   "source": [
    "# Quantum Computer Solution using qiskit :"
   ]
  },
  {
   "cell_type": "markdown",
   "id": "aa8d3ccc-9085-4d7e-a185-67968e0aabab",
   "metadata": {},
   "source": [
    "A quantum computer will only ever need __one__ call to solve the problem. This is because a quantum circuit is able to consider all of the possible inputs that could have come into the circuit and it can immediately figure out whether $f$ is constant or balanced. "
   ]
  },
  {
   "cell_type": "markdown",
   "id": "4157fe49-7421-478d-bea2-48483ab8e00b",
   "metadata": {},
   "source": [
    "In order to apply Deutsch's algorithm to a circuit, you must create a circuit with the required about of qubits plus an extra qubit.  \n",
    "The last qubit is a control qubit. All qubits except for the last one are input qubits.  "
   ]
  },
  {
   "cell_type": "markdown",
   "id": "ecd22dfe-5cf2-4c72-8eec-fc8cc7abca9a",
   "metadata": {},
   "source": [
    "#### Below, the circuit simulates a one qubit constant zero function.  "
   ]
  },
  {
   "cell_type": "code",
   "execution_count": 10,
   "id": "ae13f14e-0b30-4020-b882-f35182b546e4",
   "metadata": {},
   "outputs": [],
   "source": [
    "import qiskit as q\n",
    "\n",
    "#aer simulator\n",
    "import qiskit.providers.aer as aer\n",
    "\n",
    "#Diagrams \n",
    "import matplotlib.pyplot as plt "
   ]
  },
  {
   "cell_type": "code",
   "execution_count": 11,
   "id": "9e20310c-52b7-4854-aa2a-e50e3fab7cc9",
   "metadata": {},
   "outputs": [],
   "source": [
    "#create a quantum circuit\n",
    "#two qubits and two classical bits\n",
    "circuit = q.QuantumCircuit(2,1)"
   ]
  },
  {
   "cell_type": "code",
   "execution_count": 12,
   "id": "c385de39-5626-4da0-b9b2-7cc5e5f87661",
   "metadata": {},
   "outputs": [
    {
     "data": {
      "text/plain": [
       "<qiskit.circuit.instructionset.InstructionSet at 0x1b77e1a7980>"
      ]
     },
     "execution_count": 12,
     "metadata": {},
     "output_type": "execute_result"
    }
   ],
   "source": [
    "#Set first qubit to a quantum 0\n",
    "#In this qubit, the possibility of it measuring to a zero is 1\n",
    "#And the probability of it measuring to a 1 is 0.\n",
    "circuit.initialize([1,0],0)"
   ]
  },
  {
   "cell_type": "markdown",
   "id": "f2fcdd48-b53d-4a69-bfdf-e60840938a8c",
   "metadata": {},
   "source": [
    "The state of this qubit is represented as $|0 \\rangle =\\begin{bmatrix} 1\\\\ 0 \\end{bmatrix}$ in bra ket notation"
   ]
  },
  {
   "cell_type": "markdown",
   "id": "f4f4dd86-e73b-4df7-ba27-37dc8d89e8a6",
   "metadata": {},
   "source": [
    "The initial state of this qubit represents the input to function $f$ in Deutsch's algorithm"
   ]
  },
  {
   "cell_type": "code",
   "execution_count": 13,
   "id": "5ff0cc66-a819-401f-8d17-1a15fc71c845",
   "metadata": {},
   "outputs": [
    {
     "data": {
      "text/plain": [
       "<qiskit.circuit.instructionset.InstructionSet at 0x1b77e1ac200>"
      ]
     },
     "execution_count": 13,
     "metadata": {},
     "output_type": "execute_result"
    }
   ],
   "source": [
    "#Set first qubit to a quantum 1\n",
    "#In this qubit, the possibility of it measuring to one is 1\n",
    "#And the probability of it measuring to a zero is 0.\n",
    "circuit.initialize([0,1],1)"
   ]
  },
  {
   "cell_type": "markdown",
   "id": "e995d7b3-7324-412c-8efe-a8161375e503",
   "metadata": {},
   "source": [
    "The state of this qubit is represented as $|1 \\rangle =\\begin{bmatrix} 0\\\\ 1 \\end{bmatrix}$ in bra ket notation"
   ]
  },
  {
   "cell_type": "markdown",
   "id": "e506809b-7da2-4495-a032-5dbbdc2f451f",
   "metadata": {},
   "source": [
    "## What is a quantum gate?"
   ]
  },
  {
   "cell_type": "markdown",
   "id": "3e68f1a6-7bf9-45b4-9adb-e623ab54a0ec",
   "metadata": {},
   "source": [
    "A quantum gate is used to manipulate a qubit. A quantum gate is a really a logic gate.  "
   ]
  },
  {
   "cell_type": "markdown",
   "id": "f3be7fde-417d-4a2a-94af-3362c3b9b0c9",
   "metadata": {},
   "source": [
    "__Logic gate__: Is a \"physical structure or system that takes a set of binary inputs\" [1] The thing that determines the output is a \"boolean function\". In the case of Deutsch's problem, it'll be function $f$."
   ]
  },
  {
   "cell_type": "markdown",
   "id": "502a222a-8ec2-4d1b-b4fb-43811bc70fdc",
   "metadata": {},
   "source": [
    "__Hadamard gate__: Balances the probability the qubit being 0 and 1. "
   ]
  },
  {
   "cell_type": "markdown",
   "id": "bae0a8a1-457f-4522-aad4-9e0e7ef75699",
   "metadata": {},
   "source": [
    "A Hadamard gate is represented as:"
   ]
  },
  {
   "cell_type": "markdown",
   "id": "4a9fee51-0715-4d38-b050-f23fb55df24a",
   "metadata": {},
   "source": [
    "$ H = \\begin{bmatrix} \\frac{1}{\\sqrt{2}} & \\frac{1}{\\sqrt{2}}  \\\\ \\frac{1}{\\sqrt{2}}  & -\\frac{1}{\\sqrt{2}} \\end{bmatrix}$ or $ \\frac{1}{\\sqrt{2}} \\begin{bmatrix} 1 & 1 \\\\ 1 & -1  \\end{bmatrix}$"
   ]
  },
  {
   "cell_type": "code",
   "execution_count": 14,
   "id": "544f9ee6-5e3b-453a-ae16-f90dc3ad8747",
   "metadata": {},
   "outputs": [
    {
     "data": {
      "text/plain": [
       "<qiskit.circuit.instructionset.InstructionSet at 0x1b77e1a5080>"
      ]
     },
     "execution_count": 14,
     "metadata": {},
     "output_type": "execute_result"
    }
   ],
   "source": [
    "# Apply a Hadamard gate to first qubit.\n",
    "circuit.h(0)"
   ]
  },
  {
   "cell_type": "markdown",
   "id": "cbb32ddf-2aee-4ebf-873f-ab59029ab79b",
   "metadata": {},
   "source": [
    "So whats happening above, in the case of the first qubit is, that the martix value of the qubit is being multiplied by the hammond matrix:"
   ]
  },
  {
   "cell_type": "markdown",
   "id": "47ca6d03-9c05-47fe-9021-4c8231cc9814",
   "metadata": {},
   "source": [
    "$H | 0 \\rangle = \\frac{1}{\\sqrt{2}} \\begin{bmatrix} 1 & 1 \\\\ 1 & -1  \\end{bmatrix} \\begin{bmatrix} 1\\\\ 0 \\end{bmatrix} = \\frac{1}{\\sqrt{2}} \\begin{bmatrix} 1 \\\\ 1 \\end{bmatrix} = \\begin{bmatrix} \\frac{1}{\\sqrt{2}} \\\\ \\frac{1}{\\sqrt{2}} \\end{bmatrix} $"
   ]
  },
  {
   "cell_type": "markdown",
   "id": "9e11d14c-ce54-4c9f-a7f5-9fad5ecaec5a",
   "metadata": {},
   "source": [
    "The above qubit state is also known as: $ |+\\rangle $"
   ]
  },
  {
   "cell_type": "code",
   "execution_count": 15,
   "id": "2112e5a9-1a5e-4bee-b15f-89ae4121d482",
   "metadata": {},
   "outputs": [
    {
     "data": {
      "text/plain": [
       "<qiskit.circuit.instructionset.InstructionSet at 0x1b77e1a5d00>"
      ]
     },
     "execution_count": 15,
     "metadata": {},
     "output_type": "execute_result"
    }
   ],
   "source": [
    "# Apply a Hadamard gate to first and second qubit.\n",
    "circuit.h((0,1))"
   ]
  },
  {
   "cell_type": "markdown",
   "id": "3f5faaa2-628a-4af2-adca-a9065ae47786",
   "metadata": {},
   "source": [
    "In the case of the second qubit: "
   ]
  },
  {
   "cell_type": "markdown",
   "id": "15868615-c187-45be-bf72-da703ab05549",
   "metadata": {},
   "source": [
    "$ |+\\rangle $$H | 1 \\rangle = \\frac{1}{\\sqrt{2}} \\begin{bmatrix} 1 & 1 \\\\ 1 & -1  \\end{bmatrix} \\begin{bmatrix} 0\\\\ 1 \\end{bmatrix} = \\frac{1}{\\sqrt{2}} \\begin{bmatrix} 1 \\\\ -1 \\end{bmatrix} = \\begin{bmatrix} \\frac{1}{\\sqrt{2}} \\\\ -\\frac{1}{\\sqrt{2}} \\end{bmatrix} $"
   ]
  },
  {
   "cell_type": "markdown",
   "id": "6cef99c4-f2f8-4249-91e6-00c71084b8e5",
   "metadata": {},
   "source": [
    "The above qubit state is also known as: $ |-\\rangle $"
   ]
  },
  {
   "cell_type": "code",
   "execution_count": 16,
   "id": "0a27d740-5a8a-4062-b9ae-1767df19edbc",
   "metadata": {},
   "outputs": [
    {
     "data": {
      "text/plain": [
       "<qiskit.circuit.instructionset.InstructionSet at 0x1b77e1044c0>"
      ]
     },
     "execution_count": 16,
     "metadata": {},
     "output_type": "execute_result"
    }
   ],
   "source": [
    "#apply the identity matrix to the second qubit\n",
    "circuit.i(1)"
   ]
  },
  {
   "cell_type": "markdown",
   "id": "0b4dbf70-0000-4ff6-b1c8-f7a2b7b9d82b",
   "metadata": {},
   "source": [
    "The identify matrix is represented as : "
   ]
  },
  {
   "cell_type": "markdown",
   "id": "3da4e31a-ee26-47d7-8907-7dda69f79d72",
   "metadata": {},
   "source": [
    "$ I = \\begin{bmatrix} 1 & 0 \\\\ 0 & 1 \\end{bmatrix} $"
   ]
  },
  {
   "cell_type": "markdown",
   "id": "eda9d677-e6bf-4f4b-91c2-69e1697f43cf",
   "metadata": {},
   "source": [
    "And so the operation performed is:"
   ]
  },
  {
   "cell_type": "markdown",
   "id": "fc3c94e2-ac63-4984-bdb6-52d7d8d95552",
   "metadata": {},
   "source": [
    "$I|1 \\rangle \\begin{bmatrix} \\frac{1}{\\sqrt{2}} \\\\ -\\frac{1}{\\sqrt{2}} \\end{bmatrix} \\begin{bmatrix} 1 & 0 \\\\ 0 & 1 \\end{bmatrix} = \\begin{bmatrix} \\frac{1}{\\sqrt{2}} \\\\ -\\frac{1}{\\sqrt{2}} \\end{bmatrix}$ "
   ]
  },
  {
   "cell_type": "markdown",
   "id": "2cef91a6-44f7-4215-868e-aaf994175033",
   "metadata": {},
   "source": [
    "### Measurement"
   ]
  },
  {
   "cell_type": "markdown",
   "id": "6f4bbf11-03ca-43f7-a4eb-12fb04360dde",
   "metadata": {},
   "source": [
    "In order to measure a qubit in qiskit, a classical bit is needed. Here we are only measuring one qubit, so only one classical bit is needed. "
   ]
  },
  {
   "cell_type": "markdown",
   "id": "f0471780-c5ec-4442-b55c-723e44568c59",
   "metadata": {},
   "source": [
    "### Probablity of measuring $ |0\\rangle $ when in $ |+\\rangle $:"
   ]
  },
  {
   "cell_type": "markdown",
   "id": "991459f4-220f-484c-9cef-8a28cacd11e1",
   "metadata": {},
   "source": [
    "$ |\\langle 0| + \\rangle |^2 $"
   ]
  },
  {
   "cell_type": "markdown",
   "id": "8d486bc1-589b-4953-9f53-82c9021752ab",
   "metadata": {},
   "source": [
    "The above says, form the bra ket and then take its magnitute and square it."
   ]
  },
  {
   "cell_type": "markdown",
   "id": "1c0f1e35-b82f-489a-9bcf-1c360b4f80aa",
   "metadata": {},
   "source": [
    "Magnitude: $|a+bi| = \\sqrt{(a+bi)(a-bi)} = \\sqrt{a^2+b^2}$"
   ]
  },
  {
   "cell_type": "markdown",
   "id": "f574f4ed-efb4-4f58-a7f6-4f0323529de8",
   "metadata": {},
   "source": [
    "To measure $ |\\langle 0| + \\rangle |^2 $ :"
   ]
  },
  {
   "cell_type": "markdown",
   "id": "a482c8ba-c5ef-42c4-bce1-2bbfe5feb0ba",
   "metadata": {},
   "source": [
    "$ |\\langle 0| + \\rangle |^2 = |\\begin{bmatrix} 1 & 0 \\end{bmatrix} \\begin{bmatrix} \\frac{1}{\\sqrt{2}} \\\\ \\frac{1}{\\sqrt{2}} \\end{bmatrix} |^2= |(1)(\\frac{1}{\\sqrt{2}}) + (0) (\\frac{1}{\\sqrt{2}})|^2 = (\\frac{1}{\\sqrt{2}})^2 = {\\frac{1}{2}}$"
   ]
  },
  {
   "cell_type": "markdown",
   "id": "24e7a82f-ef08-4fde-94f3-8ee9f3ef8aec",
   "metadata": {},
   "source": [
    "Magnitude is measured by multiplying a number by its conjugate and finding the square root of that number.  \n",
    "Since the "
   ]
  },
  {
   "cell_type": "code",
   "execution_count": 17,
   "id": "e7a4c9a6-4b8e-49d1-8e07-89b2db200ce5",
   "metadata": {},
   "outputs": [
    {
     "data": {
      "text/plain": [
       "<qiskit.circuit.instructionset.InstructionSet at 0x1b77e1a8f00>"
      ]
     },
     "execution_count": 17,
     "metadata": {},
     "output_type": "execute_result"
    }
   ],
   "source": [
    "#Measure first qubit into the classical bit\n",
    "circuit.measure(0,0)"
   ]
  },
  {
   "cell_type": "code",
   "execution_count": 18,
   "id": "21aec74c-3476-4db7-aa34-11d38b344969",
   "metadata": {},
   "outputs": [
    {
     "data": {
      "image/png": "[encoded data removed]",
      "text/plain": [
       "<Figure size 589.054x368.424 with 1 Axes>"
      ]
     },
     "execution_count": 18,
     "metadata": {},
     "output_type": "execute_result"
    }
   ],
   "source": [
    "# Draw the circuit.\n",
    "circuit.draw(output='mpl', scale=1.8)"
   ]
  },
  {
   "cell_type": "markdown",
   "id": "71c2b047-6390-440b-b245-0335ca8c99b7",
   "metadata": {},
   "source": [
    "#### Qiskits simulators act like quantum computers. They run qiskit circuits"
   ]
  },
  {
   "cell_type": "code",
   "execution_count": 19,
   "id": "cd0e75ad-cb52-4dd6-ba14-bea6a3bbd29e",
   "metadata": {},
   "outputs": [],
   "source": [
    "# Create a simulation instance.\n",
    "simulator = aer.QasmSimulator()"
   ]
  },
  {
   "cell_type": "code",
   "execution_count": 20,
   "id": "c855dc60-24d2-4621-ad68-64d601c9f93d",
   "metadata": {},
   "outputs": [],
   "source": [
    "# Compile the circuit in the simluator.\n",
    "compcircuit = q.transpile(circuit, simulator)"
   ]
  },
  {
   "cell_type": "code",
   "execution_count": 21,
   "id": "81c9687c-b02f-44eb-a8dd-b5783c8e93b0",
   "metadata": {},
   "outputs": [],
   "source": [
    "# Simulate the circuit 1000 times.\n",
    "job = simulator.run(compcircuit, shots=1000)"
   ]
  },
  {
   "cell_type": "code",
   "execution_count": 22,
   "id": "799b9792-79f7-41fe-a846-e64d5d7464a2",
   "metadata": {},
   "outputs": [],
   "source": [
    "# Get the results.\n",
    "results = job.result()"
   ]
  },
  {
   "cell_type": "code",
   "execution_count": 23,
   "id": "4489c5a5-713f-4835-b2b6-0baca1fa3ad4",
   "metadata": {},
   "outputs": [
    {
     "data": {
      "text/plain": [
       "{'0': 1000}"
      ]
     },
     "execution_count": 23,
     "metadata": {},
     "output_type": "execute_result"
    }
   ],
   "source": [
    "# Show the result counts.\n",
    "counts = results.get_counts()\n",
    "counts"
   ]
  },
  {
   "cell_type": "markdown",
   "id": "7032e191-28b4-443b-b707-6288136961fd",
   "metadata": {},
   "source": [
    "When the function is a constant zero function, when the qubit is measured it has a 100% chance of being 0. "
   ]
  },
  {
   "cell_type": "markdown",
   "id": "7c08401a-15aa-45b0-88b9-1da4a3ea663e",
   "metadata": {},
   "source": [
    "## Quantum solution using a balanced function $f(0) =0, f(1)=1$"
   ]
  },
  {
   "cell_type": "code",
   "execution_count": 24,
   "id": "62c6047d-1d23-41f5-b35d-abb3255e26aa",
   "metadata": {},
   "outputs": [
    {
     "data": {
      "text/plain": [
       "<qiskit.circuit.instructionset.InstructionSet at 0x1b748d56f40>"
      ]
     },
     "execution_count": 24,
     "metadata": {},
     "output_type": "execute_result"
    }
   ],
   "source": [
    "# Create a quantum circuit.\n",
    "circuit = q.QuantumCircuit(2, 1)\n",
    "\n",
    "# Initialise the first qubit to |0>.\n",
    "circuit.initialize([1, 0], 0)\n",
    "\n",
    "# Initialise the second qubit to |1>.\n",
    "circuit.initialize([0, 1], 1)\n",
    "\n",
    "# Apply a Hadamard gate to each qubit.\n",
    "circuit.h((0, 1))\n",
    "\n"
   ]
  },
  {
   "cell_type": "markdown",
   "id": "4186b5a3-a677-4d8c-8a6b-326623c4e574",
   "metadata": {},
   "source": [
    "### Representing two qubits"
   ]
  },
  {
   "cell_type": "markdown",
   "id": "b19ab798-9cf5-4a20-bd3c-7a2e5ebd090b",
   "metadata": {},
   "source": [
    "Previously we saw how to represent one qubit. However, in this case we need to represent to;"
   ]
  },
  {
   "cell_type": "markdown",
   "id": "8b043901-a375-4101-a7d2-000fbe725f5a",
   "metadata": {},
   "source": [
    "First qubit is in state:  $|0 \\rangle =\\begin{bmatrix} 1\\\\ 0 \\end{bmatrix}$"
   ]
  },
  {
   "cell_type": "markdown",
   "id": "198c121f-88bb-45e1-a350-21fd3aaaaf2c",
   "metadata": {},
   "source": [
    "Second qubit is in state:  $|1\\rangle = \\begin{bmatrix} 0 \\\\1 \\end{bmatrix}$"
   ]
  },
  {
   "cell_type": "markdown",
   "id": "6af8fa7e-9e3d-404b-8b00-433938ccf309",
   "metadata": {},
   "source": [
    "How do we represent them together?  \n",
    "We need the __kronecker product__. The kronecker product is calculated by taking the first qubit and multiplying its matrices as scalers into the matrices of the second qubit.  \n",
    "The symbol for the kronecker product is $ \\bigotimes $\n"
   ]
  },
  {
   "cell_type": "markdown",
   "id": "e127d67a-1a30-4abc-ae58-285ca9c6310f",
   "metadata": {},
   "source": [
    "The two qubits together: $|01\\rangle = |0\\rangle \\bigotimes |1 \\rangle \\begin{bmatrix} 1 \\begin{bmatrix} 0 \\\\ 1 \\end{bmatrix}  \\\\ 0 \\begin{bmatrix} 0 \\\\ 1 \\end{bmatrix} \\end{bmatrix}= \\begin{bmatrix} (1)(0) \\\\ (1)(1)  \\\\ (0)(1) \\\\ (0)(0) \\end{bmatrix} = \\begin{bmatrix} 0 \\\\ 1  \\\\ 0 \\\\ 0 \\end{bmatrix}$"
   ]
  },
  {
   "cell_type": "markdown",
   "id": "a4dd44d0-4186-4526-aa47-cf06a4009811",
   "metadata": {},
   "source": [
    "### CNOT gate"
   ]
  },
  {
   "cell_type": "markdown",
   "id": "cafc9ed6-a3d3-4e59-9ecd-54820b593fbe",
   "metadata": {},
   "source": [
    "A CNOT gate allows two qubits to interact with each other and as such needs two qubits for input. Below both qubits are applied to the gate. "
   ]
  },
  {
   "cell_type": "markdown",
   "id": "433e4d4b-f808-46ec-94a5-8a75673f09ed",
   "metadata": {},
   "source": [
    "A CNOT gate is represented as: $ \\begin{bmatrix} 1 & 0 & 0 & 0 \\\\ 0 & 1 & 0 & 0 \\\\ 0 & 0 & 0 & 1  \\\\ 0 & 0 & 1 & 0  \\end{bmatrix}$"
   ]
  },
  {
   "cell_type": "markdown",
   "id": "3b1ff1ab-f504-406e-a7fc-5818885b3f94",
   "metadata": {},
   "source": [
    "The way a CNOT gate would be applied to  applied to $ |01\\rangle $ is:"
   ]
  },
  {
   "cell_type": "markdown",
   "id": "816bf53b-a090-42b6-ac18-6389db0e7cc1",
   "metadata": {},
   "source": [
    "$cnot \\times |01\\rangle = \\begin{bmatrix} 1 & 0 & 0 & 0 \\\\ 0 & 1 & 0 & 0 \\\\ 0 & 0 & 0 & 1  \\\\ 0 & 0 & 1 & 0  \\end{bmatrix} \\begin{bmatrix} 0 \\\\ 1  \\\\ 0 \\\\ 0 \\end{bmatrix} = \\begin{bmatrix} 0 \\\\ 1  \\\\ 0 \\\\ 0 \\end{bmatrix}$"
   ]
  },
  {
   "cell_type": "markdown",
   "id": "1862c659-a135-47b1-999b-83f67c4d4994",
   "metadata": {},
   "source": [
    "$cnot \\times |10\\rangle = \\begin{bmatrix} 1 & 0 & 0 & 0 \\\\ 0 & 1 & 0 & 0 \\\\ 0 & 0 & 0 & 1  \\\\ 0 & 0 & 1 & 0  \\end{bmatrix} \\begin{bmatrix} 0 \\\\ 0  \\\\ 1 \\\\ 0 \\end{bmatrix} = \\begin{bmatrix} 0 \\\\ 0  \\\\ 0 \\\\ 1 \\end{bmatrix}$"
   ]
  },
  {
   "cell_type": "code",
   "execution_count": 25,
   "id": "3e977030-5c1d-4ac6-b0e8-7e2198202cd0",
   "metadata": {},
   "outputs": [
    {
     "data": {
      "text/plain": [
       "<qiskit.circuit.instructionset.InstructionSet at 0x1b748d59d40>"
      ]
     },
     "execution_count": 25,
     "metadata": {},
     "output_type": "execute_result"
    }
   ],
   "source": [
    "# CNOT gate.\n",
    "circuit.cnot(0, 1)"
   ]
  },
  {
   "cell_type": "markdown",
   "id": "aee1c0bc-3c04-4c80-befa-7e11d9870ad3",
   "metadata": {},
   "source": [
    "### CNOT gate and a H gate"
   ]
  },
  {
   "cell_type": "markdown",
   "id": "d4632ae1-1eec-4615-9cda-af4e41725af2",
   "metadata": {},
   "source": [
    "Above, we apply the CNOT gate to both qubits. Here is what qiskit does with the above line of code:"
   ]
  },
  {
   "cell_type": "markdown",
   "id": "a67917a1-acaa-467a-a457-b8f4ec370aab",
   "metadata": {},
   "source": [
    "First, finds the __kroncecker product__ of two H gates."
   ]
  },
  {
   "cell_type": "markdown",
   "id": "ed7f5217-1f08-4d3b-b876-c89ecf4b983f",
   "metadata": {
    "tags": []
   },
   "source": [
    "$ H \\bigotimes H = \\begin{bmatrix} \\frac{1}{\\sqrt{2}} \\begin{bmatrix}  \\frac{1}{\\sqrt{2}} & \\frac{1}{\\sqrt{2}} \\\\ \\frac{1}{\\sqrt{2}}  & -\\frac{1}{\\sqrt{2}}\\end{bmatrix}  & \\frac{1}{\\sqrt{2}} \\begin{bmatrix} \\frac{1}{\\sqrt{2}} & \\frac{1}{\\sqrt{2}} \\\\ \\frac{1}{\\sqrt{2}}  & -\\frac{1}{\\sqrt{2}}\\end{bmatrix} \\\\ \\frac{1}{\\sqrt{2}} \\begin{bmatrix}  \\frac{1}{\\sqrt{2}} & \\frac{1}{\\sqrt{2}} \\\\ \\frac{1}{\\sqrt{2}}  & -\\frac{1}{\\sqrt{2}}\\end{bmatrix} & - \\frac{1}{\\sqrt{2}} \\begin{bmatrix}  \\frac{1}{\\sqrt{2}} & \\frac{1}{\\sqrt{2}} \\\\ \\frac{1}{\\sqrt{2}}  & -\\frac{1}{\\sqrt{2}}\\end{bmatrix} \\end{bmatrix} = \\frac {1}{2} \\begin{bmatrix} 1 & 1 & 1 & 1 \\\\ 1 & -1 & 1 & -1\\\\ 1 & 1 & -1 & -1 \\\\ 1 &- 1 & -1 & 1 \\end{bmatrix}  $"
   ]
  },
  {
   "cell_type": "markdown",
   "id": "ee398d55-88a2-412f-8a0f-9b95a33164a5",
   "metadata": {},
   "source": [
    "Then the result of this is applied to $cnot \\times |01\\rangle $ , which is the result of the CNOT gate applied to both qubits."
   ]
  },
  {
   "cell_type": "markdown",
   "id": "55590acb-27a0-4f33-8768-490d0f7363d1",
   "metadata": {},
   "source": [
    "$CNOT \\times (H \\bigotimes H) \\times |01\\rangle = \\begin{bmatrix} 1 & 0 & 0 & 0 \\\\ 0 & 1 & 0 & 0 \\\\ 0 & 0 & 0 & 1  \\\\ 0 & 0 & 1 & 0  \\end{bmatrix} \\frac{1}{2} \\begin{bmatrix} 1 & 1 & 1 & 1 \\\\ 1 & -1 & 1 & -1\\\\ 1 & 1 & -1 & -1 \\\\ 1 &- 1 & -1 & 1 \\end{bmatrix} \\begin{bmatrix} 0 \\\\ 1 \\\\0 \\\\ 0 \\end{bmatrix} $"
   ]
  },
  {
   "cell_type": "code",
   "execution_count": 26,
   "id": "53161575-dcd7-4406-8b67-3fc23c040a76",
   "metadata": {},
   "outputs": [
    {
     "data": {
      "image/png": "[encoded data removed]",
      "text/plain": [
       "<Figure size 697.414x368.424 with 1 Axes>"
      ]
     },
     "execution_count": 26,
     "metadata": {},
     "output_type": "execute_result"
    }
   ],
   "source": [
    "# Apply another Hadamard gate to the first qubit.\n",
    "circuit.h(0)\n",
    "\n",
    "# Measure the first qubit.\n",
    "circuit.measure(0, 0)\n",
    "\n",
    "# Draw the circuit.\n",
    "circuit.draw(output='mpl', scale=1.8)"
   ]
  },
  {
   "cell_type": "code",
   "execution_count": 27,
   "id": "de348067-43e4-46ec-941c-a50949d0d4ba",
   "metadata": {},
   "outputs": [
    {
     "data": {
      "image/png": "[encoded data removed]",
      "text/plain": [
       "<Figure size 72x288 with 1 Axes>"
      ]
     },
     "execution_count": 27,
     "metadata": {},
     "output_type": "execute_result"
    }
   ],
   "source": [
    "# Create a simulation instance.\n",
    "simulator = aer.QasmSimulator()\n",
    "\n",
    "# Compile the circuit in the simluator.\n",
    "compcircuit = q.transpile(circuit, simulator)\n",
    "\n",
    "# Simulate the circuit 1000 times.\n",
    "job = simulator.run(compcircuit, shots=1000)\n",
    "\n",
    "# Get the results.\n",
    "results = job.result()\n",
    "\n",
    "# Show the result counts.\n",
    "counts = results.get_counts()\n",
    "\n",
    "# Display histogram\n",
    "q.visualization.plot_histogram(counts, figsize=(1, 4))"
   ]
  },
  {
   "cell_type": "markdown",
   "id": "c830d3e3-92b8-45b4-b9e4-bd4d364ef506",
   "metadata": {},
   "source": [
    "In a balanced function, the qubit is always measured as one where as in a constant function, it is measured as 0"
   ]
  },
  {
   "cell_type": "markdown",
   "id": "1937387a-bbe4-49a4-93ae-671ce8000777",
   "metadata": {},
   "source": [
    "### Balanced Function $f(0) =1, f(1)=0$"
   ]
  },
  {
   "cell_type": "code",
   "execution_count": 28,
   "id": "0fb09189-3ab4-4837-9052-b52bdaa7be96",
   "metadata": {},
   "outputs": [
    {
     "data": {
      "text/plain": [
       "<qiskit.circuit.instructionset.InstructionSet at 0x1b748e04340>"
      ]
     },
     "execution_count": 28,
     "metadata": {},
     "output_type": "execute_result"
    }
   ],
   "source": [
    "# Create a quantum circuit.\n",
    "circuit = q.QuantumCircuit(2, 1)\n",
    "\n",
    "# Initialise the first qubit to |0>.\n",
    "circuit.initialize([1, 0], 0)\n",
    "\n",
    "# Initialise the second qubit to |1>.\n",
    "circuit.initialize([0, 1], 1)\n",
    "\n",
    "# Apply a Hadamard gate to each qubit.\n",
    "circuit.h((0, 1))\n"
   ]
  },
  {
   "cell_type": "code",
   "execution_count": 29,
   "id": "68fcf5f6-2711-4cd8-b265-3f17369b8b8d",
   "metadata": {},
   "outputs": [
    {
     "data": {
      "image/png": "[encoded data removed]",
      "text/plain": [
       "<Figure size 697.414x368.424 with 1 Axes>"
      ]
     },
     "execution_count": 29,
     "metadata": {},
     "output_type": "execute_result"
    }
   ],
   "source": [
    "# CNOT gate.\n",
    "circuit.cnot(0, 1)\n",
    "\n",
    "#apply x to second qubit\n",
    "circuit.x(1)\n",
    "\n",
    "# Apply another Hadamard gate to the first qubit.\n",
    "circuit.h(0)\n",
    "\n",
    "# Measure the first qubit.\n",
    "circuit.measure(0, 0)\n",
    "\n",
    "# Draw the circuit.\n",
    "circuit.draw(output='mpl', scale=1.8)"
   ]
  },
  {
   "cell_type": "code",
   "execution_count": 30,
   "id": "6f784f44-f9b5-49fe-a292-5882fea75a47",
   "metadata": {},
   "outputs": [
    {
     "data": {
      "image/png": "[encoded data removed]",
      "text/plain": [
       "<Figure size 72x288 with 1 Axes>"
      ]
     },
     "execution_count": 30,
     "metadata": {},
     "output_type": "execute_result"
    }
   ],
   "source": [
    "# Create a simulation instance.\n",
    "simulator = aer.QasmSimulator()\n",
    "\n",
    "# Compile the circuit in the simluator.\n",
    "compcircuit = q.transpile(circuit, simulator)\n",
    "\n",
    "# Simulate the circuit 1000 times.\n",
    "job = simulator.run(compcircuit, shots=1000)\n",
    "\n",
    "# Get the results.\n",
    "results = job.result()\n",
    "\n",
    "# Show the result counts.\n",
    "counts = results.get_counts()\n",
    "\n",
    "# Display histogram\n",
    "q.visualization.plot_histogram(counts, figsize=(1, 4))"
   ]
  },
  {
   "cell_type": "markdown",
   "id": "7338764e-4057-4230-83c1-8d2931fe7588",
   "metadata": {},
   "source": [
    "### Quantum vs Classical solution"
   ]
  },
  {
   "cell_type": "markdown",
   "id": "90809f77-8f72-4cc4-a3c3-b5f3d2239307",
   "metadata": {},
   "source": [
    "Using  qiskit, we see that see that a quantum computer would only ever use the function $f$ once in the circuit.   \n",
    "There are no repeated calls and there is only one pass through the function, which is coded as a quantum circuit.  \n",
    "In this example, a classical computer would need two calls to determine whether the function is constant or balanced and if more bits were added, the amount of calls would increase exponentially.  \n",
    "However the quantum solution would only ever need one call, no matter the amount of qubit inputs. This shows that quantum algorithms are much faster than classical algorithms. "
   ]
  },
  {
   "cell_type": "markdown",
   "id": "f9e2f636-804b-481f-81bd-4903bd587e02",
   "metadata": {},
   "source": [
    "[1]https://towardsdatascience.com/demystifying-quantum-gates-one-qubit-at-a-time-54404ed80640"
   ]
  }
 ],
 "metadata": {
  "kernelspec": {
   "display_name": "Python 3",
   "language": "python",
   "name": "python3"
  },
  "language_info": {
   "codemirror_mode": {
    "name": "ipython",
    "version": 3
   },
   "file_extension": ".py",
   "mimetype": "text/x-python",
   "name": "python",
   "nbconvert_exporter": "python",
   "pygments_lexer": "ipython3",
   "version": "3.8.8"
  }
 },
 "nbformat": 4,
 "nbformat_minor": 5
}
