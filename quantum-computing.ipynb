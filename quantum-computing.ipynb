{
 "cells": [
  {
   "cell_type": "markdown",
   "id": "dcf63b5c-6b67-4a0a-b9e1-89da8a56f7bc",
   "metadata": {},
   "source": [
    "# Quantum Computing "
   ]
  },
  {
   "cell_type": "markdown",
   "id": "6665617c-2923-4ab9-b1b7-c6c8eef59d44",
   "metadata": {},
   "source": [
    "## What is it?\n",
    "A quantum computer works by controlling electrons and photons in a way that is completely different from a regular computer. A quantum computer is not just a more powerful version of our current computers.  \n",
    "A quantum computer is a new kind of device that is based on the science of __quantum physics__.  \n"
   ]
  },
  {
   "cell_type": "markdown",
   "id": "631432a4-0b63-467e-95cb-b48ce4659192",
   "metadata": {},
   "source": [
    "## Quantum computing vs Classical computing"
   ]
  },
  {
   "cell_type": "markdown",
   "id": "50e86306-2bb4-4f9e-966c-2cf84aa4e86f",
   "metadata": {},
   "source": [
    "### Bits:"
   ]
  },
  {
   "cell_type": "markdown",
   "id": "5cc4a474-cd1d-470f-8456-9b358c835e7a",
   "metadata": {},
   "source": [
    "__Classical Computing__:  \n",
    "In classic computers, calculations are done with transistors, also know as bits  \n",
    "The state of bits is either 0 or 1..  \n",
    "\n",
    "__Quantum Computing__:  \n",
    "In quantum computers, calculations are done with quantum bits (qubit). They are more fluid. Qubits can be in any proportion/hybrid position of both 0 and 1. This is called a __superposition__.  \n",
    "In other words, qubits can be either 0 or a 1, but also a combination of both. \n",
    "As long as a qubit is unobserved, it is in a superposition of 0 and 1 and its value cannot be predicted. However, the instant you measure a qubit, it will collapse into either 0 or 1.    \n"
   ]
  },
  {
   "cell_type": "markdown",
   "id": "7dc60233-7473-4414-8ca6-08bf5d090cff",
   "metadata": {},
   "source": [
    "### Position of Bits:"
   ]
  },
  {
   "cell_type": "markdown",
   "id": "8fd93344-aabd-434a-af2e-058816e044a4",
   "metadata": {},
   "source": [
    "__Classical Computing__:  \n",
    "* Four classical computer bits can be in one of 16 possible combinations.\n",
    "* Bits are represented as integers. Their possible states are shown below"
   ]
  },
  {
   "cell_type": "markdown",
   "id": "48ea97a4-de9b-4b44-84e3-784aa5ae5204",
   "metadata": {},
   "source": [
    "\n",
    "| 0000 | 0001 | 0010 | 0011 |\n",
    "|------|------|------|------|\n",
    "| 0100 | 0101 | 0110 | 0111 |\n",
    "| 1000 | 1001 | 1010 | 1011 |\n",
    "| 1100 | 1101 | 1110 | 1111 |\n"
   ]
  },
  {
   "cell_type": "markdown",
   "id": "284806c8-52d4-496a-a8d9-a2d99007fb9e",
   "metadata": {},
   "source": [
    "__Quantum Computing__:  \n",
    "* Four qubits in superposition can be in all of these states all at once. \n",
    "* The number of combinations grows exponentially as qubits are added. \n",
    "* The state of qubits is represented using complex numbers. Namely, they are represented by of an electron or the polarisation of the photon.[22]"
   ]
  },
  {
   "cell_type": "markdown",
   "id": "f12b3977-1bf4-4771-a9f9-bd14234486ab",
   "metadata": {},
   "source": [
    "### Computation Time\n",
    "Due to the fact that quantum computers are based on __quantum physics__, they offer entirely different computational abilities than classical computers that are based on __classical physics__.  \n",
    "This is to the fluid nature of qubits. A quantum computer’s power grows exponentially when the amount qubits linked together is increased.  \n",
    "  \n",
    "This contrasts classical computers, which sees a linear power increase as the  number of transistors in it increases.\n"
   ]
  },
  {
   "cell_type": "markdown",
   "id": "8d150a8f-23b2-45a9-9784-4c967fd79561",
   "metadata": {},
   "source": [
    "#### Rivest–Shamir–Adleman) algorithm\n",
    "An example of the different in power between the two types is the RSA (Rivest–Shamir–Adleman) algorithm. It is an asymmetric cryptography algorithm that uses public key and a private key to encrypt data. It would take a classic computer billions of years to break crack encryption this algorithm provides. However, it would take a quantum computer only a __few hours__. [21]\n"
   ]
  },
  {
   "cell_type": "markdown",
   "id": "8c75a822-acae-4ab1-89df-c84f863ee8f0",
   "metadata": {},
   "source": [
    "### Uses of Quantum Computers"
   ]
  },
  {
   "cell_type": "markdown",
   "id": "f9d4f718-6e67-4a12-8138-65a6e6bc3573",
   "metadata": {},
   "source": [
    "#### Simulations \n",
    "Googles quantum computer successfully simulated a chemical reaction. This achievement could potentially make headways in the field of quantum chemistry which could aids scientists with useful discoveries. [23]  \n",
    "Simulations have lots of applications in drug or material design, industrial processes or data processing. \n",
    "\n",
    "#### AI\n",
    "Quantum computers have the ability to process huge datasets extremely quickly. This in combination with their simulation ability makes them extremely well suited for use in AI and in data science.\n",
    "\n",
    "#### Cyber Security and Cryptography\n",
    "Due to their ability to sophisticated modern encryption algorithms, they can be used to break encryption but also to create unbreakable encryption. [24]\n"
   ]
  },
  {
   "cell_type": "markdown",
   "id": "e7a71cdc-9d86-43af-ad3d-6ef2e4b7e65d",
   "metadata": {},
   "source": [
    "## Drawbacks of Quantum Computers "
   ]
  },
  {
   "cell_type": "markdown",
   "id": "427a0995-dba4-46cf-a399-b274135ba0b7",
   "metadata": {},
   "source": [
    "Quantum computers have very complicated and heavy duty use cases. That being said, due to how rare and expensive they are, they are unlikely to replace classical computing entirely.   \n",
    "The use of quantum computers would simply not make sense for the average person that is using a computer tasks that don't involve the uses listed above. "
   ]
  },
  {
   "cell_type": "markdown",
   "id": "1b267e28-9a03-41fd-8d8e-4098f8a99f15",
   "metadata": {},
   "source": [
    "# Deutsch's algorithm"
   ]
  },
  {
   "cell_type": "markdown",
   "id": "93518198-41fb-4b11-95ba-56bebad871e5",
   "metadata": {},
   "source": [
    "## The Problem:"
   ]
  },
  {
   "cell_type": "markdown",
   "id": "69eebd48-62fd-4841-9ee9-2d96e26f1d46",
   "metadata": {},
   "source": [
    "You are given a function of $f$. The function is hidden and what it does is not disclosed. This function takes in a list of bits (0 or a 1) and returns either a 0 or a 1, based on the input.  \n",
    "The problem/ challenge presented by Deutsch is to find out whether the given function is either a constant or a balanced function.\n"
   ]
  },
  {
   "cell_type": "markdown",
   "id": "af07b47a-55e5-49ec-8ee0-d5f1693f5c07",
   "metadata": {},
   "source": [
    "A __constant function__ is the a function that always returns the same value no matter what input it is given"
   ]
  },
  {
   "cell_type": "code",
   "execution_count": 20,
   "id": "ec4b2bfd-11c4-4f86-9a1e-0bb4c9e664a0",
   "metadata": {},
   "outputs": [],
   "source": [
    "#one bit example\n",
    "def const(x):\n",
    "    return 1"
   ]
  },
  {
   "cell_type": "code",
   "execution_count": 21,
   "id": "6f7e60a7-616b-4a10-ae18-dc3633dcc325",
   "metadata": {},
   "outputs": [
    {
     "data": {
      "text/plain": [
       "1"
      ]
     },
     "execution_count": 21,
     "metadata": {},
     "output_type": "execute_result"
    }
   ],
   "source": [
    "const(0)"
   ]
  },
  {
   "cell_type": "code",
   "execution_count": 22,
   "id": "6fccd9fc-0bb9-4b4e-a948-cabf2ff1dcb2",
   "metadata": {},
   "outputs": [
    {
     "data": {
      "text/plain": [
       "1"
      ]
     },
     "execution_count": 22,
     "metadata": {},
     "output_type": "execute_result"
    }
   ],
   "source": [
    "const(1)"
   ]
  },
  {
   "cell_type": "markdown",
   "id": "388aadb9-a64a-42b1-9a25-31bee542751a",
   "metadata": {},
   "source": [
    "A __balanced function__ is a function that returns 0 for half of the inputs and 1 for the other half"
   ]
  },
  {
   "cell_type": "code",
   "execution_count": 23,
   "id": "c2ee2fa6-e25f-470d-bf19-79296245414b",
   "metadata": {},
   "outputs": [],
   "source": [
    "#another one bit example\n",
    "def balanced(x):\n",
    "    return x"
   ]
  },
  {
   "cell_type": "code",
   "execution_count": 24,
   "id": "e2783436-e226-4043-90eb-335b4fa4169c",
   "metadata": {},
   "outputs": [
    {
     "data": {
      "text/plain": [
       "0"
      ]
     },
     "execution_count": 24,
     "metadata": {},
     "output_type": "execute_result"
    }
   ],
   "source": [
    "balanced(0)"
   ]
  },
  {
   "cell_type": "code",
   "execution_count": 25,
   "id": "7a4a0c12-9f6e-41e2-b02c-c3a4afa616a5",
   "metadata": {},
   "outputs": [
    {
     "data": {
      "text/plain": [
       "1"
      ]
     },
     "execution_count": 25,
     "metadata": {},
     "output_type": "execute_result"
    }
   ],
   "source": [
    "balanced(1)"
   ]
  },
  {
   "cell_type": "code",
   "execution_count": 26,
   "id": "6a712f9f-0de2-48f4-b080-8c0c0b294529",
   "metadata": {},
   "outputs": [],
   "source": [
    "def balanced2(x):\n",
    "    return ((x+1)%2)"
   ]
  },
  {
   "cell_type": "code",
   "execution_count": 27,
   "id": "9c9a3b0a-0c98-4fcf-8171-817715c6bf5c",
   "metadata": {},
   "outputs": [
    {
     "data": {
      "text/plain": [
       "0"
      ]
     },
     "execution_count": 27,
     "metadata": {},
     "output_type": "execute_result"
    }
   ],
   "source": [
    "balanced2(1)"
   ]
  },
  {
   "cell_type": "code",
   "execution_count": 28,
   "id": "374fd5b7-d571-4d4f-a561-29d3b25283c2",
   "metadata": {},
   "outputs": [
    {
     "data": {
      "text/plain": [
       "1"
      ]
     },
     "execution_count": 28,
     "metadata": {},
     "output_type": "execute_result"
    }
   ],
   "source": [
    "balanced2(0)"
   ]
  },
  {
   "cell_type": "markdown",
   "id": "8bb829c4-d71f-41d7-ae38-c7a62db7fad0",
   "metadata": {},
   "source": [
    "## The Significance of Deutsch's algorithm"
   ]
  },
  {
   "cell_type": "markdown",
   "id": "a1f22781-c453-4d18-9ca0-2372d379ba1d",
   "metadata": {},
   "source": [
    "The above functions only have one bit as an input, and as such the problem would be easy to solve using a classical computer.  \n",
    "However, as more bits are added to $f$, then the amount of calls a classical computer would need to do to a function that figures out if $f$ was balanced or constant would increase exponentially.  "
   ]
  },
  {
   "cell_type": "markdown",
   "id": "3956c7cc-c487-48de-b074-cd6266c82013",
   "metadata": {},
   "source": [
    "Deutsch's algorithm is __meant to demonstrate that a quantum computer can perform a task more efficiently than a classical computer__ and it does this successfully.  \n",
    "Using this algorithm/problem, we will see that a quantum computer will only ever need __one__ call to solve this problem.  "
   ]
  },
  {
   "cell_type": "markdown",
   "id": "e50c1bab-8fd1-4629-90e7-8613ec24523d",
   "metadata": {},
   "source": [
    "### Classical computer solution :"
   ]
  },
  {
   "cell_type": "markdown",
   "id": "88f47ffa-753c-481f-9799-6ab443736117",
   "metadata": {},
   "source": [
    "Lets say $f$ accepts two bits this time. The possible configurations of two bits is:"
   ]
  },
  {
   "cell_type": "markdown",
   "id": "3642c0e1-033f-4859-ad9e-beb5fe2895e4",
   "metadata": {},
   "source": [
    "| x1 | x2 |\n",
    "|----|----|\n",
    "| 0  | 0  |\n",
    "| 0  | 1  |\n",
    "| 1  | 0  |\n",
    "| 1  | 1  |"
   ]
  },
  {
   "cell_type": "markdown",
   "id": "7e49d038-c36b-4f42-9b9d-7a34b7fbcc9e",
   "metadata": {},
   "source": [
    "If the classical computer got lucky and called the hidden function $f$ twice, and for the first call recieved a 0 and for the second recieved a 1, then the computer knows $f$ is balanced because it has two different outputs.  \n",
    "However, if that the first two outputs of the first two inputs are the same, then the function looks like its constant outputs are the same. However to verify this, the computer would need to make an additional call to the function to make sure that it is indeed constant.   "
   ]
  },
  {
   "cell_type": "markdown",
   "id": "23d7db58-7ea7-4d88-937d-74ec038a2ad3",
   "metadata": {},
   "source": [
    "Another way of phrasing the above is to say that the fastest that a classical computer could solve Deutsch's problem is the time it would take it to call __half of all possible inputs plus 1__, or $2^{n-1}+1$ . If more bits were added to the input, this would still hold true."
   ]
  },
  {
   "cell_type": "markdown",
   "id": "e29fb232-aed3-4480-8721-0f3c79b623e8",
   "metadata": {},
   "source": [
    "## Quantum Computer Solution :"
   ]
  },
  {
   "cell_type": "markdown",
   "id": "aa8d3ccc-9085-4d7e-a185-67968e0aabab",
   "metadata": {},
   "source": [
    "A quantum computer will only ever need __one__ call to solve the problem. This is because a quantum circuit is able to consider all of the possible inputs that could have come into the circuit and it can immediately figure out whether $f$ is constant or balanced. "
   ]
  },
  {
   "cell_type": "markdown",
   "id": "4157fe49-7421-478d-bea2-48483ab8e00b",
   "metadata": {},
   "source": [
    "In order to apply Deutsch's algorithm to a circuit, you must create a circuit with the required about of qubits plus an extra qubit.  \n",
    "The last qubit ios a control qubit. All qubits except for the last one are input qubits.  \n",
    "Below, the circuit simulates a one qubit constant zero function and does so in one call.  \n"
   ]
  },
  {
   "cell_type": "code",
   "execution_count": 105,
   "id": "ae13f14e-0b30-4020-b882-f35182b546e4",
   "metadata": {},
   "outputs": [],
   "source": [
    "import qiskit as q\n",
    "\n",
    "#aer simulator\n",
    "import qiskit.providers.aer as aer\n",
    "\n",
    "#Diagrams \n",
    "import matplotlib.pyplot as plt "
   ]
  },
  {
   "cell_type": "code",
   "execution_count": 106,
   "id": "9e20310c-52b7-4854-aa2a-e50e3fab7cc9",
   "metadata": {},
   "outputs": [],
   "source": [
    "#create a quantum circuit\n",
    "#two qubits and two classical bits\n",
    "circuit = q.QuantumCircuit(2,1)"
   ]
  },
  {
   "cell_type": "code",
   "execution_count": 107,
   "id": "c385de39-5626-4da0-b9b2-7cc5e5f87661",
   "metadata": {},
   "outputs": [
    {
     "data": {
      "text/plain": [
       "<qiskit.circuit.instructionset.InstructionSet at 0x24a899d4900>"
      ]
     },
     "execution_count": 107,
     "metadata": {},
     "output_type": "execute_result"
    }
   ],
   "source": [
    "#Set first qubit to a quantum 0\n",
    "#In this qubit, the possibility of it measuring to a zero is 1\n",
    "#And the probability of it measuring to a 1 is 0.\n",
    "circuit.initialize([1,0],0)"
   ]
  },
  {
   "cell_type": "code",
   "execution_count": 108,
   "id": "5ff0cc66-a819-401f-8d17-1a15fc71c845",
   "metadata": {},
   "outputs": [
    {
     "data": {
      "text/plain": [
       "<qiskit.circuit.instructionset.InstructionSet at 0x24a89ab8e80>"
      ]
     },
     "execution_count": 108,
     "metadata": {},
     "output_type": "execute_result"
    }
   ],
   "source": [
    "#Set first qubit to a quantum 1\n",
    "#In this qubit, the possibility of it measuring to one is 1\n",
    "#And the probability of it measuring to a zero is 0.\n",
    "circuit.initialize([0,1],1)"
   ]
  },
  {
   "cell_type": "code",
   "execution_count": 109,
   "id": "544f9ee6-5e3b-453a-ae16-f90dc3ad8747",
   "metadata": {},
   "outputs": [
    {
     "data": {
      "text/plain": [
       "<qiskit.circuit.instructionset.InstructionSet at 0x24a89ab15c0>"
      ]
     },
     "execution_count": 109,
     "metadata": {},
     "output_type": "execute_result"
    }
   ],
   "source": [
    "# Apply a Hadamard gate to first qubit.\n",
    "circuit.h(0)"
   ]
  },
  {
   "cell_type": "markdown",
   "id": "e506809b-7da2-4495-a032-5dbbdc2f451f",
   "metadata": {},
   "source": [
    "## What is a quantum gate?"
   ]
  },
  {
   "cell_type": "markdown",
   "id": "3e68f1a6-7bf9-45b4-9adb-e623ab54a0ec",
   "metadata": {},
   "source": [
    "A quantum gate is a logic gate.  "
   ]
  },
  {
   "cell_type": "markdown",
   "id": "f3be7fde-417d-4a2a-94af-3362c3b9b0c9",
   "metadata": {},
   "source": [
    "__Logic gate__: Is a \"physical structure or system that takes a set of binary inputs\" [1] The thing that determines the output is a \"boolean function\". In our case, it is the function $f$."
   ]
  },
  {
   "cell_type": "markdown",
   "id": "502a222a-8ec2-4d1b-b4fb-43811bc70fdc",
   "metadata": {},
   "source": [
    "__Hadamard gate__: Balances the probability the qubit being 0 and 1. "
   ]
  },
  {
   "cell_type": "code",
   "execution_count": 110,
   "id": "2112e5a9-1a5e-4bee-b15f-89ae4121d482",
   "metadata": {},
   "outputs": [
    {
     "data": {
      "text/plain": [
       "<qiskit.circuit.instructionset.InstructionSet at 0x24a89ac8c80>"
      ]
     },
     "execution_count": 110,
     "metadata": {},
     "output_type": "execute_result"
    }
   ],
   "source": [
    "# Apply a Hadamard gate to first and second qubit.\n",
    "circuit.h((0,1))"
   ]
  },
  {
   "cell_type": "code",
   "execution_count": 111,
   "id": "0a27d740-5a8a-4062-b9ae-1767df19edbc",
   "metadata": {},
   "outputs": [
    {
     "data": {
      "text/plain": [
       "<qiskit.circuit.instructionset.InstructionSet at 0x24a89b1f200>"
      ]
     },
     "execution_count": 111,
     "metadata": {},
     "output_type": "execute_result"
    }
   ],
   "source": [
    "circuit.i(1)"
   ]
  },
  {
   "cell_type": "markdown",
   "id": "6f4bbf11-03ca-43f7-a4eb-12fb04360dde",
   "metadata": {},
   "source": [
    "In order to measure a qubit in qiskit, a classical bit is needed. Here we are only measuring one qubit, so only one classical bit is needed. "
   ]
  },
  {
   "cell_type": "code",
   "execution_count": 112,
   "id": "e7a4c9a6-4b8e-49d1-8e07-89b2db200ce5",
   "metadata": {},
   "outputs": [
    {
     "data": {
      "text/plain": [
       "<qiskit.circuit.instructionset.InstructionSet at 0x24a89b1f680>"
      ]
     },
     "execution_count": 112,
     "metadata": {},
     "output_type": "execute_result"
    }
   ],
   "source": [
    "#Measure first qubit into the classical bit\n",
    "circuit.measure(0,0)"
   ]
  },
  {
   "cell_type": "code",
   "execution_count": 113,
   "id": "21aec74c-3476-4db7-aa34-11d38b344969",
   "metadata": {},
   "outputs": [
    {
     "data": {
      "image/png": "[encoded data removed]",
      "text/plain": [
       "<Figure size 589.054x368.424 with 1 Axes>"
      ]
     },
     "execution_count": 113,
     "metadata": {},
     "output_type": "execute_result"
    }
   ],
   "source": [
    "# Draw the circuit.\n",
    "circuit.draw(output='mpl', scale=1.8)"
   ]
  },
  {
   "cell_type": "markdown",
   "id": "71c2b047-6390-440b-b245-0335ca8c99b7",
   "metadata": {},
   "source": [
    "#### Qiskits simulators act like quantum computers. They run qiskit circuits"
   ]
  },
  {
   "cell_type": "code",
   "execution_count": 114,
   "id": "cd0e75ad-cb52-4dd6-ba14-bea6a3bbd29e",
   "metadata": {},
   "outputs": [],
   "source": [
    "# Create a simulation instance.\n",
    "simulator = aer.QasmSimulator()"
   ]
  },
  {
   "cell_type": "code",
   "execution_count": 115,
   "id": "c855dc60-24d2-4621-ad68-64d601c9f93d",
   "metadata": {},
   "outputs": [],
   "source": [
    "# Compile the circuit in the simluator.\n",
    "compcircuit = qiskit.transpile(circuit, simulator)"
   ]
  },
  {
   "cell_type": "code",
   "execution_count": 116,
   "id": "81c9687c-b02f-44eb-a8dd-b5783c8e93b0",
   "metadata": {},
   "outputs": [],
   "source": [
    "# Simulate the circuit 1000 times.\n",
    "job = simulator.run(compcircuit, shots=1000)"
   ]
  },
  {
   "cell_type": "code",
   "execution_count": 117,
   "id": "799b9792-79f7-41fe-a846-e64d5d7464a2",
   "metadata": {},
   "outputs": [],
   "source": [
    "# Get the results.\n",
    "results = job.result()"
   ]
  },
  {
   "cell_type": "code",
   "execution_count": 118,
   "id": "4489c5a5-713f-4835-b2b6-0baca1fa3ad4",
   "metadata": {},
   "outputs": [
    {
     "data": {
      "text/plain": [
       "{'0': 1000}"
      ]
     },
     "execution_count": 118,
     "metadata": {},
     "output_type": "execute_result"
    }
   ],
   "source": [
    "# Show the result counts.\n",
    "counts = results.get_counts()\n",
    "counts"
   ]
  },
  {
   "cell_type": "code",
   "execution_count": null,
   "id": "b142ca4a-9263-4a53-95c2-a38158d41cc6",
   "metadata": {},
   "outputs": [],
   "source": []
  },
  {
   "cell_type": "code",
   "execution_count": null,
   "id": "ef3821d9-a139-4fe6-9a34-645e772938ea",
   "metadata": {},
   "outputs": [],
   "source": []
  },
  {
   "cell_type": "code",
   "execution_count": null,
   "id": "11429c01-6467-4e8f-9aec-dc2ddf636ca9",
   "metadata": {},
   "outputs": [],
   "source": []
  },
  {
   "cell_type": "markdown",
   "id": "f9e2f636-804b-481f-81bd-4903bd587e02",
   "metadata": {},
   "source": [
    "[1]https://towardsdatascience.com/demystifying-quantum-gates-one-qubit-at-a-time-54404ed80640"
   ]
  }
 ],
 "metadata": {
  "kernelspec": {
   "display_name": "Python 3",
   "language": "python",
   "name": "python3"
  },
  "language_info": {
   "codemirror_mode": {
    "name": "ipython",
    "version": 3
   },
   "file_extension": ".py",
   "mimetype": "text/x-python",
   "name": "python",
   "nbconvert_exporter": "python",
   "pygments_lexer": "ipython3",
   "version": "3.8.8"
  }
 },
 "nbformat": 4,
 "nbformat_minor": 5
}
