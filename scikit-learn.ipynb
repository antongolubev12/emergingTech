{
 "cells": [
  {
   "cell_type": "markdown",
   "id": "cc43a21b-b844-4156-aad8-4e0532d8a982",
   "metadata": {},
   "source": [
    "# The Scikit Learn Python Library Overview"
   ]
  },
  {
   "cell_type": "markdown",
   "id": "534afa50-7213-4429-b9e2-a5636d46630c",
   "metadata": {},
   "source": [
    "The scikit-learn (Sklearn) library contains simple and efficient tools for predictive data analysis.\n",
    "\n",
    "It is the most useful and robust library for machine learning in Python. It provides a range of efficient tools for machine learning and statistical modeling [1]\n",
    "It includes tools for:\n",
    "- Classification: A process of categorizing a set of data into classes. Can be done on structured and unstructured data [2]\n",
    "- Regression: Regression models are used to predict a continuous value.[3]\n",
    "- Clustering : Clustering is grouping unlabeled examples to understand a data set. Common applications of clustering includes social network analysis, search result grouping, medical imaging[4]\n",
    "- Dimensionality reduction: Techniques that reduce the number of input variable in training data. High demensional data might have hundres, thousands or even millions of input variables. Fewer inputs means fewer parameters or a simpler structure in the machine learning model. [5]\n",
    "\n",
    "SKlearn is built upon NumPy, SciPy and Matplotlib\n",
    "\n",
    "\n"
   ]
  },
  {
   "cell_type": "markdown",
   "id": "9260b744-526d-42b1-b330-35ab6e6c032a",
   "metadata": {},
   "source": [
    "## Features\n",
    "The Scikit-learn library is focused on modeling data. Some of the most popular models in the library include:\n",
    "- Supervised learning algorithms : Almost all of the popular learning algorithms are part of scikit-learn. E.g. Linear Regression, Support Vector Machine, Decision Tree\n",
    "- Unsupervised learning algorithms: Also has the popular unsupervised learning algorithms. E.g. clustering, factor analysis, PCA.\n",
    "- Cross Validation : Used to check the accuracy of supervised models on unseen data.\n",
    "- Ensemble Methods: Used to check the accuracy of supervised models on unseen data.\n",
    "\n",
    "### Estimators - Learning and Predicting\n",
    "\n",
    "Sklearn provides dozens of estimators which are built-in machine learning algorithms and models[6]. Each estimator can be fitted to some data using its fit method. This allows the estimator to learn from the model."
   ]
  },
  {
   "cell_type": "markdown",
   "id": "a564ab5f-cbeb-4223-8d01-10b24daa08fc",
   "metadata": {},
   "source": [
    "## Terminology\n"
   ]
  },
  {
   "cell_type": "code",
   "execution_count": 4,
   "id": "e94d4935-b8fb-45d3-9cc9-6487e773dc8d",
   "metadata": {},
   "outputs": [],
   "source": [
    "#example of fitting a RandomForestClassifier estimator to some basic data\n",
    "from sklearn.ensemble import RandomForestClassifier as rfc\n",
    "clf = rfc(random_state=0)"
   ]
  },
  {
   "cell_type": "code",
   "execution_count": 5,
   "id": "3820a4fc-36e9-45b1-95fc-980b7a7f9908",
   "metadata": {},
   "outputs": [
    {
     "data": {
      "text/plain": [
       "RandomForestClassifier(random_state=0)"
      ]
     },
     "execution_count": 5,
     "metadata": {},
     "output_type": "execute_result"
    }
   ],
   "source": [
    "X = [[ 1,  2,  3],  # 2 samples, 3 features\n",
    "    [11, 12, 13]]\n",
    "y = [0, 1]  # classes of each sample\n",
    "clf.fit(X, y)"
   ]
  },
  {
   "cell_type": "markdown",
   "id": "d64159a5-0360-4bb7-8c39-dc055c19b787",
   "metadata": {},
   "source": [
    "The fit method accepts 2 inputs:\n",
    "\n",
    "1. The sample/design matrix, X. X represents data that is observed at training and prediction time. The size of X is typically (n_samples, n_features). This means that __samples are represented as rows__ and __features are represented as columns__.   \n",
    "__Features are how samples are represented in a numeric or caterogical quantity.__[7]   \n",
    "\n",
    "2. __The target values y__ which are real numbers for regression tasks, or integers for classification (or any other discrete set of values). For unsupervized learning tasks, y does not need to be specified. y is usually 1d array where the i th entry corresponds to the target of the i th sample (row) of X. \n",
    "\n",
    "Both X and y are usually expected to be numpy arrays.\n",
    "Once the estimator is fitted, it can be used for predicting target values of new data. You don’t need to re-train the estimator:"
   ]
  },
  {
   "cell_type": "markdown",
   "id": "fcbc8a97-f2fe-4f7e-a1fb-4ebd44b60755",
   "metadata": {},
   "source": [
    "# Support Vector Machines Algorithm(SVM)\n",
    "SVM is a supervised machine learning algorithm that can be used for both classificaiton or regression challenges. Their most common use is classification however.  \n",
    "Support Vector Machines are based on the idea of finding a hyperplane that best divides a dataset into classes.  \n",
    "## Advantages\n",
    "__High dimensional space input space:__ The algorithm allows the classification of data that has high dimensions. While other algorithms can also do this, a lot of problems can occur that must be adjusted for. The Support Vector Algorithm does this automatically.  \n",
    "__Regularisation parameter(lambda)__: This parameter allows us to figure out if there is going to be a bias or overfitting. The SVM automatically avoids these problems.\n",
    "\n",
    "### Uses  \n",
    "This algorithm is used for predicting what class or group a data point falls into, based on an already existing data set. SVM is often used for text classification and for recognising images e.g. facial recognition.\n",
    "\n",
    "#### Support Vectors   \n",
    "Support Vectors are points on a graph that are closest to the hyperplane. If they are removed, it would affect the position of the hyperplane and as such they are considered the key elements of a dataset.\n",
    "\n",
    "## Linear SVM\n",
    "### Hyperplane\n",
    "If a classification task only has two features(or two dimensions), then a hyperplane would be a simple regression line that linearly separates and classifies a set of data on a 2d graph. When this hyperplane is defined, we can now use it classify data points. Any point to one side of a line fis classified as group A, any point on the other side is classified as group B. The further a data point is from the hyperplane, the probabilty that it has been classified correctly increases. This means that when new testing data is added, the side of the hyperplane it lands on decides the class it is assigned to.[11]\n"
   ]
  },
  {
   "cell_type": "markdown",
   "id": "3101a4f4-9ee5-420f-8d40-05b0195e81b9",
   "metadata": {},
   "source": [
    "### Example of using the Linear Support Vector Machine algorithm to classify data\n",
    "Below, we will generate two random clusters, and attempt to classify them using the Linear Support Vector Machine algorithm. \n",
    "This task only has two features, which is what makes it linear. #"
   ]
  },
  {
   "cell_type": "markdown",
   "id": "92d51200-c345-4dfc-ad27-224c198192dc",
   "metadata": {},
   "source": [
    "### Imports"
   ]
  },
  {
   "cell_type": "code",
   "execution_count": 6,
   "id": "98b6adb1-5d36-498d-9557-e4d885bf6d5d",
   "metadata": {},
   "outputs": [],
   "source": [
    "#allows data generation\n",
    "import sklearn.datasets as data\n",
    "\n",
    "#allows plotting\n",
    "import matplotlib.pyplot as plt\n",
    "\n",
    "#allows use of numerical arrays\n",
    "import numpy as np\n",
    "\n",
    "#Data frames\n",
    "import pandas as pd\n",
    "\n",
    "#Helper Functions\n",
    "import sklearn.model_selection as mod\n",
    "\n",
    "#Algorithm/estimator\n",
    "from sklearn.svm import SVC\n",
    "\n",
    "#allows reading of each row in a file using comma dilemiter\n",
    "import csv"
   ]
  },
  {
   "cell_type": "markdown",
   "id": "186ffd40-5410-43f4-a9bc-6cc7e819b050",
   "metadata": {},
   "source": [
    "#allows data generation\n",
    "from sklearn.datasets import make_blobs\n",
    "\n",
    "#allows plotting\n",
    "import matplotlib.pyplot as plt\n",
    "\n",
    "#allows use of numerical arrays\n",
    "import numpy as np\n",
    "\n",
    "#Data frames\n",
    "import pandas as pd\n",
    "\n",
    "from sklearn.model_selection import train_test_split\n",
    "from sklearn.metrics import confusion_matrix\n",
    "from sklearn.svm import SVC"
   ]
  },
  {
   "cell_type": "code",
   "execution_count": 7,
   "id": "5b44a2b9-fb19-4afa-8734-656274c96412",
   "metadata": {},
   "outputs": [
    {
     "name": "stdout",
     "output_type": "stream",
     "text": [
      "250\n",
      "125\n"
     ]
    }
   ],
   "source": [
    "#Generate data using make blobs method.[13]\n",
    "#Pass it number of samples(datapoints) \n",
    "#Centers how many centers there will be for clusters\n",
    "#make blobs returns numpy array\n",
    "X,y= data.make_blobs(n_samples=125,centers=2,\n",
    "                #select standard deviation, this is how spread out the values are\n",
    "                cluster_std=0.7,random_state=0)\n",
    "\n",
    "#Total number of samples, divided equally between features\n",
    "print(X.size)\n",
    "#Amount of samples in each cluster\n",
    "print(y.size)"
   ]
  },
  {
   "cell_type": "code",
   "execution_count": 8,
   "id": "6ffd6719-6b73-4e2d-8b77-3e117399c378",
   "metadata": {},
   "outputs": [
    {
     "name": "stdout",
     "output_type": "stream",
     "text": [
      "210\n",
      "105\n",
      "40\n",
      "20\n"
     ]
    }
   ],
   "source": [
    "#Divide into training and test sets\n",
    "train_X,test_X, train_y,test_y=mod.train_test_split(X,y,test_size=20, random_state=0)\n",
    "\n",
    "#So what this does is takes the specified amount of samples from X and y values created\n",
    "#by make_blobs and splits it into X and y test subsets called test_X and text_y\n",
    "#The remainder of the samples is put into train_X and train_y[13]\n",
    "print(train_X.size)\n",
    "print(train_y.size)\n",
    "\n",
    "print(test_X.size)\n",
    "print(test_y.size)"
   ]
  },
  {
   "cell_type": "code",
   "execution_count": 9,
   "id": "8feb3fc3-75a0-40ea-a945-7c9465ae8959",
   "metadata": {},
   "outputs": [
    {
     "data": {
      "text/plain": [
       "<matplotlib.collections.PathCollection at 0x2d1a61ee6a0>"
      ]
     },
     "execution_count": 9,
     "metadata": {},
     "output_type": "execute_result"
    },
    {
     "data": {
      "image/png": "[encoded data removed]",
      "text/plain": [
       "<Figure size 432x288 with 1 Axes>"
      ]
     },
     "metadata": {
      "needs_background": "light"
     },
     "output_type": "display_data"
    }
   ],
   "source": [
    "#create a scatter plot using the training data\n",
    "\n",
    "#stores the first cluster in the first index position(purple)\n",
    "#stores second cluster in the second index position(yellow)\n",
    "#c allows the two clusters to be colour divied\n",
    "\n",
    "#take all the first value of the rows from blob X, and then the second value of all the rows from blob X\n",
    "plt.scatter(train_X[:,0], train_X[:,1],c=train_y)"
   ]
  },
  {
   "cell_type": "markdown",
   "id": "5426b6e3-545a-4d58-9f2e-86609827c67b",
   "metadata": {},
   "source": [
    "We have divided the training set into two groups, purple and yellow, based on their x and y positions.  \n",
    "This data can be easily separated by eyeballing a line without using any algorithm, however how do you know which line separates the data most accurately? The linear SVM algorithm finds the optimal line(hyperplane) using support vectors.  \n",
    "The goal of the SVM is to find the biggest distance between the hyperplane and the support vectors. This is called a __margin__. A hyperplane is decided by finding the largest margins."
   ]
  },
  {
   "cell_type": "code",
   "execution_count": 10,
   "id": "c01f11e4-c6e7-42b7-8478-33efaa64eb31",
   "metadata": {},
   "outputs": [
    {
     "data": {
      "text/plain": [
       "SVC(kernel='linear')"
      ]
     },
     "execution_count": 10,
     "metadata": {},
     "output_type": "execute_result"
    }
   ],
   "source": [
    "#linear kernel because data is linearly separable\n",
    "svc = SVC(kernel='linear')\n",
    "#train the support vector algorithm with training data\n",
    "svc.fit(train_X,train_y)"
   ]
  },
  {
   "cell_type": "markdown",
   "id": "103451fe-bfde-42e7-9f07-70643d2640f7",
   "metadata": {},
   "source": [
    "Once the SVM is fitted with the training data, we are able categorize our data(classify) into classes/groups using the sklearn Support Vector Classification. In this case 0 and 1. By referring to the above graph we can see that the first 5 test samples are classified correctly."
   ]
  },
  {
   "cell_type": "code",
   "execution_count": 11,
   "id": "0a9130ad-06e6-4b7a-9a19-c4015196f529",
   "metadata": {},
   "outputs": [
    {
     "name": "stdout",
     "output_type": "stream",
     "text": [
      "[[ 2.88688838  1.11952349]\n",
      " [ 0.50554777  4.05210011]\n",
      " [ 0.53224461  4.04986851]\n",
      " [ 1.48591254 -0.12883337]\n",
      " [ 3.1014067  -0.55132586]]\n",
      "[1 0 0 1 1]\n"
     ]
    }
   ],
   "source": [
    "print(test_X[:5])\n",
    "print(svc.predict(test_X[:5]))"
   ]
  },
  {
   "cell_type": "markdown",
   "id": "a245a309-3188-4a14-ae76-4f9432aa948e",
   "metadata": {},
   "source": [
    "The next 5 samples are also classified correctly."
   ]
  },
  {
   "cell_type": "code",
   "execution_count": 12,
   "id": "9129aa3e-afdc-4c11-885e-665443398afb",
   "metadata": {},
   "outputs": [
    {
     "name": "stdout",
     "output_type": "stream",
     "text": [
      "[[1.70664481 2.2483361 ]\n",
      " [2.02776955 0.07999821]\n",
      " [1.50899649 4.38895984]\n",
      " [2.3223295  5.34014768]\n",
      " [0.69404622 5.15949888]]\n",
      "[1 1 0 0 0]\n"
     ]
    }
   ],
   "source": [
    "print(test_X[5:10])\n",
    "print(svc.predict(test_X[5:10]))"
   ]
  },
  {
   "cell_type": "markdown",
   "id": "ecc9a312-e67c-4a04-91fc-fc82de35a143",
   "metadata": {},
   "source": [
    "This can be shown clearly if we introduce a hyperplane to our plot. "
   ]
  },
  {
   "cell_type": "code",
   "execution_count": 13,
   "id": "8b6cac63-43db-498f-8eac-38fbd126a2d0",
   "metadata": {},
   "outputs": [
    {
     "data": {
      "image/png": "[encoded data removed]",
      "text/plain": [
       "<Figure size 432x288 with 1 Axes>"
      ]
     },
     "metadata": {
      "needs_background": "light"
     },
     "output_type": "display_data"
    }
   ],
   "source": [
    "plt.scatter(train_X[:,0], train_X[:,1],c=train_y)\n",
    "\n",
    "#get the axes\n",
    "ax=plt.gca()\n",
    "#range of x values\n",
    "xlim= ax.get_xlim()\n",
    "ylim= ax.get_ylim()\n",
    "\n",
    "#add another scatter plot using the test set. Mark this plot using squares(marker='s')\n",
    "ax.scatter(test_X[:,0], test_X[:,1],c=test_y, marker='s')\n",
    "\n",
    "#Weights assigned to the features\n",
    "w=svc.coef_[0]\n",
    "\n",
    "#slope of line\n",
    "a=-w[0]/w[1]\n",
    "\n",
    "#range of x values for the hyperplane\n",
    "xx=np.linspace(xlim[0],xlim[1])\n",
    "\n",
    "\n",
    "#equation of the line\n",
    "#slope * all the x values - the intercept\n",
    "yy=a * xx-(svc.intercept_[0]/w[1])\n",
    "plt.plot(xx,yy)\n",
    "plt.show()"
   ]
  },
  {
   "cell_type": "markdown",
   "id": "8ed1ffca-0afd-40d4-ab33-15fa2987d85e",
   "metadata": {},
   "source": [
    "Thanks to the hyperplane, we can clearly see that all our test data, which is represented as squares, was classified correctly."
   ]
  },
  {
   "cell_type": "markdown",
   "id": "aa288e96-8ed7-42c2-917b-798be6e35673",
   "metadata": {},
   "source": [
    "## Non linear SVM\n",
    "### What happens if the data isn't this simple?\n",
    "If your data has more than two features(dimensions). If this is the case, it is necessary to move to a higher dimensional viewpoint of the data. To do this we use a __kernel__ . \n",
    "### Kernel\n",
    "The kernel allows for the transformation of the data into a higher or lower dimension, as necessary. The use of a kernel allows the SVM algorithm to view the data in a   \n",
    "higher dimension, which in turn allows for the plotting of a hyperplane on more complex data.\n"
   ]
  },
  {
   "cell_type": "markdown",
   "id": "d9d6132b-da81-41f1-89ff-c72003261d2b",
   "metadata": {},
   "source": [
    "# Classifying the Wine Quality Dataset"
   ]
  },
  {
   "cell_type": "markdown",
   "id": "e8ae6251-9edd-4ed2-81a1-49b17c591807",
   "metadata": {},
   "source": [
    "## Understanding the dataset"
   ]
  },
  {
   "cell_type": "code",
   "execution_count": 14,
   "id": "395326b8-987e-4f12-9148-61d1e2299978",
   "metadata": {},
   "outputs": [],
   "source": [
    "#Libraries we will use\n",
    "import numpy as np\n",
    "import warnings\n",
    "import pandas as pd\n",
    "import matplotlib.pyplot as plt\n",
    "import seaborn as sns\n",
    "from sklearn.model_selection import train_test_split\n",
    "from sklearn.linear_model import LinearRegression\n",
    "from sklearn.metrics import mean_squared_error\n",
    "from sklearn.metrics import accuracy_score\n",
    "from sklearn.metrics import f1_score, confusion_matrix, accuracy_score, recall_score, precision_score\n",
    "from sklearn.preprocessing import PolynomialFeatures\n",
    "from sklearn.metrics import mean_squared_error\n",
    "from sklearn.tree import DecisionTreeRegressor\n",
    "from sklearn.ensemble import RandomForestRegressor\n",
    "from sklearn import linear_model\n",
    "from math import sqrt\n",
    "#from prettytable import PrettyTable"
   ]
  },
  {
   "cell_type": "code",
   "execution_count": 15,
   "id": "909c7e65-cde9-4fe9-b7eb-71876365b76e",
   "metadata": {},
   "outputs": [
    {
     "data": {
      "text/html": [
       "<div>\n",
       "<style scoped>\n",
       "    .dataframe tbody tr th:only-of-type {\n",
       "        vertical-align: middle;\n",
       "    }\n",
       "\n",
       "    .dataframe tbody tr th {\n",
       "        vertical-align: top;\n",
       "    }\n",
       "\n",
       "    .dataframe thead th {\n",
       "        text-align: right;\n",
       "    }\n",
       "</style>\n",
       "<table border=\"1\" class=\"dataframe\">\n",
       "  <thead>\n",
       "    <tr style=\"text-align: right;\">\n",
       "      <th></th>\n",
       "      <th>fixed acidity</th>\n",
       "      <th>volatile acidity</th>\n",
       "      <th>citric acid</th>\n",
       "      <th>residual sugar</th>\n",
       "      <th>chlorides</th>\n",
       "      <th>free sulfur dioxide</th>\n",
       "      <th>total sulfur dioxide</th>\n",
       "      <th>density</th>\n",
       "      <th>pH</th>\n",
       "      <th>sulphates</th>\n",
       "      <th>alcohol</th>\n",
       "      <th>quality</th>\n",
       "    </tr>\n",
       "  </thead>\n",
       "  <tbody>\n",
       "    <tr>\n",
       "      <th>0</th>\n",
       "      <td>7.4</td>\n",
       "      <td>0.700</td>\n",
       "      <td>0.00</td>\n",
       "      <td>1.9</td>\n",
       "      <td>0.076</td>\n",
       "      <td>11.0</td>\n",
       "      <td>34.0</td>\n",
       "      <td>0.99780</td>\n",
       "      <td>3.51</td>\n",
       "      <td>0.56</td>\n",
       "      <td>9.4</td>\n",
       "      <td>5</td>\n",
       "    </tr>\n",
       "    <tr>\n",
       "      <th>1</th>\n",
       "      <td>7.8</td>\n",
       "      <td>0.880</td>\n",
       "      <td>0.00</td>\n",
       "      <td>2.6</td>\n",
       "      <td>0.098</td>\n",
       "      <td>25.0</td>\n",
       "      <td>67.0</td>\n",
       "      <td>0.99680</td>\n",
       "      <td>3.20</td>\n",
       "      <td>0.68</td>\n",
       "      <td>9.8</td>\n",
       "      <td>5</td>\n",
       "    </tr>\n",
       "    <tr>\n",
       "      <th>2</th>\n",
       "      <td>7.8</td>\n",
       "      <td>0.760</td>\n",
       "      <td>0.04</td>\n",
       "      <td>2.3</td>\n",
       "      <td>0.092</td>\n",
       "      <td>15.0</td>\n",
       "      <td>54.0</td>\n",
       "      <td>0.99700</td>\n",
       "      <td>3.26</td>\n",
       "      <td>0.65</td>\n",
       "      <td>9.8</td>\n",
       "      <td>5</td>\n",
       "    </tr>\n",
       "    <tr>\n",
       "      <th>3</th>\n",
       "      <td>11.2</td>\n",
       "      <td>0.280</td>\n",
       "      <td>0.56</td>\n",
       "      <td>1.9</td>\n",
       "      <td>0.075</td>\n",
       "      <td>17.0</td>\n",
       "      <td>60.0</td>\n",
       "      <td>0.99800</td>\n",
       "      <td>3.16</td>\n",
       "      <td>0.58</td>\n",
       "      <td>9.8</td>\n",
       "      <td>6</td>\n",
       "    </tr>\n",
       "    <tr>\n",
       "      <th>4</th>\n",
       "      <td>7.4</td>\n",
       "      <td>0.700</td>\n",
       "      <td>0.00</td>\n",
       "      <td>1.9</td>\n",
       "      <td>0.076</td>\n",
       "      <td>11.0</td>\n",
       "      <td>34.0</td>\n",
       "      <td>0.99780</td>\n",
       "      <td>3.51</td>\n",
       "      <td>0.56</td>\n",
       "      <td>9.4</td>\n",
       "      <td>5</td>\n",
       "    </tr>\n",
       "    <tr>\n",
       "      <th>...</th>\n",
       "      <td>...</td>\n",
       "      <td>...</td>\n",
       "      <td>...</td>\n",
       "      <td>...</td>\n",
       "      <td>...</td>\n",
       "      <td>...</td>\n",
       "      <td>...</td>\n",
       "      <td>...</td>\n",
       "      <td>...</td>\n",
       "      <td>...</td>\n",
       "      <td>...</td>\n",
       "      <td>...</td>\n",
       "    </tr>\n",
       "    <tr>\n",
       "      <th>1594</th>\n",
       "      <td>6.2</td>\n",
       "      <td>0.600</td>\n",
       "      <td>0.08</td>\n",
       "      <td>2.0</td>\n",
       "      <td>0.090</td>\n",
       "      <td>32.0</td>\n",
       "      <td>44.0</td>\n",
       "      <td>0.99490</td>\n",
       "      <td>3.45</td>\n",
       "      <td>0.58</td>\n",
       "      <td>10.5</td>\n",
       "      <td>5</td>\n",
       "    </tr>\n",
       "    <tr>\n",
       "      <th>1595</th>\n",
       "      <td>5.9</td>\n",
       "      <td>0.550</td>\n",
       "      <td>0.10</td>\n",
       "      <td>2.2</td>\n",
       "      <td>0.062</td>\n",
       "      <td>39.0</td>\n",
       "      <td>51.0</td>\n",
       "      <td>0.99512</td>\n",
       "      <td>3.52</td>\n",
       "      <td>0.76</td>\n",
       "      <td>11.2</td>\n",
       "      <td>6</td>\n",
       "    </tr>\n",
       "    <tr>\n",
       "      <th>1596</th>\n",
       "      <td>6.3</td>\n",
       "      <td>0.510</td>\n",
       "      <td>0.13</td>\n",
       "      <td>2.3</td>\n",
       "      <td>0.076</td>\n",
       "      <td>29.0</td>\n",
       "      <td>40.0</td>\n",
       "      <td>0.99574</td>\n",
       "      <td>3.42</td>\n",
       "      <td>0.75</td>\n",
       "      <td>11.0</td>\n",
       "      <td>6</td>\n",
       "    </tr>\n",
       "    <tr>\n",
       "      <th>1597</th>\n",
       "      <td>5.9</td>\n",
       "      <td>0.645</td>\n",
       "      <td>0.12</td>\n",
       "      <td>2.0</td>\n",
       "      <td>0.075</td>\n",
       "      <td>32.0</td>\n",
       "      <td>44.0</td>\n",
       "      <td>0.99547</td>\n",
       "      <td>3.57</td>\n",
       "      <td>0.71</td>\n",
       "      <td>10.2</td>\n",
       "      <td>5</td>\n",
       "    </tr>\n",
       "    <tr>\n",
       "      <th>1598</th>\n",
       "      <td>6.0</td>\n",
       "      <td>0.310</td>\n",
       "      <td>0.47</td>\n",
       "      <td>3.6</td>\n",
       "      <td>0.067</td>\n",
       "      <td>18.0</td>\n",
       "      <td>42.0</td>\n",
       "      <td>0.99549</td>\n",
       "      <td>3.39</td>\n",
       "      <td>0.66</td>\n",
       "      <td>11.0</td>\n",
       "      <td>6</td>\n",
       "    </tr>\n",
       "  </tbody>\n",
       "</table>\n",
       "<p>1599 rows × 12 columns</p>\n",
       "</div>"
      ],
      "text/plain": [
       "      fixed acidity  volatile acidity  citric acid  residual sugar  chlorides  \\\n",
       "0               7.4             0.700         0.00             1.9      0.076   \n",
       "1               7.8             0.880         0.00             2.6      0.098   \n",
       "2               7.8             0.760         0.04             2.3      0.092   \n",
       "3              11.2             0.280         0.56             1.9      0.075   \n",
       "4               7.4             0.700         0.00             1.9      0.076   \n",
       "...             ...               ...          ...             ...        ...   \n",
       "1594            6.2             0.600         0.08             2.0      0.090   \n",
       "1595            5.9             0.550         0.10             2.2      0.062   \n",
       "1596            6.3             0.510         0.13             2.3      0.076   \n",
       "1597            5.9             0.645         0.12             2.0      0.075   \n",
       "1598            6.0             0.310         0.47             3.6      0.067   \n",
       "\n",
       "      free sulfur dioxide  total sulfur dioxide  density    pH  sulphates  \\\n",
       "0                    11.0                  34.0  0.99780  3.51       0.56   \n",
       "1                    25.0                  67.0  0.99680  3.20       0.68   \n",
       "2                    15.0                  54.0  0.99700  3.26       0.65   \n",
       "3                    17.0                  60.0  0.99800  3.16       0.58   \n",
       "4                    11.0                  34.0  0.99780  3.51       0.56   \n",
       "...                   ...                   ...      ...   ...        ...   \n",
       "1594                 32.0                  44.0  0.99490  3.45       0.58   \n",
       "1595                 39.0                  51.0  0.99512  3.52       0.76   \n",
       "1596                 29.0                  40.0  0.99574  3.42       0.75   \n",
       "1597                 32.0                  44.0  0.99547  3.57       0.71   \n",
       "1598                 18.0                  42.0  0.99549  3.39       0.66   \n",
       "\n",
       "      alcohol  quality  \n",
       "0         9.4        5  \n",
       "1         9.8        5  \n",
       "2         9.8        5  \n",
       "3         9.8        6  \n",
       "4         9.4        5  \n",
       "...       ...      ...  \n",
       "1594     10.5        5  \n",
       "1595     11.2        6  \n",
       "1596     11.0        6  \n",
       "1597     10.2        5  \n",
       "1598     11.0        6  \n",
       "\n",
       "[1599 rows x 12 columns]"
      ]
     },
     "execution_count": 15,
     "metadata": {},
     "output_type": "execute_result"
    }
   ],
   "source": [
    "df=pd.read_csv(\"winequality-red.csv\",sep=\";\")\n",
    "df.head(10)\n",
    "df"
   ]
  },
  {
   "cell_type": "markdown",
   "id": "783cb154-e48e-4356-afe6-aed05ad0cd16",
   "metadata": {},
   "source": [
    "In order to get a better understanding of this data, I can use a __correlation matrix__."
   ]
  },
  {
   "cell_type": "code",
   "execution_count": 16,
   "id": "bd6bc970-3ffd-487c-b45e-0e1f10b1bbd1",
   "metadata": {},
   "outputs": [
    {
     "data": {
      "text/plain": [
       "<AxesSubplot:>"
      ]
     },
     "execution_count": 16,
     "metadata": {},
     "output_type": "execute_result"
    },
    {
     "data": {
      "image/png": "[encoded data removed]",
      "text/plain": [
       "<Figure size 1080x720 with 2 Axes>"
      ]
     },
     "metadata": {
      "needs_background": "light"
     },
     "output_type": "display_data"
    }
   ],
   "source": [
    "corr = df.corr()\n",
    "plt.subplots(figsize=(15,10))\n",
    "sns.heatmap(corr, xticklabels=corr.columns, yticklabels=corr.columns, annot=True, cmap=sns.diverging_palette(220, 20, as_cmap=True))"
   ]
  },
  {
   "cell_type": "markdown",
   "id": "0edf5b1c-22a8-4915-a47a-3b211517a356",
   "metadata": {},
   "source": [
    "A correlation matrix gives us the correlation coefficient for every pair of features in the dataset.  \n",
    "The formula returns a number between 1 and -1. What this means is:  \n",
    "- A number close to 1 indicates a strong positive relationship between the two features.\n",
    "- A number close to -1 indicates a strong negative relationship between the two features.\n",
    "- 0 means there is no relationship. [14]\n",
    "\n",
    "The matrix shows us that quality has the most correlations with other features. Its strongest correlation is alcohol content.  \n",
    "Its second strongest correlation is volatile acidity, and its third strongest is sulphates."
   ]
  },
  {
   "cell_type": "code",
   "execution_count": 17,
   "id": "0124335e-d972-4bd3-8cb7-137b28d0a0d1",
   "metadata": {},
   "outputs": [
    {
     "data": {
      "text/plain": [
       "<pandas.core.groupby.generic.DataFrameGroupBy object at 0x000002D1A6AEF3D0>"
      ]
     },
     "execution_count": 17,
     "metadata": {},
     "output_type": "execute_result"
    }
   ],
   "source": [
    "x = df.groupby('quality')\n",
    "x"
   ]
  },
  {
   "cell_type": "code",
   "execution_count": 18,
   "id": "cb9cd0a6-1339-4ee7-9b10-5f85770c9d58",
   "metadata": {},
   "outputs": [
    {
     "data": {
      "text/html": [
       "<div>\n",
       "<style scoped>\n",
       "    .dataframe tbody tr th:only-of-type {\n",
       "        vertical-align: middle;\n",
       "    }\n",
       "\n",
       "    .dataframe tbody tr th {\n",
       "        vertical-align: top;\n",
       "    }\n",
       "\n",
       "    .dataframe thead th {\n",
       "        text-align: right;\n",
       "    }\n",
       "</style>\n",
       "<table border=\"1\" class=\"dataframe\">\n",
       "  <thead>\n",
       "    <tr style=\"text-align: right;\">\n",
       "      <th></th>\n",
       "      <th>fixed acidity</th>\n",
       "      <th>volatile acidity</th>\n",
       "      <th>citric acid</th>\n",
       "      <th>residual sugar</th>\n",
       "      <th>chlorides</th>\n",
       "      <th>free sulfur dioxide</th>\n",
       "      <th>total sulfur dioxide</th>\n",
       "      <th>density</th>\n",
       "      <th>pH</th>\n",
       "      <th>sulphates</th>\n",
       "      <th>alcohol</th>\n",
       "    </tr>\n",
       "    <tr>\n",
       "      <th>quality</th>\n",
       "      <th></th>\n",
       "      <th></th>\n",
       "      <th></th>\n",
       "      <th></th>\n",
       "      <th></th>\n",
       "      <th></th>\n",
       "      <th></th>\n",
       "      <th></th>\n",
       "      <th></th>\n",
       "      <th></th>\n",
       "      <th></th>\n",
       "    </tr>\n",
       "  </thead>\n",
       "  <tbody>\n",
       "    <tr>\n",
       "      <th>3</th>\n",
       "      <td>8.360000</td>\n",
       "      <td>0.884500</td>\n",
       "      <td>0.171000</td>\n",
       "      <td>2.635000</td>\n",
       "      <td>0.122500</td>\n",
       "      <td>11.000000</td>\n",
       "      <td>24.900000</td>\n",
       "      <td>0.997464</td>\n",
       "      <td>3.398000</td>\n",
       "      <td>0.570000</td>\n",
       "      <td>9.955000</td>\n",
       "    </tr>\n",
       "    <tr>\n",
       "      <th>4</th>\n",
       "      <td>7.779245</td>\n",
       "      <td>0.693962</td>\n",
       "      <td>0.174151</td>\n",
       "      <td>2.694340</td>\n",
       "      <td>0.090679</td>\n",
       "      <td>12.264151</td>\n",
       "      <td>36.245283</td>\n",
       "      <td>0.996542</td>\n",
       "      <td>3.381509</td>\n",
       "      <td>0.596415</td>\n",
       "      <td>10.265094</td>\n",
       "    </tr>\n",
       "    <tr>\n",
       "      <th>5</th>\n",
       "      <td>8.167254</td>\n",
       "      <td>0.577041</td>\n",
       "      <td>0.243686</td>\n",
       "      <td>2.528855</td>\n",
       "      <td>0.092736</td>\n",
       "      <td>16.983847</td>\n",
       "      <td>56.513950</td>\n",
       "      <td>0.997104</td>\n",
       "      <td>3.304949</td>\n",
       "      <td>0.620969</td>\n",
       "      <td>9.899706</td>\n",
       "    </tr>\n",
       "    <tr>\n",
       "      <th>6</th>\n",
       "      <td>8.347179</td>\n",
       "      <td>0.497484</td>\n",
       "      <td>0.273824</td>\n",
       "      <td>2.477194</td>\n",
       "      <td>0.084956</td>\n",
       "      <td>15.711599</td>\n",
       "      <td>40.869906</td>\n",
       "      <td>0.996615</td>\n",
       "      <td>3.318072</td>\n",
       "      <td>0.675329</td>\n",
       "      <td>10.629519</td>\n",
       "    </tr>\n",
       "    <tr>\n",
       "      <th>7</th>\n",
       "      <td>8.872362</td>\n",
       "      <td>0.403920</td>\n",
       "      <td>0.375176</td>\n",
       "      <td>2.720603</td>\n",
       "      <td>0.076588</td>\n",
       "      <td>14.045226</td>\n",
       "      <td>35.020101</td>\n",
       "      <td>0.996104</td>\n",
       "      <td>3.290754</td>\n",
       "      <td>0.741256</td>\n",
       "      <td>11.465913</td>\n",
       "    </tr>\n",
       "    <tr>\n",
       "      <th>8</th>\n",
       "      <td>8.566667</td>\n",
       "      <td>0.423333</td>\n",
       "      <td>0.391111</td>\n",
       "      <td>2.577778</td>\n",
       "      <td>0.068444</td>\n",
       "      <td>13.277778</td>\n",
       "      <td>33.444444</td>\n",
       "      <td>0.995212</td>\n",
       "      <td>3.267222</td>\n",
       "      <td>0.767778</td>\n",
       "      <td>12.094444</td>\n",
       "    </tr>\n",
       "  </tbody>\n",
       "</table>\n",
       "</div>"
      ],
      "text/plain": [
       "         fixed acidity  volatile acidity  citric acid  residual sugar  \\\n",
       "quality                                                                 \n",
       "3             8.360000          0.884500     0.171000        2.635000   \n",
       "4             7.779245          0.693962     0.174151        2.694340   \n",
       "5             8.167254          0.577041     0.243686        2.528855   \n",
       "6             8.347179          0.497484     0.273824        2.477194   \n",
       "7             8.872362          0.403920     0.375176        2.720603   \n",
       "8             8.566667          0.423333     0.391111        2.577778   \n",
       "\n",
       "         chlorides  free sulfur dioxide  total sulfur dioxide   density  \\\n",
       "quality                                                                   \n",
       "3         0.122500            11.000000             24.900000  0.997464   \n",
       "4         0.090679            12.264151             36.245283  0.996542   \n",
       "5         0.092736            16.983847             56.513950  0.997104   \n",
       "6         0.084956            15.711599             40.869906  0.996615   \n",
       "7         0.076588            14.045226             35.020101  0.996104   \n",
       "8         0.068444            13.277778             33.444444  0.995212   \n",
       "\n",
       "               pH  sulphates    alcohol  \n",
       "quality                                  \n",
       "3        3.398000   0.570000   9.955000  \n",
       "4        3.381509   0.596415  10.265094  \n",
       "5        3.304949   0.620969   9.899706  \n",
       "6        3.318072   0.675329  10.629519  \n",
       "7        3.290754   0.741256  11.465913  \n",
       "8        3.267222   0.767778  12.094444  "
      ]
     },
     "execution_count": 18,
     "metadata": {},
     "output_type": "execute_result"
    }
   ],
   "source": [
    "x.mean()"
   ]
  },
  {
   "cell_type": "markdown",
   "id": "98e56f76-0542-4fe4-9532-cb65d48a8a40",
   "metadata": {},
   "source": [
    "## Quality vs alcohol\n",
    "The two below graphs show me more details about the correlation between wine quallity and alcohol  \n",
    "content. They show that generally, higher alcohol content is associated with higher quality wine."
   ]
  },
  {
   "cell_type": "code",
   "execution_count": 19,
   "id": "ab4baa23-7f17-40af-849e-bd209d6f2a60",
   "metadata": {},
   "outputs": [
    {
     "data": {
      "image/png": "[encoded data removed]",
      "text/plain": [
       "<Figure size 864x432 with 1 Axes>"
      ]
     },
     "metadata": {
      "needs_background": "light"
     },
     "output_type": "display_data"
    }
   ],
   "source": [
    "#plot alcohol vs quality, this shows us that as quality of wine increases\n",
    "#so does the alcohol content\n",
    "plt.figure(figsize=(12,6))\n",
    "sns.barplot(x='quality', y='alcohol', data=df)\n",
    "plt.show()"
   ]
  },
  {
   "cell_type": "code",
   "execution_count": 20,
   "id": "8b345cb4-1d46-4f12-a2a9-665348c8fecd",
   "metadata": {},
   "outputs": [
    {
     "data": {
      "image/png": "[encoded data removed]",
      "text/plain": [
       "<Figure size 432x288 with 1 Axes>"
      ]
     },
     "metadata": {
      "needs_background": "light"
     },
     "output_type": "display_data"
    }
   ],
   "source": [
    "fig, ax = plt.subplots()\n",
    "\n",
    "for quality, data in df.groupby('quality'):\n",
    "    ax.scatter(data['alcohol'], data['quality'], label=quality)\n",
    "\n",
    "#Label the axes.\n",
    "ax.set_xlabel('Alcohol')\n",
    "ax.set_ylabel('Quality')\n",
    "ax.legend();"
   ]
  },
  {
   "cell_type": "markdown",
   "id": "1f03642e-a6c9-4604-8072-bccecb115317",
   "metadata": {},
   "source": [
    "# Prepare data for classification"
   ]
  },
  {
   "cell_type": "markdown",
   "id": "dadd551f-5379-4b1c-9702-a0dd3c27862a",
   "metadata": {},
   "source": [
    "## Imbalanced dataset"
   ]
  },
  {
   "cell_type": "code",
   "execution_count": 21,
   "id": "964fcb09-c06a-4518-8a5f-2fbbb0bc5db9",
   "metadata": {},
   "outputs": [
    {
     "data": {
      "image/png": "[encoded data removed]",
      "text/plain": [
       "<Figure size 864x432 with 1 Axes>"
      ]
     },
     "metadata": {
      "needs_background": "light"
     },
     "output_type": "display_data"
    }
   ],
   "source": [
    "#Show distribution of qualities\n",
    "plt.figure(figsize=(12,6))\n",
    "x=df['quality']\n",
    "sns.countplot(x=x)\n",
    "plt.show()"
   ]
  },
  {
   "cell_type": "markdown",
   "id": "3be5a8e1-8a89-4a05-8ec2-6d0526886fc4",
   "metadata": {},
   "source": [
    "The above plot shows us that there is an imbalance in this dataset. The amount of wine that has the qualities  \n",
    "of 5 and 6 is very high in comparison to the others. The classes are not represented equally."
   ]
  },
  {
   "cell_type": "code",
   "execution_count": 22,
   "id": "1e5e78e6-a2d7-4c06-84a6-f82c429f8ba3",
   "metadata": {},
   "outputs": [
    {
     "data": {
      "text/html": [
       "<div>\n",
       "<style scoped>\n",
       "    .dataframe tbody tr th:only-of-type {\n",
       "        vertical-align: middle;\n",
       "    }\n",
       "\n",
       "    .dataframe tbody tr th {\n",
       "        vertical-align: top;\n",
       "    }\n",
       "\n",
       "    .dataframe thead th {\n",
       "        text-align: right;\n",
       "    }\n",
       "</style>\n",
       "<table border=\"1\" class=\"dataframe\">\n",
       "  <thead>\n",
       "    <tr style=\"text-align: right;\">\n",
       "      <th></th>\n",
       "      <th>fixed acidity</th>\n",
       "      <th>volatile acidity</th>\n",
       "      <th>citric acid</th>\n",
       "      <th>residual sugar</th>\n",
       "      <th>chlorides</th>\n",
       "      <th>free sulfur dioxide</th>\n",
       "      <th>total sulfur dioxide</th>\n",
       "      <th>density</th>\n",
       "      <th>pH</th>\n",
       "      <th>sulphates</th>\n",
       "      <th>alcohol</th>\n",
       "    </tr>\n",
       "    <tr>\n",
       "      <th>quality</th>\n",
       "      <th></th>\n",
       "      <th></th>\n",
       "      <th></th>\n",
       "      <th></th>\n",
       "      <th></th>\n",
       "      <th></th>\n",
       "      <th></th>\n",
       "      <th></th>\n",
       "      <th></th>\n",
       "      <th></th>\n",
       "      <th></th>\n",
       "    </tr>\n",
       "  </thead>\n",
       "  <tbody>\n",
       "    <tr>\n",
       "      <th>3</th>\n",
       "      <td>10</td>\n",
       "      <td>10</td>\n",
       "      <td>10</td>\n",
       "      <td>10</td>\n",
       "      <td>10</td>\n",
       "      <td>10</td>\n",
       "      <td>10</td>\n",
       "      <td>10</td>\n",
       "      <td>10</td>\n",
       "      <td>10</td>\n",
       "      <td>10</td>\n",
       "    </tr>\n",
       "    <tr>\n",
       "      <th>4</th>\n",
       "      <td>53</td>\n",
       "      <td>53</td>\n",
       "      <td>53</td>\n",
       "      <td>53</td>\n",
       "      <td>53</td>\n",
       "      <td>53</td>\n",
       "      <td>53</td>\n",
       "      <td>53</td>\n",
       "      <td>53</td>\n",
       "      <td>53</td>\n",
       "      <td>53</td>\n",
       "    </tr>\n",
       "    <tr>\n",
       "      <th>5</th>\n",
       "      <td>681</td>\n",
       "      <td>681</td>\n",
       "      <td>681</td>\n",
       "      <td>681</td>\n",
       "      <td>681</td>\n",
       "      <td>681</td>\n",
       "      <td>681</td>\n",
       "      <td>681</td>\n",
       "      <td>681</td>\n",
       "      <td>681</td>\n",
       "      <td>681</td>\n",
       "    </tr>\n",
       "    <tr>\n",
       "      <th>6</th>\n",
       "      <td>638</td>\n",
       "      <td>638</td>\n",
       "      <td>638</td>\n",
       "      <td>638</td>\n",
       "      <td>638</td>\n",
       "      <td>638</td>\n",
       "      <td>638</td>\n",
       "      <td>638</td>\n",
       "      <td>638</td>\n",
       "      <td>638</td>\n",
       "      <td>638</td>\n",
       "    </tr>\n",
       "    <tr>\n",
       "      <th>7</th>\n",
       "      <td>199</td>\n",
       "      <td>199</td>\n",
       "      <td>199</td>\n",
       "      <td>199</td>\n",
       "      <td>199</td>\n",
       "      <td>199</td>\n",
       "      <td>199</td>\n",
       "      <td>199</td>\n",
       "      <td>199</td>\n",
       "      <td>199</td>\n",
       "      <td>199</td>\n",
       "    </tr>\n",
       "    <tr>\n",
       "      <th>8</th>\n",
       "      <td>18</td>\n",
       "      <td>18</td>\n",
       "      <td>18</td>\n",
       "      <td>18</td>\n",
       "      <td>18</td>\n",
       "      <td>18</td>\n",
       "      <td>18</td>\n",
       "      <td>18</td>\n",
       "      <td>18</td>\n",
       "      <td>18</td>\n",
       "      <td>18</td>\n",
       "    </tr>\n",
       "  </tbody>\n",
       "</table>\n",
       "</div>"
      ],
      "text/plain": [
       "         fixed acidity  volatile acidity  citric acid  residual sugar  \\\n",
       "quality                                                                 \n",
       "3                   10                10           10              10   \n",
       "4                   53                53           53              53   \n",
       "5                  681               681          681             681   \n",
       "6                  638               638          638             638   \n",
       "7                  199               199          199             199   \n",
       "8                   18                18           18              18   \n",
       "\n",
       "         chlorides  free sulfur dioxide  total sulfur dioxide  density   pH  \\\n",
       "quality                                                                       \n",
       "3               10                   10                    10       10   10   \n",
       "4               53                   53                    53       53   53   \n",
       "5              681                  681                   681      681  681   \n",
       "6              638                  638                   638      638  638   \n",
       "7              199                  199                   199      199  199   \n",
       "8               18                   18                    18       18   18   \n",
       "\n",
       "         sulphates  alcohol  \n",
       "quality                      \n",
       "3               10       10  \n",
       "4               53       53  \n",
       "5              681      681  \n",
       "6              638      638  \n",
       "7              199      199  \n",
       "8               18       18  "
      ]
     },
     "execution_count": 22,
     "metadata": {},
     "output_type": "execute_result"
    }
   ],
   "source": [
    "#count the exact amount of each quality\n",
    "df.groupby('quality').count()"
   ]
  },
  {
   "cell_type": "markdown",
   "id": "e5089776-400d-48fd-95dc-675e2e0489e6",
   "metadata": {},
   "source": [
    "## Why does this matter?"
   ]
  },
  {
   "cell_type": "markdown",
   "id": "d18b6c86-434b-4a7a-8573-9ed519b986e9",
   "metadata": {},
   "source": [
    "If I train classification algorithms on this imbalanced dataset, I will get back a high classification accuracy.  \n",
    "However, this accuracy will only apply to data that has the same imbalanced distribution.  \n",
    "This means that I must fix this imbalance before I attempt to classify the data.[15]"
   ]
  },
  {
   "cell_type": "code",
   "execution_count": 23,
   "id": "5875213b-b098-4707-934d-2c047a860741",
   "metadata": {},
   "outputs": [],
   "source": [
    "#X has has the dependant variables\n",
    "#drop all features except the quality \n",
    "x=df.drop(['quality'],axis=1)\n",
    "y=df['quality']"
   ]
  },
  {
   "cell_type": "markdown",
   "id": "251997c6-b4ca-4d49-8114-70cd9a078a07",
   "metadata": {},
   "source": [
    "### Over-sampling: SMOTE"
   ]
  },
  {
   "cell_type": "markdown",
   "id": "ffb4582b-928e-464c-a918-b4abf251f533",
   "metadata": {},
   "source": [
    "The technique I will use to solve this issue is SMOTE(Synthetic Minority Oversampling Technique)."
   ]
  },
  {
   "cell_type": "markdown",
   "id": "7a8f1c84-756a-4605-9f7a-c3b08bb9b297",
   "metadata": {},
   "source": [
    "This strategy involves making additional samples for the elements that are in the minority.  In the case of this dataset,  \n",
    "this technique will create additional datapoints or samples for the wine qualities other than 5,  \n",
    "because quality 5 vastly outnumbers the rest. It will add enough to make the ratio of all qualities  \n",
    "1:1. This fixes the imbalance of the dataset."
   ]
  },
  {
   "cell_type": "code",
   "execution_count": 24,
   "id": "6284c02b-769a-4126-8762-b855c2f793d4",
   "metadata": {},
   "outputs": [],
   "source": [
    "from imblearn.over_sampling import SMOTE\n",
    "oversample=SMOTE()\n",
    "x_res,y_res=oversample.fit_resample(x,y)"
   ]
  },
  {
   "cell_type": "code",
   "execution_count": 25,
   "id": "69a6f952-f7ac-4ed0-8ba9-010eec6029a0",
   "metadata": {},
   "outputs": [
    {
     "data": {
      "text/plain": [
       "1599"
      ]
     },
     "execution_count": 25,
     "metadata": {},
     "output_type": "execute_result"
    }
   ],
   "source": [
    "df['quality'].count()"
   ]
  },
  {
   "cell_type": "markdown",
   "id": "4ea8db4b-b3c6-428e-99ed-c38b4bf93141",
   "metadata": {},
   "source": [
    "SMOTE increased the amount of qualities to achieve a 1:1 ratio."
   ]
  },
  {
   "cell_type": "code",
   "execution_count": 26,
   "id": "08ad87f8-d6d8-4d77-84c4-9ba8537776a5",
   "metadata": {},
   "outputs": [
    {
     "data": {
      "text/plain": [
       "4086"
      ]
     },
     "execution_count": 26,
     "metadata": {},
     "output_type": "execute_result"
    }
   ],
   "source": [
    "y_res.count()"
   ]
  },
  {
   "cell_type": "code",
   "execution_count": 37,
   "id": "d243d0ff-f1fc-44f8-a84b-1d5d229502ec",
   "metadata": {},
   "outputs": [],
   "source": [
    "#split the balanced dataset into a training set and into a test set\n",
    "from sklearn.model_selection import train_test_split\n",
    "x_train, x_test, y_train, y_test = train_test_split(x_res,y_res,test_size=0.2, random_state=0)"
   ]
  },
  {
   "cell_type": "markdown",
   "id": "9fa86bbc-cd24-480d-bb1a-ec6a0e68ac65",
   "metadata": {},
   "source": [
    "### Scale dataset"
   ]
  },
  {
   "cell_type": "markdown",
   "id": "74216dc3-b603-49a0-b5cc-21404754108a",
   "metadata": {},
   "source": []
  },
  {
   "cell_type": "code",
   "execution_count": 38,
   "id": "fe63f3d1-f8b1-4996-a8d4-e50501b8412f",
   "metadata": {},
   "outputs": [],
   "source": [
    "from sklearn.preprocessing import StandardScaler\n",
    "stdscale = StandardScaler().fit(x_train)\n",
    "x_train_std = stdscale.transform(x_train)\n",
    "x_test_std = stdscale.transform(x_test)"
   ]
  },
  {
   "cell_type": "code",
   "execution_count": 39,
   "id": "faaab863-4c6f-4cae-9cf0-6b921c2ce845",
   "metadata": {},
   "outputs": [
    {
     "data": {
      "text/plain": [
       "fixed acidity           818\n",
       "volatile acidity        818\n",
       "citric acid             818\n",
       "residual sugar          818\n",
       "chlorides               818\n",
       "free sulfur dioxide     818\n",
       "total sulfur dioxide    818\n",
       "density                 818\n",
       "pH                      818\n",
       "sulphates               818\n",
       "alcohol                 818\n",
       "dtype: int64"
      ]
     },
     "execution_count": 39,
     "metadata": {},
     "output_type": "execute_result"
    }
   ],
   "source": [
    "x_test.count()"
   ]
  },
  {
   "cell_type": "code",
   "execution_count": 40,
   "id": "c3535831-691e-46ae-892a-0133e399be74",
   "metadata": {},
   "outputs": [
    {
     "data": {
      "text/plain": [
       "fixed acidity           3268\n",
       "volatile acidity        3268\n",
       "citric acid             3268\n",
       "residual sugar          3268\n",
       "chlorides               3268\n",
       "free sulfur dioxide     3268\n",
       "total sulfur dioxide    3268\n",
       "density                 3268\n",
       "pH                      3268\n",
       "sulphates               3268\n",
       "alcohol                 3268\n",
       "dtype: int64"
      ]
     },
     "execution_count": 40,
     "metadata": {},
     "output_type": "execute_result"
    }
   ],
   "source": [
    "x_train.count()"
   ]
  },
  {
   "cell_type": "markdown",
   "id": "6567eb2b-c33d-43f5-a536-612aa65da519",
   "metadata": {},
   "source": [
    "# Classification using the Decision Tree Algorithm"
   ]
  },
  {
   "cell_type": "markdown",
   "id": "23a18327-2ec7-44f6-94be-1940f7363653",
   "metadata": {},
   "source": [
    "A decision tree asks a question and classifies data based on the answer. The classification can be categorical, or numeric. Decision trees can combine these  \n",
    "classification types in the same tree. Decision trees start at the top, and work thir way down the tree until they reach the bottom. This is how they classify samples.  \n"
   ]
  },
  {
   "cell_type": "markdown",
   "id": "10bc6473-0902-47da-acc6-e5b14e5d48d0",
   "metadata": {},
   "source": [
    "The very top of the tree is called the __root node__ or __The Root__. Internal nodes stem from the root, and from other internal nodes. Questions about the dataset are asked in these nodes,  \n",
    "so in general, the more nodes the more accurate the classificaition. They have arrows pointing to them, and away from them. Lastly, there are leaf nodes.   \n",
    "This is where a decision is made. These stem from internal nodes. They have arrows pointing to them, but no arrows pointing away from them. "
   ]
  },
  {
   "cell_type": "code",
   "execution_count": null,
   "id": "dca916f0-e341-4ef4-9997-89c2428d300c",
   "metadata": {},
   "outputs": [],
   "source": []
  },
  {
   "cell_type": "code",
   "execution_count": null,
   "id": "ddbd6053-28f9-4d82-9edf-b4a593e1f3b1",
   "metadata": {},
   "outputs": [],
   "source": []
  },
  {
   "cell_type": "code",
   "execution_count": null,
   "id": "a2a67df0-45d3-4c03-88ab-bab0205770d3",
   "metadata": {},
   "outputs": [],
   "source": []
  },
  {
   "cell_type": "markdown",
   "id": "529ac6ce-cb1b-40f6-89a8-273b7fc71ed0",
   "metadata": {},
   "source": [
    "## References\n",
    "[1] https://www.tutorialspoint.com/scikit_learn/scikit_learn_introduction.htm  \n",
    "\n",
    "[2] https://www.edureka.co/blog/classification-in-machine-learning/  \n",
    "\n",
    "[3] https://medium.datadriveninvestor.com/regression-in-machine-learning-296caae933ec  \n",
    "\n",
    "[4] https://developers.google.com/machine-learning/clustering/overview  \n",
    "\n",
    "[5] https://machinelearningmastery.com/dimensionality-reduction-for-machine-learning/  \n",
    "\n",
    "[6] https://scikit-learn.org/stable/getting_started.html  \n",
    "\n",
    "[7] https://scikit-learn.org/stable/glossary.html#term-feature  \n",
    "\n",
    "[8] https://scikit-learn.org/stable/tutorial/basic/tutorial.html#loading-an-example-dataset\n",
    "\n",
    "[9] https://scikit-learn.org/stable/auto_examples/datasets/plot_digits_last_image.html  \n",
    "\n",
    "[10] https://scikit-learn.org/stable/modules/grid_search.html  \n",
    "\n",
    "[11] https://www.analyticsvidhya.com/blog/2014/10/support-vector-machine-simplified/?utm_source=blog&utm_medium=understandingsupportvectormachinearticle  \n",
    "\n",
    "[12] https://www.geeksforgeeks.org/creating-linear-kernel-svm-in-python/  \n",
    "\n",
    "[13] https://scikit-learn.org/stable/modules/generated/sklearn.model_selection.train_test_split.html\n",
    "\n",
    "[14] https://www.statisticshowto.com/probability-and-statistics/correlation-coefficient-formula/  \n",
    "\n",
    "[15] https://www.kaggle.com/rafjaa/resampling-strategies-for-imbalanced-datasets"
   ]
  },
  {
   "cell_type": "code",
   "execution_count": null,
   "id": "e99769bb-7c0c-4bcc-a2f5-eb0c7fe61524",
   "metadata": {},
   "outputs": [],
   "source": []
  }
 ],
 "metadata": {
  "kernelspec": {
   "display_name": "Python 3",
   "language": "python",
   "name": "python3"
  },
  "language_info": {
   "codemirror_mode": {
    "name": "ipython",
    "version": 3
   },
   "file_extension": ".py",
   "mimetype": "text/x-python",
   "name": "python",
   "nbconvert_exporter": "python",
   "pygments_lexer": "ipython3",
   "version": "3.8.8"
  }
 },
 "nbformat": 4,
 "nbformat_minor": 5
}
