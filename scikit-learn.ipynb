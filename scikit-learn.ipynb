{
 "cells": [
  {
   "cell_type": "markdown",
   "id": "cc43a21b-b844-4156-aad8-4e0532d8a982",
   "metadata": {},
   "source": [
    "# The Scikit Learn Python Library Overview"
   ]
  },
  {
   "cell_type": "markdown",
   "id": "534afa50-7213-4429-b9e2-a5636d46630c",
   "metadata": {},
   "source": [
    "The scikit-learn (Sklearn) library contains simple and efficient tools for predictive data analysis.\n",
    "\n",
    "It is the most useful and robust library for machine learning in Python. It provides a range of efficient tools for machine learning and statistical modeling [1]\n",
    "It includes tools for:\n",
    "- Classification: A process of categorizing a set of data into classes. Can be done on structured and unstructured data [2]\n",
    "- Regression: Regression models are used to predict a continuous value.[3]\n",
    "- Clustering : Clustering is grouping unlabeled examples to understand a data set. Common applications of clustering includes social network analysis, search result grouping, medical imaging[4]\n",
    "- Dimensionality reduction: Techniques that reduce the number of input variable in training data. High demensional data might have hundres, thousands or even millions of input variables. Fewer inputs means fewer parameters or a simpler structure in the machine learning model. [5]\n",
    "\n",
    "SKlearn is built upon NumPy, SciPy and Matplotlib\n",
    "\n",
    "\n"
   ]
  },
  {
   "cell_type": "markdown",
   "id": "9260b744-526d-42b1-b330-35ab6e6c032a",
   "metadata": {},
   "source": [
    "## Features\n",
    "The Scikit-learn library is focused on modeling data. Some of the most popular models in the library include:\n",
    "- Supervised learning algorithms : Almost all of the popular learning algorithms are part of scikit-learn. E.g. Linear Regression, Support Vector Machine, Decision Tree\n",
    "- Unsupervised learning algorithms: Also has the popular unsupervised learning algorithms. E.g. clustering, factor analysis, PCA.\n",
    "- Cross Validation : Used to check the accuracy of supervised models on unseen data.\n",
    "- Ensemble Methods: Used to check the accuracy of supervised models on unseen data.\n",
    "\n",
    "### Estimators - Learning and Predicting\n",
    "\n",
    "Sklearn provides dozens of estimators which are built-in machine learning algorithms and models[6]. Each estimator can be fitted to some data using its fit method. This allows the estimator to learn from the model."
   ]
  },
  {
   "cell_type": "code",
   "execution_count": 1,
   "id": "e94d4935-b8fb-45d3-9cc9-6487e773dc8d",
   "metadata": {},
   "outputs": [],
   "source": [
    "#example of fitting a RandomForestClassifier estimator to some basic data\n",
    "from sklearn.ensemble import RandomForestClassifier as rfc\n",
    "clf = rfc(random_state=0)"
   ]
  },
  {
   "cell_type": "code",
   "execution_count": 2,
   "id": "3820a4fc-36e9-45b1-95fc-980b7a7f9908",
   "metadata": {},
   "outputs": [
    {
     "data": {
      "text/plain": [
       "RandomForestClassifier(random_state=0)"
      ]
     },
     "execution_count": 2,
     "metadata": {},
     "output_type": "execute_result"
    }
   ],
   "source": [
    "X = [[ 1,  2,  3],  # 2 samples, 3 features\n",
    "    [11, 12, 13]]\n",
    "y = [0, 1]  # classes of each sample\n",
    "clf.fit(X, y)"
   ]
  },
  {
   "cell_type": "markdown",
   "id": "d64159a5-0360-4bb7-8c39-dc055c19b787",
   "metadata": {},
   "source": [
    "The fit method accepts 2 inputs:\n",
    "\n",
    "1. The sample/design matrix, X. X represents data that is observed at training and prediction time. The size of X is typically (n_samples, n_features). This means that __samples are represented as rows__ and __features are represented as columns__.   \n",
    "__Features are how samples are represented in a numeric or caterogical quantity.__[7]   \n",
    "\n",
    "2. __The target values y__ which are real numbers for regression tasks, or integers for classification (or any other discrete set of values). For unsupervized learning tasks, y does not need to be specified. y is usually 1d array where the i th entry corresponds to the target of the i th sample (row) of X. \n",
    "\n",
    "Both X and y are usually expected to be numpy arrays.\n",
    "Once the estimator is fitted, it can be used for predicting target values of new data. You don’t need to re-train the estimator:"
   ]
  },
  {
   "cell_type": "markdown",
   "id": "ca6b913d-9173-4d6f-b2ec-ebc008ac7c37",
   "metadata": {},
   "source": [
    "## Sklearn Tutorial Example\n",
    "In this example the task of the digits dataset is to predict, given an image, which digit it represents. We are given samples of each of the 10 possible classes (the digits zero through nine) on which we fit an estimator to be able to predict the classes to which unseen samples belong.[8]"
   ]
  },
  {
   "cell_type": "code",
   "execution_count": 23,
   "id": "40d98d24-0f0f-4c3a-b6e6-5e4f996ccc25",
   "metadata": {},
   "outputs": [],
   "source": [
    "#sklearn.svm.SVC is an example of an estimator. SVC stands for support vector classification. \n",
    "from sklearn import svm\n",
    "import matplotlib.pyplot as plt\n",
    "clf = svm.SVC(gamma=0.001, C=100.)"
   ]
  },
  {
   "cell_type": "code",
   "execution_count": 24,
   "id": "c6a0ec95-584a-4cf3-b1dc-a9f2a41cf540",
   "metadata": {},
   "outputs": [
    {
     "ename": "NameError",
     "evalue": "name 'digits' is not defined",
     "output_type": "error",
     "traceback": [
      "\u001b[1;31m---------------------------------------------------------------------------\u001b[0m",
      "\u001b[1;31mNameError\u001b[0m                                 Traceback (most recent call last)",
      "\u001b[1;32m<ipython-input-24-dc3d4f7b4d52>\u001b[0m in \u001b[0;36m<module>\u001b[1;34m\u001b[0m\n\u001b[0;32m      1\u001b[0m \u001b[1;31m#Estimator is fitter to the model through the fit method. This means the estimator must learn from this model\u001b[0m\u001b[1;33m\u001b[0m\u001b[1;33m\u001b[0m\u001b[1;33m\u001b[0m\u001b[0m\n\u001b[0;32m      2\u001b[0m \u001b[1;31m#Use all images from the dataset, except for the last which will be reserved for predicting\u001b[0m\u001b[1;33m\u001b[0m\u001b[1;33m\u001b[0m\u001b[1;33m\u001b[0m\u001b[0m\n\u001b[1;32m----> 3\u001b[1;33m \u001b[0mclf\u001b[0m\u001b[1;33m.\u001b[0m\u001b[0mfit\u001b[0m\u001b[1;33m(\u001b[0m\u001b[0mdigits\u001b[0m\u001b[1;33m.\u001b[0m\u001b[0mdata\u001b[0m\u001b[1;33m[\u001b[0m\u001b[1;33m:\u001b[0m\u001b[1;33m-\u001b[0m\u001b[1;36m1\u001b[0m\u001b[1;33m]\u001b[0m\u001b[1;33m,\u001b[0m \u001b[0mdigits\u001b[0m\u001b[1;33m.\u001b[0m\u001b[0mtarget\u001b[0m\u001b[1;33m[\u001b[0m\u001b[1;33m:\u001b[0m\u001b[1;33m-\u001b[0m\u001b[1;36m1\u001b[0m\u001b[1;33m]\u001b[0m\u001b[1;33m)\u001b[0m\u001b[1;33m\u001b[0m\u001b[1;33m\u001b[0m\u001b[0m\n\u001b[0m",
      "\u001b[1;31mNameError\u001b[0m: name 'digits' is not defined"
     ]
    }
   ],
   "source": [
    "#Estimator is fitter to the model through the fit method. This means the estimator must learn from this model\n",
    "#Use all images from the dataset, except for the last which will be reserved for predicting\n",
    "clf.fit(digits.data[:-1], digits.target[:-1])"
   ]
  },
  {
   "cell_type": "code",
   "execution_count": 11,
   "id": "a01489c9-f36d-44d7-9607-2cc631019a98",
   "metadata": {},
   "outputs": [
    {
     "ename": "NameError",
     "evalue": "name 'digits' is not defined",
     "output_type": "error",
     "traceback": [
      "\u001b[1;31m---------------------------------------------------------------------------\u001b[0m",
      "\u001b[1;31mNameError\u001b[0m                                 Traceback (most recent call last)",
      "\u001b[1;32m<ipython-input-11-b3df2e02551d>\u001b[0m in \u001b[0;36m<module>\u001b[1;34m\u001b[0m\n\u001b[1;32m----> 1\u001b[1;33m \u001b[0mclf\u001b[0m\u001b[1;33m.\u001b[0m\u001b[0mpredict\u001b[0m\u001b[1;33m(\u001b[0m\u001b[0mdigits\u001b[0m\u001b[1;33m.\u001b[0m\u001b[0mdata\u001b[0m\u001b[1;33m[\u001b[0m\u001b[1;33m-\u001b[0m\u001b[1;36m1\u001b[0m\u001b[1;33m:\u001b[0m\u001b[1;33m]\u001b[0m\u001b[1;33m)\u001b[0m\u001b[1;33m\u001b[0m\u001b[1;33m\u001b[0m\u001b[0m\n\u001b[0m",
      "\u001b[1;31mNameError\u001b[0m: name 'digits' is not defined"
     ]
    }
   ],
   "source": [
    "clf.predict(digits.data[-1:])"
   ]
  },
  {
   "cell_type": "markdown",
   "id": "bfe17b95-66c3-4f3c-919b-ef0233d9d2c6",
   "metadata": {},
   "source": [
    "The result is that the number best matching the below image is the number 8. [9]"
   ]
  },
  {
   "cell_type": "code",
   "execution_count": 12,
   "id": "78ec69e4-d3fd-44e0-839d-de05b655e74f",
   "metadata": {},
   "outputs": [
    {
     "ename": "NameError",
     "evalue": "name 'datasets' is not defined",
     "output_type": "error",
     "traceback": [
      "\u001b[1;31m---------------------------------------------------------------------------\u001b[0m",
      "\u001b[1;31mNameError\u001b[0m                                 Traceback (most recent call last)",
      "\u001b[1;32m<ipython-input-12-ec94b839d257>\u001b[0m in \u001b[0;36m<module>\u001b[1;34m\u001b[0m\n\u001b[0;32m      1\u001b[0m \u001b[1;31m# Load the digits dataset\u001b[0m\u001b[1;33m\u001b[0m\u001b[1;33m\u001b[0m\u001b[1;33m\u001b[0m\u001b[0m\n\u001b[1;32m----> 2\u001b[1;33m \u001b[0mdigits\u001b[0m \u001b[1;33m=\u001b[0m \u001b[0mdatasets\u001b[0m\u001b[1;33m.\u001b[0m\u001b[0mload_digits\u001b[0m\u001b[1;33m(\u001b[0m\u001b[1;33m)\u001b[0m\u001b[1;33m\u001b[0m\u001b[1;33m\u001b[0m\u001b[0m\n\u001b[0m\u001b[0;32m      3\u001b[0m \u001b[1;33m\u001b[0m\u001b[0m\n\u001b[0;32m      4\u001b[0m \u001b[1;31m# Display the first digit\u001b[0m\u001b[1;33m\u001b[0m\u001b[1;33m\u001b[0m\u001b[1;33m\u001b[0m\u001b[0m\n\u001b[0;32m      5\u001b[0m \u001b[0mplt\u001b[0m\u001b[1;33m.\u001b[0m\u001b[0mfigure\u001b[0m\u001b[1;33m(\u001b[0m\u001b[1;36m1\u001b[0m\u001b[1;33m,\u001b[0m \u001b[0mfigsize\u001b[0m\u001b[1;33m=\u001b[0m\u001b[1;33m(\u001b[0m\u001b[1;36m3\u001b[0m\u001b[1;33m,\u001b[0m \u001b[1;36m3\u001b[0m\u001b[1;33m)\u001b[0m\u001b[1;33m)\u001b[0m\u001b[1;33m\u001b[0m\u001b[1;33m\u001b[0m\u001b[0m\n",
      "\u001b[1;31mNameError\u001b[0m: name 'datasets' is not defined"
     ]
    }
   ],
   "source": [
    "# Load the digits dataset\n",
    "digits = datasets.load_digits()\n",
    "\n",
    "# Display the first digit\n",
    "plt.figure(1, figsize=(3, 3))\n",
    "plt.imshow(digits.images[-1], cmap=plt.cm.gray_r, interpolation='nearest')\n",
    "plt.show()"
   ]
  },
  {
   "cell_type": "markdown",
   "id": "8328e9f3-aa57-4b53-8f01-60e0d97db610",
   "metadata": {},
   "source": [
    "### Conventions\n",
    "#### Type casting\n",
    "Unless otherwise specified, input will be cast to float64.  \n",
    "Regression targets are cast to float64 and classification targets are maintained. [8]  \n",
    "Here the Support Vector Machine algorithm (sklearn.svm) is used."
   ]
  },
  {
   "cell_type": "code",
   "execution_count": 13,
   "id": "d57efe9c-91a8-4638-b1c7-32d4ac5cb834",
   "metadata": {},
   "outputs": [],
   "source": [
    "import sklearn as sk\n",
    "from sklearn import datasets\n",
    "from sklearn.svm import SVC\n",
    "\n",
    "iris = datasets.load_iris()\n",
    "clf=SVC()"
   ]
  },
  {
   "cell_type": "code",
   "execution_count": 14,
   "id": "108b8b38-d178-4222-a00e-07cb0992def6",
   "metadata": {},
   "outputs": [
    {
     "data": {
      "text/plain": [
       "SVC()"
      ]
     },
     "execution_count": 14,
     "metadata": {},
     "output_type": "execute_result"
    }
   ],
   "source": [
    "clf.fit(iris.data, iris.target)\n",
    "SVC()"
   ]
  },
  {
   "cell_type": "code",
   "execution_count": 15,
   "id": "d6fc7b87-297d-4427-9a63-bd2060f5b9b5",
   "metadata": {},
   "outputs": [
    {
     "data": {
      "text/plain": [
       "[0, 0, 0]"
      ]
     },
     "execution_count": 15,
     "metadata": {},
     "output_type": "execute_result"
    }
   ],
   "source": [
    "list(clf.predict(iris.data[:3]))"
   ]
  },
  {
   "cell_type": "markdown",
   "id": "9583e69a-9ae6-4e0e-97e0-c9b9d4c23848",
   "metadata": {},
   "source": [
    "Here, the first predict() returns an integer array, since iris.target (an integer array) was used in fit."
   ]
  },
  {
   "cell_type": "code",
   "execution_count": 16,
   "id": "72b9ac5e-891b-4524-bc9d-972de1e43b26",
   "metadata": {},
   "outputs": [
    {
     "data": {
      "text/plain": [
       "SVC()"
      ]
     },
     "execution_count": 16,
     "metadata": {},
     "output_type": "execute_result"
    }
   ],
   "source": [
    "clf.fit(iris.data, iris.target_names[iris.target])"
   ]
  },
  {
   "cell_type": "code",
   "execution_count": 17,
   "id": "31236f32-c743-4c6d-ba0b-50f5c08bddc9",
   "metadata": {},
   "outputs": [
    {
     "data": {
      "text/plain": [
       "['setosa', 'setosa', 'setosa']"
      ]
     },
     "execution_count": 17,
     "metadata": {},
     "output_type": "execute_result"
    }
   ],
   "source": [
    "list(clf.predict(iris.data[:3]))"
   ]
  },
  {
   "cell_type": "markdown",
   "id": "25d81475-ee3d-452b-a6ad-b4998d612844",
   "metadata": {},
   "source": [
    "Here, predict() returns a string array, since iris.target_names was for fitting."
   ]
  },
  {
   "cell_type": "markdown",
   "id": "fcbc8a97-f2fe-4f7e-a1fb-4ebd44b60755",
   "metadata": {},
   "source": [
    "# Support Vector Machines Algorithm(SVM)\n",
    "SVM is a supervised machine learning algorithm that can be used for both classificaiton or regression challenges. Their most common use is classification however.  \n",
    "Support Vector Machines are based on the idea of finding a hyperplane that best divides a dataset into classes.  \n",
    "\n",
    "#### Support Vectors   \n",
    "Support Vectors are points on a graph that are closest to the hyperplane. If they are removed, it would affect the position of the hyperplane and as such they are considered the key elements of a dataset.\n",
    "\n",
    "### Hyperplane\n",
    "If a classification task only has two features, then a hyperplane would be a line that linearly separates and classifies a set of data on a 2d graph. The further a data point is from the hyperplane, the probabilty that it has been classified correctly increases. This means that when new testing data is added, the side of the hyperplane it lands on decides the class it is assigned to.[11]\n",
    "\n",
    "#### What if there is no clear hyperplane?\n",
    "In order to classify complex datasets, __kernelling__ is employed. Instead of a 2d graph, the data is plotted onto a higher dimensional graph to allow a hyperplane to be formed. This means that the hyperplane can no lionger be a line, it must be a plane\n",
    "\n",
    "### Example of using the Linear Support Vector Machine algorithm to classify data\n",
    "Below, we will generate two random clusters, and attempt to classify them using the Support Vector Machine algorithm. I will use the a linear problem for the sake of simplicity."
   ]
  },
  {
   "cell_type": "code",
   "execution_count": 13,
   "id": "98b6adb1-5d36-498d-9557-e4d885bf6d5d",
   "metadata": {},
   "outputs": [],
   "source": [
    "#allows me to generate data myself\n",
    "from sklearn.datasets import make_blobs\n",
    "from matplotlib import pyplot as plt\n",
    "import numpy as np\n",
    "import pandas as pd\n",
    "from sklearn.model_selection import train_test_split\n",
    "from sklearn.metrics import confusion_matrix\n",
    "from sklearn.svm import SVC"
   ]
  },
  {
   "cell_type": "code",
   "execution_count": 133,
   "id": "5b44a2b9-fb19-4afa-8734-656274c96412",
   "metadata": {},
   "outputs": [
    {
     "name": "stdout",
     "output_type": "stream",
     "text": [
      "250\n",
      "125\n"
     ]
    }
   ],
   "source": [
    "#Generate data using make blobs method.[13]\n",
    "#Pass it number of samples(datapoints) \n",
    "#Centers how many centers there will be for clusters\n",
    "X,y= make_blobs(n_samples=125,centers=2,\n",
    "                #select standard deviation, this is how spread out the values are\n",
    "                cluster_std=0.5,random_state=0)\n",
    "\n",
    "#Total number of samples, divided equally between features\n",
    "print(X.size)\n",
    "#Amount of samples in each cluster\n",
    "print(y.size)"
   ]
  },
  {
   "cell_type": "code",
   "execution_count": 134,
   "id": "6ffd6719-6b73-4e2d-8b77-3e117399c378",
   "metadata": {},
   "outputs": [
    {
     "name": "stdout",
     "output_type": "stream",
     "text": [
      "210\n",
      "105\n",
      "40\n",
      "20\n"
     ]
    }
   ],
   "source": [
    "#Divide into training and test sets\n",
    "train_X,test_X, train_y,test_y=train_test_split(X,y,test_size=20, random_state=0)\n",
    "\n",
    "#So what this does is takes the specified amount of samples from X and y values created\n",
    "#by make_blobs and splits it into X and y test subsets called test_X and text_y\n",
    "#The remainder of the samples is put into train_X and train_y[13]\n",
    "print(train_X.size)\n",
    "print(train_y.size)\n",
    "\n",
    "print(test_X.size)\n",
    "print(test_y.size)"
   ]
  },
  {
   "cell_type": "code",
   "execution_count": 145,
   "id": "8feb3fc3-75a0-40ea-a945-7c9465ae8959",
   "metadata": {},
   "outputs": [
    {
     "data": {
      "text/plain": [
       "<matplotlib.collections.PathCollection at 0x21ccba70040>"
      ]
     },
     "execution_count": 145,
     "metadata": {},
     "output_type": "execute_result"
    },
    {
     "data": {
      "image/png": "[encoded data removed]",
      "text/plain": [
       "<Figure size 432x288 with 1 Axes>"
      ]
     },
     "metadata": {
      "needs_background": "light"
     },
     "output_type": "display_data"
    }
   ],
   "source": [
    "#create a scatter plot using the training data\n",
    "\n",
    "#stores the first cluster in the first index position(purple)\n",
    "#stores second cluster in the second index position(yellow)\n",
    "#c allows the two clusters to be colour divied\n",
    "plt.scatter(train_X[:,0], train_X[:,1],c=train_y)"
   ]
  },
  {
   "cell_type": "markdown",
   "id": "5426b6e3-545a-4d58-9f2e-86609827c67b",
   "metadata": {},
   "source": [
    "We have divided the clusters into two groups, 0 and 1, based on their x and y positions."
   ]
  },
  {
   "cell_type": "code",
   "execution_count": 136,
   "id": "c01f11e4-c6e7-42b7-8478-33efaa64eb31",
   "metadata": {},
   "outputs": [
    {
     "data": {
      "text/plain": [
       "SVC(kernel='linear')"
      ]
     },
     "execution_count": 136,
     "metadata": {},
     "output_type": "execute_result"
    }
   ],
   "source": [
    "#linear kernel because data is linearly separable\n",
    "svc = SVC(kernel='linear')\n",
    "#train estimator with training data\n",
    "svc.fit(train_X,train_y)"
   ]
  },
  {
   "cell_type": "markdown",
   "id": "103451fe-bfde-42e7-9f07-70643d2640f7",
   "metadata": {},
   "source": [
    "Once the SVM is fitted, using the sklearn Support Vector Classification, we are able categorize our data(classify) into classes. In this case 0 and 1. Below, we can see with the help of the above graph, that the first 5 test samples are classified correctly."
   ]
  },
  {
   "cell_type": "code",
   "execution_count": 154,
   "id": "0a9130ad-06e6-4b7a-9a19-c4015196f529",
   "metadata": {},
   "outputs": [
    {
     "name": "stdout",
     "output_type": "stream",
     "text": [
      "[[ 2.64928242  1.05613497]\n",
      " [ 0.64003985  4.12401075]\n",
      " [ 0.65910903  4.12241674]\n",
      " [ 1.64858539  0.1644515 ]\n",
      " [ 2.80250979 -0.13732885]]\n",
      "[1 0 0 1 1]\n"
     ]
    }
   ],
   "source": [
    "print(test_X[:5])\n",
    "print(svc.predict(test_X[:5]))"
   ]
  },
  {
   "cell_type": "markdown",
   "id": "a245a309-3188-4a14-ae76-4f9432aa948e",
   "metadata": {},
   "source": [
    "The next 5 samples are also classified correctly."
   ]
  },
  {
   "cell_type": "code",
   "execution_count": 157,
   "id": "9129aa3e-afdc-4c11-885e-665443398afb",
   "metadata": {},
   "outputs": [
    {
     "name": "stdout",
     "output_type": "stream",
     "text": [
      "[[1.8062513  1.86242969]\n",
      " [2.03562611 0.31361691]\n",
      " [1.35678894 4.36462484]\n",
      " [1.93774109 5.04404472]\n",
      " [0.77468161 4.91500986]]\n",
      "[1 1 0 0 0]\n"
     ]
    }
   ],
   "source": [
    "print(test_X[5:10])\n",
    "print(svc.predict(test_X[5:10]))"
   ]
  },
  {
   "cell_type": "markdown",
   "id": "ecc9a312-e67c-4a04-91fc-fc82de35a143",
   "metadata": {},
   "source": [
    "This can be shown clearly if we introduce a hyperplane to our plot. "
   ]
  },
  {
   "cell_type": "code",
   "execution_count": 155,
   "id": "8b6cac63-43db-498f-8eac-38fbd126a2d0",
   "metadata": {},
   "outputs": [
    {
     "data": {
      "image/png": "[encoded data removed]",
      "text/plain": [
       "<Figure size 432x288 with 1 Axes>"
      ]
     },
     "metadata": {
      "needs_background": "light"
     },
     "output_type": "display_data"
    }
   ],
   "source": [
    "plt.scatter(train_X[:,0], train_X[:,1],c=train_y)\n",
    "\n",
    "#get the axes\n",
    "ax=plt.gca()\n",
    "#range of x values\n",
    "xlim= ax.get_xlim()\n",
    "\n",
    "#add another scatter plot using the test set. Mark this plot using squares(marker='s')\n",
    "ax.scatter(test_X[:,0], test_X[:,1],c=test_y, cmap='winter', marker='s')\n",
    "\n",
    "#Weights assigned to the features\n",
    "w=svc.coef_[0]\n",
    "\n",
    "#slope of line\n",
    "a=-w[0]/w[1]\n",
    "\n",
    "#range of x values for the hyperplane\n",
    "xx=np.linspace(xlim[0],xlim[1])\n",
    "\n",
    "#equation of the line\n",
    "#slope * all the x values - the intercept\n",
    "yy=a * xx-(svc.intercept_[0]/w[1])\n",
    "plt.plot(xx,yy)\n",
    "plt.show()"
   ]
  },
  {
   "cell_type": "markdown",
   "id": "8ed1ffca-0afd-40d4-ab33-15fa2987d85e",
   "metadata": {},
   "source": [
    "Thanks to the hyperplane, we can clearly see that all our test data, which is represented as squares, was classified correctly."
   ]
  },
  {
   "cell_type": "markdown",
   "id": "55268824-9199-47f4-8629-039cdf49dc34",
   "metadata": {},
   "source": [
    "### Classification \n",
    "SVC, NuSVC and LinearSVC are classes able to perform binary and multi-class classification on a dataset.  \n",
    "SVC and NuSVC are very similar. The difference is that they accept different parameters an have different mathematical formulations.\n",
    "\n",
    "The LinearSVC method applied a linear kernel function to perform classification. It performs well with a large number of samples. A linear kernel is used when the data is linearly separable i.e. can be separated on a graph using a single line. It is mostly used when there are a large number of features in a data set e.g. text classification. Each alphabet is a new feature. [12]\n",
    "\n",
    "The main advantage of using a linear kernel is that the training process is faster than any other kernel."
   ]
  },
  {
   "cell_type": "code",
   "execution_count": null,
   "id": "ec11396f-7730-4f68-93f1-6249e0592661",
   "metadata": {},
   "outputs": [],
   "source": []
  },
  {
   "cell_type": "code",
   "execution_count": null,
   "id": "b5f8560a-abf3-4fa5-84db-086fb935b1cb",
   "metadata": {},
   "outputs": [],
   "source": []
  },
  {
   "cell_type": "code",
   "execution_count": null,
   "id": "03c9abfc-85f1-4509-8ab3-08fb46f982fd",
   "metadata": {},
   "outputs": [],
   "source": []
  },
  {
   "cell_type": "code",
   "execution_count": null,
   "id": "17dad856-f547-4ff8-a46f-e17246fc8597",
   "metadata": {},
   "outputs": [],
   "source": []
  },
  {
   "cell_type": "code",
   "execution_count": null,
   "id": "86abbc41-77c3-445d-b90c-f74ffa896a22",
   "metadata": {},
   "outputs": [],
   "source": []
  },
  {
   "cell_type": "code",
   "execution_count": null,
   "id": "d452d2f6-9b19-4d4a-bab8-4c6fcab031ae",
   "metadata": {},
   "outputs": [],
   "source": []
  },
  {
   "cell_type": "code",
   "execution_count": null,
   "id": "f593fc09-0e06-4523-bde7-37bf55e86d90",
   "metadata": {},
   "outputs": [],
   "source": []
  },
  {
   "cell_type": "code",
   "execution_count": 19,
   "id": "29b8c096-0770-4b31-84ab-022bb05e1e3a",
   "metadata": {},
   "outputs": [],
   "source": [
    "import numpy as np\n",
    "import matplotlib.pyplot as plt\n",
    "from sklearn import svm, datasets\n",
    "\n",
    "#import data\n",
    "iris = datasets.load_iris()"
   ]
  },
  {
   "cell_type": "code",
   "execution_count": 20,
   "id": "33128d79-a4a6-48f7-beaf-1daa72b5085e",
   "metadata": {},
   "outputs": [],
   "source": [
    "# Take only the first two features of Data.\n",
    "X = iris.data[:, :2]\n",
    "y = iris.target"
   ]
  },
  {
   "cell_type": "code",
   "execution_count": 21,
   "id": "2276b414-3b3a-4cae-8f59-875f62204014",
   "metadata": {},
   "outputs": [],
   "source": [
    "# C is the SVM regularization parameter\n",
    "C = 1.0 "
   ]
  },
  {
   "cell_type": "code",
   "execution_count": 22,
   "id": "47e17539-3aeb-4120-a8ad-932c7c5d96fa",
   "metadata": {},
   "outputs": [],
   "source": [
    "# Call fit so that the estimator learns from the data\n",
    "svc = svm.SVC(kernel ='linear', C = 1).fit(X, y)\n",
    "\n",
    "# create a mesh to plot\n",
    "x_min, x_max = X[:, 0].min() - 1, X[:, 0].max() + 1\n",
    "y_min, y_max = X[:, 1].min() - 1, X[:, 1].max() + 1\n",
    "h = (x_max / x_min)/100\n",
    "xx, yy = np.meshgrid(np.arange(x_min, x_max, h),\n",
    "         np.arange(y_min, y_max, h))"
   ]
  },
  {
   "cell_type": "code",
   "execution_count": 23,
   "id": "62fd3fa0-05d3-4285-9534-f26fc277944d",
   "metadata": {},
   "outputs": [
    {
     "data": {
      "image/png": "[encoded data removed]",
      "text/plain": [
       "<Figure size 432x288 with 1 Axes>"
      ]
     },
     "metadata": {
      "needs_background": "light"
     },
     "output_type": "display_data"
    }
   ],
   "source": [
    "# Plot the data for Proper Visual Representation\n",
    "plt.subplot(1, 1, 1)\n",
    "\n",
    "# Predict the result by giving Data to the model\n",
    "Z = svc.predict(np.c_[xx.ravel(), yy.ravel()])\n",
    "Z = Z.reshape(xx.shape)\n",
    "plt.contourf(xx, yy, Z, cmap = plt.cm.Paired, alpha = 0.8)\n",
    "\n",
    "plt.scatter(X[:, 0], X[:, 1], c = y, cmap = plt.cm.Paired)\n",
    "plt.xlabel('Sepal length')\n",
    "plt.ylabel('Sepal width')\n",
    "plt.xlim(xx.min(), xx.max())\n",
    "plt.title('SVC with linear kernel')\n",
    "  \n",
    "# Output the Plot\n",
    "plt.show()"
   ]
  },
  {
   "cell_type": "markdown",
   "id": "90be5421-4c20-4250-8587-38e52ccafb0a",
   "metadata": {},
   "source": [
    "In this graph, all features are separated using simple lines, which represents the linear kernel."
   ]
  },
  {
   "cell_type": "code",
   "execution_count": null,
   "id": "896111f1-39a0-4a51-8cca-99c379ebdd96",
   "metadata": {},
   "outputs": [],
   "source": []
  },
  {
   "cell_type": "code",
   "execution_count": null,
   "id": "fff75652-b3db-4ac1-bdbc-9a3c28e7d03b",
   "metadata": {},
   "outputs": [],
   "source": []
  },
  {
   "cell_type": "code",
   "execution_count": null,
   "id": "f45ab9ae-6391-4ba5-96f4-ce6be67e1bf9",
   "metadata": {},
   "outputs": [],
   "source": []
  },
  {
   "cell_type": "code",
   "execution_count": null,
   "id": "909c7e65-cde9-4fe9-b7eb-71876365b76e",
   "metadata": {},
   "outputs": [],
   "source": []
  },
  {
   "cell_type": "code",
   "execution_count": null,
   "id": "675bbc1a-6911-4e0e-8c50-6a7d21285c74",
   "metadata": {},
   "outputs": [],
   "source": []
  },
  {
   "cell_type": "markdown",
   "id": "529ac6ce-cb1b-40f6-89a8-273b7fc71ed0",
   "metadata": {},
   "source": [
    "## References\n",
    "[1] https://www.tutorialspoint.com/scikit_learn/scikit_learn_introduction.htm  \n",
    "\n",
    "[2] https://www.edureka.co/blog/classification-in-machine-learning/  \n",
    "\n",
    "[3] https://medium.datadriveninvestor.com/regression-in-machine-learning-296caae933ec  \n",
    "\n",
    "[4] https://developers.google.com/machine-learning/clustering/overview  \n",
    "\n",
    "[5] https://machinelearningmastery.com/dimensionality-reduction-for-machine-learning/  \n",
    "\n",
    "[6] https://scikit-learn.org/stable/getting_started.html  \n",
    "\n",
    "[7] https://scikit-learn.org/stable/glossary.html#term-feature  \n",
    "\n",
    "[8] https://scikit-learn.org/stable/tutorial/basic/tutorial.html#loading-an-example-dataset\n",
    "\n",
    "[9] https://scikit-learn.org/stable/auto_examples/datasets/plot_digits_last_image.html  \n",
    "\n",
    "[10] https://scikit-learn.org/stable/modules/grid_search.html  \n",
    "\n",
    "[11] https://www.analyticsvidhya.com/blog/2014/10/support-vector-machine-simplified/?utm_source=blog&utm_medium=understandingsupportvectormachinearticle  \n",
    "\n",
    "[12] https://www.geeksforgeeks.org/creating-linear-kernel-svm-in-python/  \n",
    "\n",
    "[13] https://scikit-learn.org/stable/modules/generated/sklearn.model_selection.train_test_split.html"
   ]
  },
  {
   "cell_type": "markdown",
   "id": "d81e4d70-b092-4c67-8db9-d9e18aaa8078",
   "metadata": {},
   "source": []
  }
 ],
 "metadata": {
  "kernelspec": {
   "display_name": "Python 3",
   "language": "python",
   "name": "python3"
  },
  "language_info": {
   "codemirror_mode": {
    "name": "ipython",
    "version": 3
   },
   "file_extension": ".py",
   "mimetype": "text/x-python",
   "name": "python",
   "nbconvert_exporter": "python",
   "pygments_lexer": "ipython3",
   "version": "3.8.8"
  }
 },
 "nbformat": 4,
 "nbformat_minor": 5
}
