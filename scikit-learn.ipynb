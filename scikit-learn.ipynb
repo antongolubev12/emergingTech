{
 "cells": [
  {
   "cell_type": "markdown",
   "id": "cc43a21b-b844-4156-aad8-4e0532d8a982",
   "metadata": {},
   "source": [
    "# The Scikit Learn Python Library Overview"
   ]
  },
  {
   "cell_type": "markdown",
   "id": "534afa50-7213-4429-b9e2-a5636d46630c",
   "metadata": {},
   "source": [
    "The scikit-learn (Sklearn) library contains simple and efficient tools for predictive data analysis.\n",
    "\n",
    "It is the most useful and robust library for machine learning in Python. It provides a range of efficient tools for machine learning and statistical modeling [1]\n",
    "It includes tools for:\n",
    "- Classification: A process of categorizing a set of data into classes. Can be done on structured and unstructured data [2]\n",
    "- Regression: Regression models are used to predict a continuous value.[3]\n",
    "- Clustering : Clustering is grouping unlabeled examples to understand a data set. Common applications of clustering includes social network analysis, search result grouping, medical imaging[4]\n",
    "- Dimensionality reduction: Techniques that reduce the number of input variable in training data. High demensional data might have hundres, thousands or even millions of input variables. Fewer inputs means fewer parameters or a simpler structure in the machine learning model. [5]\n",
    "\n",
    "SKlearn is built upon NumPy, SciPy and Matplotlib\n",
    "\n",
    "\n"
   ]
  },
  {
   "cell_type": "markdown",
   "id": "9260b744-526d-42b1-b330-35ab6e6c032a",
   "metadata": {},
   "source": [
    "## Features\n",
    "The Scikit-learn library is focused on modeling data. Some of the most popular models in the library include:\n",
    "- Supervised learning algorithms : Almost all of the popular learning algorithms are part of scikit-learn. E.g. Linear Regression, Support Vector Machine, Decision Tree\n",
    "- Unsupervised learning algorithms: Also has the popular unsupervised learning algorithms. E.g. clustering, factor analysis, PCA.\n",
    "- Cross Validation : Used to check the accuracy of supervised models on unseen data.\n",
    "- Ensemble Methods: Used to check the accuracy of supervised models on unseen data.\n",
    "\n",
    "### Estimators - Learning and Predicting\n",
    "\n",
    "Sklearn provides dozens of estimators which are built-in machine learning algorithms and models[6]. Each estimator can be fitted to some data using its fit method. This allows the estimator to learn from the model."
   ]
  },
  {
   "cell_type": "code",
   "execution_count": 1,
   "id": "e94d4935-b8fb-45d3-9cc9-6487e773dc8d",
   "metadata": {},
   "outputs": [],
   "source": [
    "#example of fitting a RandomForestClassifier estimator to some basic data\n",
    "from sklearn.ensemble import RandomForestClassifier as rfc\n",
    "clf = rfc(random_state=0)"
   ]
  },
  {
   "cell_type": "code",
   "execution_count": 2,
   "id": "3820a4fc-36e9-45b1-95fc-980b7a7f9908",
   "metadata": {},
   "outputs": [
    {
     "data": {
      "text/plain": [
       "RandomForestClassifier(random_state=0)"
      ]
     },
     "execution_count": 2,
     "metadata": {},
     "output_type": "execute_result"
    }
   ],
   "source": [
    "X = [[ 1,  2,  3],  # 2 samples, 3 features\n",
    "    [11, 12, 13]]\n",
    "y = [0, 1]  # classes of each sample\n",
    "clf.fit(X, y)"
   ]
  },
  {
   "cell_type": "markdown",
   "id": "d64159a5-0360-4bb7-8c39-dc055c19b787",
   "metadata": {},
   "source": [
    "The fit method accepts 2 inputs:\n",
    "\n",
    "1. The sample/design matrix, X. X represents data that is observed at training and prediction time. The size of X is typically (n_samples, n_features). This means that __samples are represented as rows__ and __features are represented as columns__.   \n",
    "__Features are how samples are represented in a numeric or caterogical quantity.__[7]   \n",
    "\n",
    "2. __The target values y__ which are real numbers for regression tasks, or integers for classification (or any other discrete set of values). For unsupervized learning tasks, y does not need to be specified. y is usually 1d array where the i th entry corresponds to the target of the i th sample (row) of X. \n",
    "\n",
    "Both X and y are usually expected to be numpy arrays.\n",
    "Once the estimator is fitted, it can be used for predicting target values of new data. You don’t need to re-train the estimator:"
   ]
  },
  {
   "cell_type": "markdown",
   "id": "fcbc8a97-f2fe-4f7e-a1fb-4ebd44b60755",
   "metadata": {},
   "source": [
    "# Support Vector Machines Algorithm(SVM)\n",
    "SVM is a supervised machine learning algorithm that can be used for both classificaiton or regression challenges. Their most common use is classification however.  \n",
    "Support Vector Machines are based on the idea of finding a hyperplane that best divides a dataset into classes.  \n",
    "## Advantages\n",
    "__High dimensional space input space:__ The algorithm allows the classification of data that has high dimensions. While other algorithms can also do this, a lot of problems can occur that must be adjusted for. The Support Vector Algorithm does this automatically.  \n",
    "__Regularisation parameter(lambda)__: This parameter allows us to figure out if there is going to be a bias or overfitting. The SVM automatically avoids these problems.\n",
    "\n",
    "### Uses  \n",
    "This algorithm is used for predicting what class or group a data point falls into, based on an already existing data set. SVM is often used for text classification and for recognising images e.g. facial recognition.\n",
    "\n",
    "#### Support Vectors   \n",
    "Support Vectors are points on a graph that are closest to the hyperplane. If they are removed, it would affect the position of the hyperplane and as such they are considered the key elements of a dataset.\n",
    "\n",
    "## Linear SVM\n",
    "### Hyperplane\n",
    "If a classification task only has two features(or two dimensions), then a hyperplane would be a simple regression line that linearly separates and classifies a set of data on a 2d graph. When this hyperplane is defined, we can now use it classify data points. Any point to one side of a line fis classified as group A, any point on the other side is classified as group B. The further a data point is from the hyperplane, the probabilty that it has been classified correctly increases. This means that when new testing data is added, the side of the hyperplane it lands on decides the class it is assigned to.[11]\n"
   ]
  },
  {
   "cell_type": "markdown",
   "id": "3101a4f4-9ee5-420f-8d40-05b0195e81b9",
   "metadata": {},
   "source": [
    "### Example of using the Linear Support Vector Machine algorithm to classify data\n",
    "Below, we will generate two random clusters, and attempt to classify them using the Linear Support Vector Machine algorithm. \n",
    "This task only has two features, which is what makes it linear. #"
   ]
  },
  {
   "cell_type": "markdown",
   "id": "92d51200-c345-4dfc-ad27-224c198192dc",
   "metadata": {},
   "source": [
    "### Imports"
   ]
  },
  {
   "cell_type": "code",
   "execution_count": 51,
   "id": "98b6adb1-5d36-498d-9557-e4d885bf6d5d",
   "metadata": {},
   "outputs": [],
   "source": [
    "#allows data generation\n",
    "import sklearn.datasets as data\n",
    "\n",
    "#allows plotting\n",
    "import matplotlib.pyplot as plt\n",
    "\n",
    "#allows use of numerical arrays\n",
    "import numpy as np\n",
    "\n",
    "#Data frames\n",
    "import pandas as pd\n",
    "\n",
    "#Helper Functions\n",
    "import sklearn.model_selection as mod\n",
    "\n",
    "#Algorithm/estimator\n",
    "from sklearn.svm import SVC"
   ]
  },
  {
   "cell_type": "markdown",
   "id": "186ffd40-5410-43f4-a9bc-6cc7e819b050",
   "metadata": {},
   "source": [
    "#allows data generation\n",
    "from sklearn.datasets import make_blobs\n",
    "\n",
    "#allows plotting\n",
    "import matplotlib.pyplot as plt\n",
    "\n",
    "#allows use of numerical arrays\n",
    "import numpy as np\n",
    "\n",
    "#Data frames\n",
    "import pandas as pd\n",
    "\n",
    "from sklearn.model_selection import train_test_split\n",
    "from sklearn.metrics import confusion_matrix\n",
    "from sklearn.svm import SVC"
   ]
  },
  {
   "cell_type": "code",
   "execution_count": 123,
   "id": "5b44a2b9-fb19-4afa-8734-656274c96412",
   "metadata": {},
   "outputs": [
    {
     "name": "stdout",
     "output_type": "stream",
     "text": [
      "250\n",
      "125\n"
     ]
    }
   ],
   "source": [
    "#Generate data using make blobs method.[13]\n",
    "#Pass it number of samples(datapoints) \n",
    "#Centers how many centers there will be for clusters\n",
    "#make blobs returns numpy array\n",
    "X,y= data.make_blobs(n_samples=125,centers=2,\n",
    "                #select standard deviation, this is how spread out the values are\n",
    "                cluster_std=0.7,random_state=0)\n",
    "\n",
    "#Total number of samples, divided equally between features\n",
    "print(X.size)\n",
    "#Amount of samples in each cluster\n",
    "print(y.size)"
   ]
  },
  {
   "cell_type": "code",
   "execution_count": 117,
   "id": "6ffd6719-6b73-4e2d-8b77-3e117399c378",
   "metadata": {},
   "outputs": [
    {
     "name": "stdout",
     "output_type": "stream",
     "text": [
      "210\n",
      "105\n",
      "40\n",
      "20\n"
     ]
    }
   ],
   "source": [
    "#Divide into training and test sets\n",
    "train_X,test_X, train_y,test_y=mod.train_test_split(X,y,test_size=20, random_state=0)\n",
    "\n",
    "#So what this does is takes the specified amount of samples from X and y values created\n",
    "#by make_blobs and splits it into X and y test subsets called test_X and text_y\n",
    "#The remainder of the samples is put into train_X and train_y[13]\n",
    "print(train_X.size)\n",
    "print(train_y.size)\n",
    "\n",
    "print(test_X.size)\n",
    "print(test_y.size)"
   ]
  },
  {
   "cell_type": "code",
   "execution_count": 118,
   "id": "8feb3fc3-75a0-40ea-a945-7c9465ae8959",
   "metadata": {},
   "outputs": [
    {
     "data": {
      "text/plain": [
       "<matplotlib.collections.PathCollection at 0x1b979129130>"
      ]
     },
     "execution_count": 118,
     "metadata": {},
     "output_type": "execute_result"
    },
    {
     "data": {
      "image/png": "[encoded data removed]",
      "text/plain": [
       "<Figure size 432x288 with 1 Axes>"
      ]
     },
     "metadata": {
      "needs_background": "light"
     },
     "output_type": "display_data"
    }
   ],
   "source": [
    "#create a scatter plot using the training data\n",
    "\n",
    "#stores the first cluster in the first index position(purple)\n",
    "#stores second cluster in the second index position(yellow)\n",
    "#c allows the two clusters to be colour divied\n",
    "\n",
    "#take all the first value of the rows from blob X, and then the second value of all the rows from blob X\n",
    "plt.scatter(train_X[:,0], train_X[:,1],c=train_y)"
   ]
  },
  {
   "cell_type": "markdown",
   "id": "5426b6e3-545a-4d58-9f2e-86609827c67b",
   "metadata": {},
   "source": [
    "We have divided the training set into two groups, purple and yellow, based on their x and y positions.  \n",
    "This data can be easily separated by eyeballing a line without using any algorithm, however how do you know which line separates the data most accurately? The linear SVM algorithm finds the optimal line(hyperplane) using support vectors.  \n",
    "The goal of the SVM is to find the biggest distance between the hyperplane and the support vectors. This is called a __margin__. A hyperplane is decided by finding the largest margins."
   ]
  },
  {
   "cell_type": "code",
   "execution_count": 119,
   "id": "c01f11e4-c6e7-42b7-8478-33efaa64eb31",
   "metadata": {},
   "outputs": [
    {
     "data": {
      "text/plain": [
       "SVC(kernel='linear')"
      ]
     },
     "execution_count": 119,
     "metadata": {},
     "output_type": "execute_result"
    }
   ],
   "source": [
    "#linear kernel because data is linearly separable\n",
    "svc = SVC(kernel='linear')\n",
    "#train the support vector algorithm with training data\n",
    "svc.fit(train_X,train_y)"
   ]
  },
  {
   "cell_type": "markdown",
   "id": "103451fe-bfde-42e7-9f07-70643d2640f7",
   "metadata": {},
   "source": [
    "Once the SVM is fitted with the training data, we are able categorize our data(classify) into classes/groups using the sklearn Support Vector Classification. In this case 0 and 1. By referring to the above graph we can see that the first 5 test samples are classified correctly."
   ]
  },
  {
   "cell_type": "code",
   "execution_count": 120,
   "id": "0a9130ad-06e6-4b7a-9a19-c4015196f529",
   "metadata": {},
   "outputs": [
    {
     "name": "stdout",
     "output_type": "stream",
     "text": [
      "[[ 2.88688838  1.11952349]\n",
      " [ 0.50554777  4.05210011]\n",
      " [ 0.53224461  4.04986851]\n",
      " [ 1.48591254 -0.12883337]\n",
      " [ 3.1014067  -0.55132586]]\n",
      "[1 0 0 1 1]\n"
     ]
    }
   ],
   "source": [
    "print(test_X[:5])\n",
    "print(svc.predict(test_X[:5]))"
   ]
  },
  {
   "cell_type": "markdown",
   "id": "a245a309-3188-4a14-ae76-4f9432aa948e",
   "metadata": {},
   "source": [
    "The next 5 samples are also classified correctly."
   ]
  },
  {
   "cell_type": "code",
   "execution_count": 121,
   "id": "9129aa3e-afdc-4c11-885e-665443398afb",
   "metadata": {},
   "outputs": [
    {
     "name": "stdout",
     "output_type": "stream",
     "text": [
      "[[1.70664481 2.2483361 ]\n",
      " [2.02776955 0.07999821]\n",
      " [1.50899649 4.38895984]\n",
      " [2.3223295  5.34014768]\n",
      " [0.69404622 5.15949888]]\n",
      "[1 1 0 0 0]\n"
     ]
    }
   ],
   "source": [
    "print(test_X[5:10])\n",
    "print(svc.predict(test_X[5:10]))"
   ]
  },
  {
   "cell_type": "markdown",
   "id": "ecc9a312-e67c-4a04-91fc-fc82de35a143",
   "metadata": {},
   "source": [
    "This can be shown clearly if we introduce a hyperplane to our plot. "
   ]
  },
  {
   "cell_type": "code",
   "execution_count": 122,
   "id": "8b6cac63-43db-498f-8eac-38fbd126a2d0",
   "metadata": {},
   "outputs": [
    {
     "data": {
      "image/png": "[encoded data removed]",
      "text/plain": [
       "<Figure size 432x288 with 1 Axes>"
      ]
     },
     "metadata": {
      "needs_background": "light"
     },
     "output_type": "display_data"
    }
   ],
   "source": [
    "plt.scatter(train_X[:,0], train_X[:,1],c=train_y)\n",
    "\n",
    "#get the axes\n",
    "ax=plt.gca()\n",
    "#range of x values\n",
    "xlim= ax.get_xlim()\n",
    "ylim= ax.get_ylim()\n",
    "\n",
    "#add another scatter plot using the test set. Mark this plot using squares(marker='s')\n",
    "ax.scatter(test_X[:,0], test_X[:,1],c=test_y, marker='s')\n",
    "\n",
    "#Weights assigned to the features\n",
    "w=svc.coef_[0]\n",
    "\n",
    "#slope of line\n",
    "a=-w[0]/w[1]\n",
    "\n",
    "#range of x values for the hyperplane\n",
    "xx=np.linspace(xlim[0],xlim[1])\n",
    "\n",
    "\n",
    "#equation of the line\n",
    "#slope * all the x values - the intercept\n",
    "yy=a * xx-(svc.intercept_[0]/w[1])\n",
    "plt.plot(xx,yy)\n",
    "plt.show()"
   ]
  },
  {
   "cell_type": "markdown",
   "id": "8ed1ffca-0afd-40d4-ab33-15fa2987d85e",
   "metadata": {},
   "source": [
    "Thanks to the hyperplane, we can clearly see that all our test data, which is represented as squares, was classified correctly."
   ]
  },
  {
   "cell_type": "markdown",
   "id": "aa288e96-8ed7-42c2-917b-798be6e35673",
   "metadata": {},
   "source": [
    "## What happens if the data isn't this simple?\n",
    "If your data has more than two features(dimensions). If this is the case, it is necessary to move to a higher dimensional viewpoint of the data. To do this we use a __kernel__\n",
    "### Kernel\n",
    "The kernel allows for the transformation of the data into a higher or lower dimension, as necessary. \n"
   ]
  },
  {
   "cell_type": "code",
   "execution_count": null,
   "id": "f45ab9ae-6391-4ba5-96f4-ce6be67e1bf9",
   "metadata": {},
   "outputs": [],
   "source": []
  },
  {
   "cell_type": "code",
   "execution_count": null,
   "id": "909c7e65-cde9-4fe9-b7eb-71876365b76e",
   "metadata": {},
   "outputs": [],
   "source": []
  },
  {
   "cell_type": "code",
   "execution_count": null,
   "id": "675bbc1a-6911-4e0e-8c50-6a7d21285c74",
   "metadata": {},
   "outputs": [],
   "source": []
  },
  {
   "cell_type": "markdown",
   "id": "529ac6ce-cb1b-40f6-89a8-273b7fc71ed0",
   "metadata": {},
   "source": [
    "## References\n",
    "[1] https://www.tutorialspoint.com/scikit_learn/scikit_learn_introduction.htm  \n",
    "\n",
    "[2] https://www.edureka.co/blog/classification-in-machine-learning/  \n",
    "\n",
    "[3] https://medium.datadriveninvestor.com/regression-in-machine-learning-296caae933ec  \n",
    "\n",
    "[4] https://developers.google.com/machine-learning/clustering/overview  \n",
    "\n",
    "[5] https://machinelearningmastery.com/dimensionality-reduction-for-machine-learning/  \n",
    "\n",
    "[6] https://scikit-learn.org/stable/getting_started.html  \n",
    "\n",
    "[7] https://scikit-learn.org/stable/glossary.html#term-feature  \n",
    "\n",
    "[8] https://scikit-learn.org/stable/tutorial/basic/tutorial.html#loading-an-example-dataset\n",
    "\n",
    "[9] https://scikit-learn.org/stable/auto_examples/datasets/plot_digits_last_image.html  \n",
    "\n",
    "[10] https://scikit-learn.org/stable/modules/grid_search.html  \n",
    "\n",
    "[11] https://www.analyticsvidhya.com/blog/2014/10/support-vector-machine-simplified/?utm_source=blog&utm_medium=understandingsupportvectormachinearticle  \n",
    "\n",
    "[12] https://www.geeksforgeeks.org/creating-linear-kernel-svm-in-python/  \n",
    "\n",
    "[13] https://scikit-learn.org/stable/modules/generated/sklearn.model_selection.train_test_split.html"
   ]
  },
  {
   "cell_type": "markdown",
   "id": "d81e4d70-b092-4c67-8db9-d9e18aaa8078",
   "metadata": {},
   "source": []
  }
 ],
 "metadata": {
  "kernelspec": {
   "display_name": "Python 3",
   "language": "python",
   "name": "python3"
  },
  "language_info": {
   "codemirror_mode": {
    "name": "ipython",
    "version": 3
   },
   "file_extension": ".py",
   "mimetype": "text/x-python",
   "name": "python",
   "nbconvert_exporter": "python",
   "pygments_lexer": "ipython3",
   "version": "3.8.8"
  }
 },
 "nbformat": 4,
 "nbformat_minor": 5
}
