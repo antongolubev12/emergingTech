{
 "cells": [
  {
   "cell_type": "markdown",
   "id": "cc43a21b-b844-4156-aad8-4e0532d8a982",
   "metadata": {},
   "source": [
    "# The Scikit Learn Python Library"
   ]
  },
  {
   "cell_type": "markdown",
   "id": "534afa50-7213-4429-b9e2-a5636d46630c",
   "metadata": {},
   "source": [
    "The scikit-learn (Sklearn) library contains simple and efficient tools for predictive data analysis.\n",
    "\n",
    "It is the most useful and robust library for machine learning in Python. It provides a range of efficient tools for machine learning and statistical modeling [1]\n",
    "It includes tools for:\n",
    "- Classification: A process of categorizing a set of data into classes. Can be done on structured and unstructured data [2]\n",
    "- Regression: Regression models are used to predict a continuous value.[3]\n",
    "- Clustering : Clustering is grouping unlabeled examples to understand a data set. Common applications of clustering includes social network analysis, search result grouping, medical imaging[4]\n",
    "- Dimensionality reduction: Techniques that reduce the number of input variable in training data. High demensional data might have hundres, thousands or even millions of input variables. Fewer inputs means fewer parameters or a simpler structure in the machine learning model. [5]\n",
    "\n",
    "SKlearn is built upon NumPy, SciPy and Matplotlib\n",
    "\n",
    "\n"
   ]
  },
  {
   "cell_type": "markdown",
   "id": "9260b744-526d-42b1-b330-35ab6e6c032a",
   "metadata": {},
   "source": [
    "## Features\n",
    "The Scikit-learn library is focused on modeling data. Some of the most popular models in the library include:\n",
    "- Supervised learning algorithms : Almost all of the popular learning algorithms are part of scikit-learn. E.g. Linear Regression, Support Vector Machine, Decision Tree\n",
    "- Unsupervised learning algorithms: Also has the popular unsupervised learning algorithms. E.g. clustering, factor analysis, PCA.\n",
    "- Cross Validation : Used to check the accuracy of supervised models on unseen data.\n",
    "- Ensemble Methods: Used to check the accuracy of supervised models on unseen data.\n",
    "\n",
    "### Estimators - Learning and Predicting\n",
    "\n",
    "Sklearn provides dozens of estimators which are built-in machine learning algorithms and models[6]. Each estimator can be fitted to some data using its fit method. This allows the estimator to learn from the model."
   ]
  },
  {
   "cell_type": "code",
   "execution_count": 36,
   "id": "e94d4935-b8fb-45d3-9cc9-6487e773dc8d",
   "metadata": {},
   "outputs": [],
   "source": [
    "#example of fitting a RandomForestClassifier estimator to some basic data\n",
    "from sklearn.ensemble import RandomForestClassifier as rfc\n",
    "clf = rfc(random_state=0)"
   ]
  },
  {
   "cell_type": "code",
   "execution_count": 50,
   "id": "3820a4fc-36e9-45b1-95fc-980b7a7f9908",
   "metadata": {},
   "outputs": [
    {
     "data": {
      "text/plain": [
       "SVC()"
      ]
     },
     "execution_count": 50,
     "metadata": {},
     "output_type": "execute_result"
    }
   ],
   "source": [
    "X = [[ 1,  2,  3],  # 2 samples, 3 features\n",
    "    [11, 12, 13]]\n",
    "y = [0, 1]  # classes of each sample\n",
    "clf.fit(X, y)"
   ]
  },
  {
   "cell_type": "markdown",
   "id": "d64159a5-0360-4bb7-8c39-dc055c19b787",
   "metadata": {},
   "source": [
    "The fit method accepts 2 inputs:\n",
    "\n",
    "1. The sample/design matrix, X. X represents data that is observed at training and prediction time. The size of X is typically (n_samples, n_features). This means that __samples are represented as rows__ and __features are represented as columns__.   \n",
    "Features are how samples are represented in a numeric or caterogical quantity.[7]   \n",
    "\n",
    "2. The target values y which are real numbers for regression tasks, or integers for classification (or any other discrete set of values). For unsupervized learning tasks, y does not need to be specified. y is usually 1d array where the i th entry corresponds to the target of the i th sample (row) of X. \n",
    "\n",
    "Both X and y are usually expected to be numpy arrays.\n",
    "Once the estimator is fitted, it can be used for predicting target values of new data. You don’t need to re-train the estimator:"
   ]
  },
  {
   "cell_type": "markdown",
   "id": "ca6b913d-9173-4d6f-b2ec-ebc008ac7c37",
   "metadata": {},
   "source": [
    "## Sklearn Tutorial Example\n",
    "In this examplee the task of the digits dataset is to predict, given an image, which digit it represents. We are given samples of each of the 10 possible classes (the digits zero through nine) on which we fit an estimator to be able to predict the classes to which unseen samples belong.[8]"
   ]
  },
  {
   "cell_type": "code",
   "execution_count": 76,
   "id": "40d98d24-0f0f-4c3a-b6e6-5e4f996ccc25",
   "metadata": {},
   "outputs": [],
   "source": [
    "#sklearn.svm.SVC is an example of an estimator. SVC stands for support vector classification. \n",
    "from sklearn import svm\n",
    "import matplotlib.pyplot as plt\n",
    "clf = svm.SVC(gamma=0.001, C=100.)"
   ]
  },
  {
   "cell_type": "code",
   "execution_count": 79,
   "id": "c6a0ec95-584a-4cf3-b1dc-a9f2a41cf540",
   "metadata": {},
   "outputs": [
    {
     "data": {
      "text/plain": [
       "SVC(C=100.0, gamma=0.001)"
      ]
     },
     "execution_count": 79,
     "metadata": {},
     "output_type": "execute_result"
    }
   ],
   "source": [
    "#Estimator is fitter to the model through the fit method. This means the estimator must learn from this model\n",
    "#Use all images from the dataset, except for the last which will be reserved for predicting\n",
    "clf.fit(digits.data[:-1], digits.target[:-1])"
   ]
  },
  {
   "cell_type": "code",
   "execution_count": 80,
   "id": "a01489c9-f36d-44d7-9607-2cc631019a98",
   "metadata": {},
   "outputs": [
    {
     "data": {
      "text/plain": [
       "array([8])"
      ]
     },
     "execution_count": 80,
     "metadata": {},
     "output_type": "execute_result"
    }
   ],
   "source": [
    "clf.predict(digits.data[-1:])"
   ]
  },
  {
   "cell_type": "markdown",
   "id": "bfe17b95-66c3-4f3c-919b-ef0233d9d2c6",
   "metadata": {},
   "source": [
    "The result is that the number best matching the below image is the number 8. [9]"
   ]
  },
  {
   "cell_type": "code",
   "execution_count": 83,
   "id": "78ec69e4-d3fd-44e0-839d-de05b655e74f",
   "metadata": {},
   "outputs": [
    {
     "data": {
      "image/png": "[encoded data removed]",
      "text/plain": [
       "<Figure size 216x216 with 1 Axes>"
      ]
     },
     "metadata": {
      "needs_background": "light"
     },
     "output_type": "display_data"
    }
   ],
   "source": [
    "# Load the digits dataset\n",
    "digits = datasets.load_digits()\n",
    "\n",
    "# Display the first digit\n",
    "plt.figure(1, figsize=(3, 3))\n",
    "plt.imshow(digits.images[-1], cmap=plt.cm.gray_r, interpolation='nearest')\n",
    "plt.show()"
   ]
  },
  {
   "cell_type": "markdown",
   "id": "8328e9f3-aa57-4b53-8f01-60e0d97db610",
   "metadata": {},
   "source": [
    "### Conventions\n",
    "#### Type casting\n",
    "Unless otherwise specified, input will be cast to float64.  \n",
    "Regression targets are cast to float64 and classification targets are maintained. [8]  \n",
    "Here the Support Vector Machine algorithm (sklearn.svm) is used."
   ]
  },
  {
   "cell_type": "code",
   "execution_count": 3,
   "id": "d57efe9c-91a8-4638-b1c7-32d4ac5cb834",
   "metadata": {},
   "outputs": [],
   "source": [
    "import sklearn as sk\n",
    "from sklearn import datasets\n",
    "from sklearn.svm import SVC\n",
    "\n",
    "iris = datasets.load_iris()\n",
    "clf=SVC()"
   ]
  },
  {
   "cell_type": "code",
   "execution_count": 4,
   "id": "108b8b38-d178-4222-a00e-07cb0992def6",
   "metadata": {},
   "outputs": [
    {
     "data": {
      "text/plain": [
       "SVC()"
      ]
     },
     "execution_count": 4,
     "metadata": {},
     "output_type": "execute_result"
    }
   ],
   "source": [
    "clf.fit(iris.data, iris.target)\n",
    "SVC()"
   ]
  },
  {
   "cell_type": "code",
   "execution_count": 5,
   "id": "d6fc7b87-297d-4427-9a63-bd2060f5b9b5",
   "metadata": {},
   "outputs": [
    {
     "data": {
      "text/plain": [
       "[0, 0, 0]"
      ]
     },
     "execution_count": 5,
     "metadata": {},
     "output_type": "execute_result"
    }
   ],
   "source": [
    "list(clf.predict(iris.data[:3]))"
   ]
  },
  {
   "cell_type": "markdown",
   "id": "9583e69a-9ae6-4e0e-97e0-c9b9d4c23848",
   "metadata": {},
   "source": [
    "Here, the first predict() returns an integer array, since iris.target (an integer array) was used in fit."
   ]
  },
  {
   "cell_type": "code",
   "execution_count": 6,
   "id": "72b9ac5e-891b-4524-bc9d-972de1e43b26",
   "metadata": {},
   "outputs": [
    {
     "data": {
      "text/plain": [
       "SVC()"
      ]
     },
     "execution_count": 6,
     "metadata": {},
     "output_type": "execute_result"
    }
   ],
   "source": [
    "clf.fit(iris.data, iris.target_names[iris.target])"
   ]
  },
  {
   "cell_type": "code",
   "execution_count": 7,
   "id": "31236f32-c743-4c6d-ba0b-50f5c08bddc9",
   "metadata": {},
   "outputs": [
    {
     "data": {
      "text/plain": [
       "['setosa', 'setosa', 'setosa']"
      ]
     },
     "execution_count": 7,
     "metadata": {},
     "output_type": "execute_result"
    }
   ],
   "source": [
    "list(clf.predict(iris.data[:3]))"
   ]
  },
  {
   "cell_type": "markdown",
   "id": "25d81475-ee3d-452b-a6ad-b4998d612844",
   "metadata": {},
   "source": [
    "Here, predict() returns a string array, since iris.target_names was for fitting."
   ]
  },
  {
   "cell_type": "markdown",
   "id": "fcbc8a97-f2fe-4f7e-a1fb-4ebd44b60755",
   "metadata": {},
   "source": [
    "## Support Vector Machines Algorithm(SVM)\n",
    "SVM is a supervised machine learning algorithm that can be used for both classificaiton or regression challenges.[11]. In this algorithm, we plot each data item as a point on a graph. This is called a __Support Vector.__  \n",
    "A Support Vector Machine then is a frontier which best segregates data on a graph.[11]\n",
    "\n",
    "### Classification \n",
    "SVC, NuSVC and LinearSVC are classes able to perform binary and multi-class classification on a dataset.  \n",
    "SVC and NuSVC are very similar. The difference is that they accept different parameters an have different mathematical formulations.\n",
    "\n",
    "LinearSVC is a faster implementation of SVC for the case of a linear kernel. A linear kernel is used when the data is linearly separable i.e. can be separated using a single line. It is mostly used when there are a large number of features in a data set e.g. text classification. Each alphabet is a new feature. [12]\n",
    "\n",
    "The main advantage of using a linear kernel is that the training process is faster than any other kernel.\n"
   ]
  },
  {
   "cell_type": "code",
   "execution_count": 17,
   "id": "29b8c096-0770-4b31-84ab-022bb05e1e3a",
   "metadata": {},
   "outputs": [],
   "source": [
    "import numpy as np\n",
    "import matplotlib.pyplot as plt\n",
    "from sklearn import svm, datasets\n",
    "\n",
    "#import data\n",
    "iris = datasets.load_iris()"
   ]
  },
  {
   "cell_type": "code",
   "execution_count": 18,
   "id": "33128d79-a4a6-48f7-beaf-1daa72b5085e",
   "metadata": {},
   "outputs": [],
   "source": [
    "# Take only the first two features of Data.\n",
    "X = iris.data[:, :2]\n",
    "y = iris.target"
   ]
  },
  {
   "cell_type": "code",
   "execution_count": 19,
   "id": "2276b414-3b3a-4cae-8f59-875f62204014",
   "metadata": {},
   "outputs": [],
   "source": [
    "# C is the SVM regularization parameter\n",
    "C = 1.0 "
   ]
  },
  {
   "cell_type": "code",
   "execution_count": 22,
   "id": "47e17539-3aeb-4120-a8ad-932c7c5d96fa",
   "metadata": {},
   "outputs": [],
   "source": [
    "# Call fit so that the estimator learns from the data\n",
    "svc = svm.SVC(kernel ='linear', C = 1).fit(X, y)\n",
    "\n",
    "# create a mesh to plot\n",
    "x_min, x_max = X[:, 0].min() - 1, X[:, 0].max() + 1\n",
    "y_min, y_max = X[:, 1].min() - 1, X[:, 1].max() + 1\n",
    "h = (x_max / x_min)/100\n",
    "xx, yy = np.meshgrid(np.arange(x_min, x_max, h),\n",
    "         np.arange(y_min, y_max, h))"
   ]
  },
  {
   "cell_type": "code",
   "execution_count": 26,
   "id": "62fd3fa0-05d3-4285-9534-f26fc277944d",
   "metadata": {},
   "outputs": [
    {
     "data": {
      "image/png": "[encoded data removed]",
      "text/plain": [
       "<Figure size 432x288 with 1 Axes>"
      ]
     },
     "metadata": {
      "needs_background": "light"
     },
     "output_type": "display_data"
    }
   ],
   "source": [
    "# Plot the data for Proper Visual Representation\n",
    "plt.subplot(1, 1, 1)\n",
    "\n",
    "# Predict the result by giving Data to the model\n",
    "Z = svc.predict(np.c_[xx.ravel(), yy.ravel()])\n",
    "Z = Z.reshape(xx.shape)\n",
    "plt.contourf(xx, yy, Z, cmap = plt.cm.Paired, alpha = 0.8)\n",
    "\n",
    "plt.scatter(X[:, 0], X[:, 1], c = y, cmap = plt.cm.Paired)\n",
    "plt.xlabel('Sepal length')\n",
    "plt.ylabel('Sepal width')\n",
    "plt.xlim(xx.min(), xx.max())\n",
    "plt.title('SVC with linear kernel')\n",
    "  \n",
    "# Output the Plot\n",
    "plt.show()"
   ]
  },
  {
   "cell_type": "markdown",
   "id": "90be5421-4c20-4250-8587-38e52ccafb0a",
   "metadata": {},
   "source": [
    "In this graph, all features are separated using simple lines, which represents the linear kernel."
   ]
  },
  {
   "cell_type": "markdown",
   "id": "e658825d-92c0-4a86-80b4-df903d79fe2f",
   "metadata": {},
   "source": [
    "### Refitting and updating parameters\n",
    "Hyper-parameters of an estimator can be updated after it has been constructed via the set_params() method. Calling fit() more than once will overwrite what was learned by any previous fit():  \n",
    "\n",
    "Hyper-parameters are parameters that are not directly learnt within estimators. In scikit-learn they are passed as arguments to the constructor of the estimator classes. Typical examples include C, kernel and gamma for Support Vector Classifier, alpha for Lasso, etc.[10]"
   ]
  },
  {
   "cell_type": "code",
   "execution_count": 8,
   "id": "bf8d6d60-a3ea-43e5-b97e-9edf8f203b2c",
   "metadata": {},
   "outputs": [],
   "source": [
    "from sklearn.datasets import load_iris\n",
    "from sklearn.svm import SVC\n",
    "X, y = load_iris(return_X_y=True)"
   ]
  },
  {
   "cell_type": "code",
   "execution_count": null,
   "id": "a4703c18-8638-4c7c-a6a5-5a71ad119986",
   "metadata": {},
   "outputs": [],
   "source": []
  },
  {
   "cell_type": "markdown",
   "id": "529ac6ce-cb1b-40f6-89a8-273b7fc71ed0",
   "metadata": {},
   "source": [
    "## References\n",
    "[1] https://www.tutorialspoint.com/scikit_learn/scikit_learn_introduction.htm  \n",
    "\n",
    "[2] https://www.edureka.co/blog/classification-in-machine-learning/  \n",
    "\n",
    "[3] https://medium.datadriveninvestor.com/regression-in-machine-learning-296caae933ec  \n",
    "\n",
    "[4] https://developers.google.com/machine-learning/clustering/overview  \n",
    "\n",
    "[5] https://machinelearningmastery.com/dimensionality-reduction-for-machine-learning/  \n",
    "\n",
    "[6] https://scikit-learn.org/stable/getting_started.html  \n",
    "\n",
    "[7] https://scikit-learn.org/stable/glossary.html#term-feature  \n",
    "\n",
    "[8] https://scikit-learn.org/stable/tutorial/basic/tutorial.html#loading-an-example-dataset\n",
    "\n",
    "[9] https://scikit-learn.org/stable/auto_examples/datasets/plot_digits_last_image.html  \n",
    "\n",
    "[10] https://scikit-learn.org/stable/modules/grid_search.html  \n",
    "\n",
    "[11] https://www.analyticsvidhya.com/blog/2014/10/support-vector-machine-simplified/?utm_source=blog&utm_medium=understandingsupportvectormachinearticle  \n",
    "\n",
    "[12] https://www.geeksforgeeks.org/creating-linear-kernel-svm-in-python/"
   ]
  },
  {
   "cell_type": "code",
   "execution_count": null,
   "id": "dd97db67-802e-4728-8895-216b730c5ea0",
   "metadata": {},
   "outputs": [],
   "source": []
  }
 ],
 "metadata": {
  "kernelspec": {
   "display_name": "Python 3",
   "language": "python",
   "name": "python3"
  },
  "language_info": {
   "codemirror_mode": {
    "name": "ipython",
    "version": 3
   },
   "file_extension": ".py",
   "mimetype": "text/x-python",
   "name": "python",
   "nbconvert_exporter": "python",
   "pygments_lexer": "ipython3",
   "version": "3.8.8"
  }
 },
 "nbformat": 4,
 "nbformat_minor": 5
}
