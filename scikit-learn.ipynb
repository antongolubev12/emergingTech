{
 "cells": [
  {
   "cell_type": "markdown",
   "id": "cc43a21b-b844-4156-aad8-4e0532d8a982",
   "metadata": {},
   "source": [
    "# The Scikit Learn Python Library"
   ]
  },
  {
   "cell_type": "markdown",
   "id": "534afa50-7213-4429-b9e2-a5636d46630c",
   "metadata": {},
   "source": [
    "The scikit-learn (Sklearn) library contains simple and efficient tolls for predictive data analysis.\n",
    "\n",
    "It is the most useful and robust library for machine learning in Python. It provides a range of efficient tools for machine learning and statistical modeling [1]\n",
    "It includes tools for:\n",
    "- Classification: A process of categorizing a set of data into classes. Can be done on structured and unstructured data [2]\n",
    "- Regression: Regression models are used to predict a continuous value.[3]\n",
    "- Clustering : Clustering is grouping unlabeled examples to understand a data set. Common applications of clustering includes social netwrok analysis, search result grouping, medical imaging[4]\n",
    "- Dimensionality reduction: Techniques that reduce the number of input variable in training data. High demensional data might have hundres, thousands or even millions of input variables. Fewer inputs means fewer parameters or a simpler structure in the machine learning model. [5]\n",
    "\n",
    "SKlearn is built upon NumPy, SciPy and Matplotlib\n",
    "\n",
    "\n"
   ]
  },
  {
   "cell_type": "markdown",
   "id": "9260b744-526d-42b1-b330-35ab6e6c032a",
   "metadata": {},
   "source": [
    "## Features\n",
    "The Scikit-learn library is focused on modeling data. Some of the most popular models in the library include:\n",
    "- Supervised learning algorithms : Almost all of the popular learning algorithms are part of scikit-learn. E.g. Linear Regression, Support Vector Machine, Decision Tree\n",
    "- Unsupervised learning algorithms: Also has the popular unsupervised learning algorithms. E.g. clustering, factor analysis, PCA.\n",
    "- Cross Validation : Used to check the accuracy of supervised models on unseen data'\n",
    "- Ensemble Methods: Used to check the accuracy of supervised models on unseen data."
   ]
  },
  {
   "cell_type": "markdown",
   "id": "aa053361-e834-4d52-b2fc-12921a7dca84",
   "metadata": {},
   "source": [
    "## To use this library:\n",
    "You must install NumPy and Scipy.\n",
    "If you have NumPy and Scipy already installed, the easiest way to install sckikit-learn is:\n",
    "##### In conda:\n",
    "```\n",
    "conda install scikit-learn\n",
    "```"
   ]
  },
  {
   "cell_type": "code",
   "execution_count": null,
   "id": "64b5bbe0-be73-4222-85cb-630a9effb8a3",
   "metadata": {},
   "outputs": [],
   "source": []
  },
  {
   "cell_type": "code",
   "execution_count": null,
   "id": "ff37e8d9-0be5-4673-9820-a65c01e65dfb",
   "metadata": {},
   "outputs": [],
   "source": []
  },
  {
   "cell_type": "code",
   "execution_count": null,
   "id": "f34a31a0-7a64-494b-b4b1-4bb2c71b2ad4",
   "metadata": {},
   "outputs": [],
   "source": []
  },
  {
   "cell_type": "markdown",
   "id": "529ac6ce-cb1b-40f6-89a8-273b7fc71ed0",
   "metadata": {},
   "source": [
    "## References\n",
    "[1] https://www.tutorialspoint.com/scikit_learn/scikit_learn_introduction.htm\n",
    "[2] https://www.edureka.co/blog/classification-in-machine-learning/\n",
    "[3] https://medium.datadriveninvestor.com/regression-in-machine-learning-296caae933ec\n",
    "[4] https://developers.google.com/machine-learning/clustering/overview\n",
    "[5] https://machinelearningmastery.com/dimensionality-reduction-for-machine-learning/\n"
   ]
  }
 ],
 "metadata": {
  "kernelspec": {
   "display_name": "Python 3",
   "language": "python",
   "name": "python3"
  },
  "language_info": {
   "codemirror_mode": {
    "name": "ipython",
    "version": 3
   },
   "file_extension": ".py",
   "mimetype": "text/x-python",
   "name": "python",
   "nbconvert_exporter": "python",
   "pygments_lexer": "ipython3",
   "version": "3.8.8"
  }
 },
 "nbformat": 4,
 "nbformat_minor": 5
}
